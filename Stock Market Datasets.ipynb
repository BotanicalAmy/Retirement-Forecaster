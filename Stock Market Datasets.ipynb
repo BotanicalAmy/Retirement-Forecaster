{
 "cells": [
  {
   "cell_type": "code",
   "execution_count": 1,
   "id": "52bf26b3",
   "metadata": {},
   "outputs": [],
   "source": [
    "from scipy.stats import uniform\n",
    "from scipy.stats import norm\n",
    "import statistics as stat\n",
    "import matplotlib.pyplot as plt\n",
    "import pandas as pd\n",
    "import numpy as np\n",
    "import seaborn as sns"
   ]
  },
  {
   "cell_type": "markdown",
   "id": "5c32f74b",
   "metadata": {},
   "source": [
    "## Portfolio Investment Returns\n",
    "\n",
    "Historical returns from 1928 until present were collected.  Three additional columns were created based on a 80% portfolio investment (Aggressive), a 65% stock investment (Moderate), and a 50% stock investment (Conservative)."
   ]
  },
  {
   "cell_type": "code",
   "execution_count": 2,
   "id": "165521d0",
   "metadata": {},
   "outputs": [
    {
     "name": "stdout",
     "output_type": "stream",
     "text": [
      "Year            1975.000000\n",
      "S&P 500            0.115065\n",
      "Aggressive         0.092052\n",
      "Moderate           0.074793\n",
      "Conservative       0.057533\n",
      "dtype: float64\n"
     ]
    }
   ],
   "source": [
    "returns = pd.read_excel('Data/StockReturns.xlsx')\n",
    "returns.head()\n",
    "print(returns.mean())"
   ]
  },
  {
   "cell_type": "markdown",
   "id": "1dd5f0a5",
   "metadata": {},
   "source": [
    "### Creating future return distributions\n",
    "\n",
    "From the historical stock return data, samples means were generated to create a normalized distribution.  This list of probable returns will be used to forecast future portfolio performance."
   ]
  },
  {
   "cell_type": "code",
   "execution_count": 3,
   "id": "7ff991fb",
   "metadata": {},
   "outputs": [],
   "source": [
    "#S&P 500 return rates, fewer samples were taken to increase the volatility\n",
    "norm_returns = []\n",
    "\n",
    "for i in range(500):\n",
    "    sample = returns['S&P 500'].sample(5)\n",
    "    sample_mean = np.mean(sample)\n",
    "    norm_returns.append(sample_mean)\n",
    "\n",
    "#creating a new dataframe (csv) file for the future return rates\n",
    "future_returns = pd.DataFrame(norm_returns, columns=['S&P Future'])"
   ]
  },
  {
   "cell_type": "code",
   "execution_count": 4,
   "id": "b2f6f287",
   "metadata": {},
   "outputs": [],
   "source": [
    "#Aggresive return rates\n",
    "aggresive_returns = []\n",
    "\n",
    "for i in range(500):\n",
    "    sample = returns['Aggressive'].sample(10)\n",
    "    sample_mean = np.mean(sample)\n",
    "    aggresive_returns.append(sample_mean)\n",
    "\n",
    "#adding the aggresive future returns to the futures dataframe\n",
    "future_returns['Aggressive Future'] = aggresive_returns"
   ]
  },
  {
   "cell_type": "code",
   "execution_count": 5,
   "id": "cd0da88b",
   "metadata": {},
   "outputs": [],
   "source": [
    "#Moderate return rates\n",
    "moderate_returns = []\n",
    "\n",
    "for i in range(500):\n",
    "    sample = returns['Moderate'].sample(20)\n",
    "    sample_mean = np.mean(sample)\n",
    "    moderate_returns.append(sample_mean)\n",
    "\n",
    "#adding the aggresive future returns to the futures dataframe\n",
    "future_returns['Moderate Future'] = moderate_returns"
   ]
  },
  {
   "cell_type": "code",
   "execution_count": 6,
   "id": "cecac058",
   "metadata": {},
   "outputs": [],
   "source": [
    "#Conservative return rates, greater samples were taken to decrease the volatility\n",
    "conservative_returns = []\n",
    "\n",
    "for i in range(500):\n",
    "    sample = returns['Conservative'].sample(30)\n",
    "    sample_mean = np.mean(sample)\n",
    "    conservative_returns.append(sample_mean)\n",
    "\n",
    "#adding the aggresive future returns to the futures dataframe\n",
    "future_returns['Conservative Future'] = conservative_returns"
   ]
  },
  {
   "cell_type": "code",
   "execution_count": 7,
   "id": "b1dae0dd",
   "metadata": {},
   "outputs": [],
   "source": [
    "future_returns.to_csv('Data/futurereturns.csv')"
   ]
  },
  {
   "cell_type": "markdown",
   "id": "ddbcca2c",
   "metadata": {},
   "source": [
    "## Plotting the return rate distributions\n",
    "\n",
    "After researching historical portfolio performance, I worked with both the mean sample sizes and the return rate columns from the historical table to create return distributions that best matched expected portfolio performance.\n",
    "\n",
    "While the S&P 500 returns have the greatest spread, this set of returns also has the highest return rate.\n",
    "As you shift from aggressive down to moderate, the distribution tightens, but the average return rate also decreases. The conservative investment will be the most predictable, but have the lowest average return.\n",
    "\n",
    "### Research Source:\n",
    "https://www.sciencedirect.com/science/article/pii/S2405473915000331\n",
    "I used this article, in addition to working with a local wealth management firm to compare this hypothetical future performance to industry expectations."
   ]
  },
  {
   "cell_type": "code",
   "execution_count": 8,
   "id": "57d5a4f8",
   "metadata": {},
   "outputs": [
    {
     "data": {
      "text/plain": [
       "<matplotlib.legend.Legend at 0x7f8a7190e2b0>"
      ]
     },
     "execution_count": 8,
     "metadata": {},
     "output_type": "execute_result"
    },
    {
     "data": {
      "image/png": "[encoded data removed]",
      "text/plain": [
       "<Figure size 640x480 with 1 Axes>"
      ]
     },
     "metadata": {},
     "output_type": "display_data"
    }
   ],
   "source": [
    "plt.hist(future_returns['S&P Future'], bins=50, alpha=0.7, color='#e9e9ee')\n",
    "plt.hist(future_returns['Aggressive Future'], bins=50, alpha=0.7, color='#c7c2d6')\n",
    "plt.hist(future_returns['Moderate Future'], bins=50, alpha=0.7, color='#787380')\n",
    "plt.hist(future_returns['Conservative Future'], bins=50, alpha=0.7, color='#494351')\n",
    "plt.legend(['S&P Future', 'Aggressive Future', 'Moderate Future', 'Conservative Future'])"
   ]
  },
  {
   "cell_type": "code",
   "execution_count": 9,
   "id": "0156b64e",
   "metadata": {},
   "outputs": [
    {
     "data": {
      "text/html": [
       "<div>\n",
       "<style scoped>\n",
       "    .dataframe tbody tr th:only-of-type {\n",
       "        vertical-align: middle;\n",
       "    }\n",
       "\n",
       "    .dataframe tbody tr th {\n",
       "        vertical-align: top;\n",
       "    }\n",
       "\n",
       "    .dataframe thead th {\n",
       "        text-align: right;\n",
       "    }\n",
       "</style>\n",
       "<table border=\"1\" class=\"dataframe\">\n",
       "  <thead>\n",
       "    <tr style=\"text-align: right;\">\n",
       "      <th></th>\n",
       "      <th>Mean</th>\n",
       "      <th>Standard Deviation</th>\n",
       "      <th>Variance</th>\n",
       "    </tr>\n",
       "    <tr>\n",
       "      <th>Return Rates</th>\n",
       "      <th></th>\n",
       "      <th></th>\n",
       "      <th></th>\n",
       "    </tr>\n",
       "  </thead>\n",
       "  <tbody>\n",
       "    <tr>\n",
       "      <th>S&amp;P Future</th>\n",
       "      <td>0.113100</td>\n",
       "      <td>0.086866</td>\n",
       "      <td>0.007561</td>\n",
       "    </tr>\n",
       "    <tr>\n",
       "      <th>Aggressive Future</th>\n",
       "      <td>0.095249</td>\n",
       "      <td>0.048263</td>\n",
       "      <td>0.002334</td>\n",
       "    </tr>\n",
       "    <tr>\n",
       "      <th>Moderate Future</th>\n",
       "      <td>0.075750</td>\n",
       "      <td>0.025390</td>\n",
       "      <td>0.000646</td>\n",
       "    </tr>\n",
       "    <tr>\n",
       "      <th>Conservative Future</th>\n",
       "      <td>0.056779</td>\n",
       "      <td>0.014736</td>\n",
       "      <td>0.000218</td>\n",
       "    </tr>\n",
       "  </tbody>\n",
       "</table>\n",
       "</div>"
      ],
      "text/plain": [
       "                         Mean  Standard Deviation  Variance\n",
       "Return Rates                                               \n",
       "S&P Future           0.113100            0.086866  0.007561\n",
       "Aggressive Future    0.095249            0.048263  0.002334\n",
       "Moderate Future      0.075750            0.025390  0.000646\n",
       "Conservative Future  0.056779            0.014736  0.000218"
      ]
     },
     "metadata": {},
     "output_type": "display_data"
    }
   ],
   "source": [
    "statistics = {'Return Rates': ['S&P Future', 'Aggressive Future', 'Moderate Future', 'Conservative Future'],\n",
    "            'Mean': [np.mean(future_returns['S&P Future']), np.mean(future_returns['Aggressive Future']), np.mean(future_returns['Moderate Future']), np.mean(future_returns['Conservative Future'])],\n",
    "            'Standard Deviation': [np.std(future_returns['S&P Future']), np.std(future_returns['Aggressive Future']), np.std(future_returns['Moderate Future']), np.std(future_returns['Conservative Future'])],\n",
    "             'Variance': [stat.variance(future_returns['S&P Future']), stat.variance(future_returns['Aggressive Future']), stat.variance(future_returns['Moderate Future']), stat.variance(future_returns['Conservative Future'])]}   \n",
    "                                                                                                      \n",
    "statistics_table = pd.DataFrame.from_dict(statistics).set_index('Return Rates')                      \n",
    "display(statistics_table)"
   ]
  },
  {
   "cell_type": "code",
   "execution_count": null,
   "id": "fb50bfb1",
   "metadata": {},
   "outputs": [],
   "source": []
  }
 ],
 "metadata": {
  "kernelspec": {
   "display_name": "Python 3 (ipykernel)",
   "language": "python",
   "name": "python3"
  },
  "language_info": {
   "codemirror_mode": {
    "name": "ipython",
    "version": 3
   },
   "file_extension": ".py",
   "mimetype": "text/x-python",
   "name": "python",
   "nbconvert_exporter": "python",
   "pygments_lexer": "ipython3",
   "version": "3.9.13"
  }
 },
 "nbformat": 4,
 "nbformat_minor": 5
}
