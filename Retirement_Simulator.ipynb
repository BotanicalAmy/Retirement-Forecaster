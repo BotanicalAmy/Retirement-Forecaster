{
 "cells": [
  {
   "cell_type": "code",
   "execution_count": 513,
   "id": "52bf26b3",
   "metadata": {},
   "outputs": [],
   "source": [
    "from scipy.stats import uniform, norm, iqr\n",
    "from statistics import NormalDist\n",
    "import statistics as stat\n",
    "import matplotlib.pyplot as plt\n",
    "import pandas as pd\n",
    "import numpy as np\n",
    "import random\n",
    "import seaborn as sns\n",
    "from IPython.display import Image\n",
    "from datetime import datetime\n",
    "import plotly.express as px"
   ]
  },
  {
   "cell_type": "markdown",
   "id": "5c32f74b",
   "metadata": {},
   "source": [
    "## Portfolio Investment Returns\n",
    "\n",
    "Historical returns from 1928 until present were collected.  Three additional columns were created based on a 80% portfolio investment (Aggressive), a 65% stock investment (Moderate), and a 50% stock investment (Conservative)."
   ]
  },
  {
   "cell_type": "code",
   "execution_count": 514,
   "id": "165521d0",
   "metadata": {},
   "outputs": [
    {
     "data": {
      "text/html": [
       "<div>\n",
       "<style scoped>\n",
       "    .dataframe tbody tr th:only-of-type {\n",
       "        vertical-align: middle;\n",
       "    }\n",
       "\n",
       "    .dataframe tbody tr th {\n",
       "        vertical-align: top;\n",
       "    }\n",
       "\n",
       "    .dataframe thead th {\n",
       "        text-align: right;\n",
       "    }\n",
       "</style>\n",
       "<table border=\"1\" class=\"dataframe\">\n",
       "  <thead>\n",
       "    <tr style=\"text-align: right;\">\n",
       "      <th></th>\n",
       "      <th>Return Rate</th>\n",
       "    </tr>\n",
       "  </thead>\n",
       "  <tbody>\n",
       "    <tr>\n",
       "      <th>S&amp;P 500</th>\n",
       "      <td>11.66</td>\n",
       "    </tr>\n",
       "    <tr>\n",
       "      <th>Aggressive</th>\n",
       "      <td>9.33</td>\n",
       "    </tr>\n",
       "    <tr>\n",
       "      <th>Moderate</th>\n",
       "      <td>7.58</td>\n",
       "    </tr>\n",
       "    <tr>\n",
       "      <th>Conservative</th>\n",
       "      <td>5.83</td>\n",
       "    </tr>\n",
       "  </tbody>\n",
       "</table>\n",
       "</div>"
      ],
      "text/plain": [
       "              Return Rate\n",
       "S&P 500             11.66\n",
       "Aggressive           9.33\n",
       "Moderate             7.58\n",
       "Conservative         5.83"
      ]
     },
     "execution_count": 514,
     "metadata": {},
     "output_type": "execute_result"
    }
   ],
   "source": [
    "returns = pd.read_excel('Data/StockReturns.xlsx')\n",
    "returns.head()\n",
    "return_rates = pd.DataFrame((returns[['S&P 500', 'Aggressive', 'Moderate', 'Conservative']].mean()*100).round(2))\n",
    "return_rates.columns = ['Return Rate']\n",
    "return_rates \n"
   ]
  },
  {
   "cell_type": "markdown",
   "id": "1dd5f0a5",
   "metadata": {},
   "source": [
    "### Creating future return distributions\n",
    "\n",
    "From the historical stock return data, samples means were generated to create a normalized distribution.  This list of probable returns will be used to forecast future portfolio performance."
   ]
  },
  {
   "cell_type": "code",
   "execution_count": 515,
   "id": "7ff991fb",
   "metadata": {},
   "outputs": [],
   "source": [
    "#S&P 500 return rates, fewer samples were taken to increase the volatility\n",
    "norm_returns = []\n",
    "\n",
    "for i in range(500):\n",
    "    sample = returns['S&P 500'].sample(5)\n",
    "    sample_mean = np.mean(sample)\n",
    "    norm_returns.append(sample_mean)\n",
    "\n",
    "#creating a new dataframe (csv) file for the future return rates\n",
    "future_returns = pd.DataFrame(norm_returns, columns=['S&P Future'])"
   ]
  },
  {
   "cell_type": "code",
   "execution_count": 516,
   "id": "b2f6f287",
   "metadata": {},
   "outputs": [],
   "source": [
    "#Aggresive return rates\n",
    "aggresive_returns = []\n",
    "\n",
    "for i in range(500):\n",
    "    sample = returns['Aggressive'].sample(10)\n",
    "    sample_mean = np.mean(sample)\n",
    "    aggresive_returns.append(sample_mean)\n",
    "\n",
    "#adding the aggresive future returns to the futures dataframe\n",
    "future_returns['Aggressive Future'] = aggresive_returns"
   ]
  },
  {
   "cell_type": "code",
   "execution_count": 517,
   "id": "cd0da88b",
   "metadata": {},
   "outputs": [],
   "source": [
    "#Moderate return rates\n",
    "moderate_returns = []\n",
    "\n",
    "for i in range(500):\n",
    "    sample = returns['Moderate'].sample(20)\n",
    "    sample_mean = np.mean(sample)\n",
    "    moderate_returns.append(sample_mean)\n",
    "\n",
    "#adding the aggresive future returns to the futures dataframe\n",
    "future_returns['Moderate Future'] = moderate_returns"
   ]
  },
  {
   "cell_type": "code",
   "execution_count": 518,
   "id": "cecac058",
   "metadata": {},
   "outputs": [],
   "source": [
    "#Conservative return rates, greater samples were taken to decrease the volatility\n",
    "conservative_returns = []\n",
    "\n",
    "for i in range(500):\n",
    "    sample = returns['Conservative'].sample(30)\n",
    "    sample_mean = np.mean(sample)\n",
    "    conservative_returns.append(sample_mean)\n",
    "\n",
    "#adding the aggresive future returns to the futures dataframe\n",
    "future_returns['Conservative Future'] = conservative_returns"
   ]
  },
  {
   "cell_type": "code",
   "execution_count": 519,
   "id": "b1dae0dd",
   "metadata": {},
   "outputs": [],
   "source": [
    "future_returns.to_csv('Data/futurereturns.csv')"
   ]
  },
  {
   "cell_type": "markdown",
   "id": "ddbcca2c",
   "metadata": {},
   "source": [
    "## Plotting the return rate distributions\n",
    "\n",
    "After researching historical portfolio performance, I worked with both the mean sample sizes and the return rate columns from the historical table to create return distributions that best matched expected portfolio performance.\n",
    "\n",
    "While the S&P 500 returns have the greatest spread, this set of returns also has the highest return rate.\n",
    "As you shift from aggressive down to moderate, the distribution tightens, but the average return rate also decreases. The conservative investment will be the most predictable, but have the lowest average return.\n",
    "\n",
    "### Sources:\n",
    "[Stock Market Performance](https://www.sciencedirect.com/science/article/pii/S2405473915000331) <br>\n",
    "I analyzed historical stock trends and consulted with a local wealth management firm to compare this hypothetical future performance to industry expectations."
   ]
  },
  {
   "cell_type": "code",
   "execution_count": 520,
   "id": "57d5a4f8",
   "metadata": {},
   "outputs": [
    {
     "data": {
      "text/plain": [
       "<matplotlib.legend.Legend at 0x7fb144d97250>"
      ]
     },
     "execution_count": 520,
     "metadata": {},
     "output_type": "execute_result"
    },
    {
     "data": {
      "image/png": "[encoded data removed]",
      "text/plain": [
       "<Figure size 640x480 with 1 Axes>"
      ]
     },
     "metadata": {},
     "output_type": "display_data"
    }
   ],
   "source": [
    "plt.hist(future_returns['S&P Future'], bins=50, alpha=0.7, color='#e9e9ee')\n",
    "plt.hist(future_returns['Aggressive Future'], bins=50, alpha=0.7, color='#c7c2d6')\n",
    "plt.hist(future_returns['Moderate Future'], bins=50, alpha=0.7, color='#787380')\n",
    "plt.hist(future_returns['Conservative Future'], bins=50, alpha=0.7, color='#494351')\n",
    "plt.legend(['S&P Future', 'Aggressive Future', 'Moderate Future', 'Conservative Future'])"
   ]
  },
  {
   "cell_type": "code",
   "execution_count": 521,
   "id": "0156b64e",
   "metadata": {},
   "outputs": [
    {
     "data": {
      "text/html": [
       "<div>\n",
       "<style scoped>\n",
       "    .dataframe tbody tr th:only-of-type {\n",
       "        vertical-align: middle;\n",
       "    }\n",
       "\n",
       "    .dataframe tbody tr th {\n",
       "        vertical-align: top;\n",
       "    }\n",
       "\n",
       "    .dataframe thead th {\n",
       "        text-align: right;\n",
       "    }\n",
       "</style>\n",
       "<table border=\"1\" class=\"dataframe\">\n",
       "  <thead>\n",
       "    <tr style=\"text-align: right;\">\n",
       "      <th></th>\n",
       "      <th>Mean</th>\n",
       "      <th>Std Dev</th>\n",
       "      <th>Variance</th>\n",
       "      <th>IQR</th>\n",
       "      <th>Q1</th>\n",
       "      <th>Q3</th>\n",
       "      <th>95% Conf</th>\n",
       "    </tr>\n",
       "    <tr>\n",
       "      <th>Return Rates</th>\n",
       "      <th></th>\n",
       "      <th></th>\n",
       "      <th></th>\n",
       "      <th></th>\n",
       "      <th></th>\n",
       "      <th></th>\n",
       "      <th></th>\n",
       "    </tr>\n",
       "  </thead>\n",
       "  <tbody>\n",
       "    <tr>\n",
       "      <th>S&amp;P Future</th>\n",
       "      <td>11.30</td>\n",
       "      <td>8.61</td>\n",
       "      <td>0.74</td>\n",
       "      <td>12.18</td>\n",
       "      <td>5.45</td>\n",
       "      <td>17.62</td>\n",
       "      <td>(-5.92, 28.52)</td>\n",
       "    </tr>\n",
       "    <tr>\n",
       "      <th>Aggressive Future</th>\n",
       "      <td>9.23</td>\n",
       "      <td>4.77</td>\n",
       "      <td>0.23</td>\n",
       "      <td>5.84</td>\n",
       "      <td>6.29</td>\n",
       "      <td>12.13</td>\n",
       "      <td>(-0.3, 18.76)</td>\n",
       "    </tr>\n",
       "    <tr>\n",
       "      <th>Moderate Future</th>\n",
       "      <td>7.50</td>\n",
       "      <td>2.64</td>\n",
       "      <td>0.07</td>\n",
       "      <td>3.63</td>\n",
       "      <td>5.71</td>\n",
       "      <td>9.33</td>\n",
       "      <td>(2.23, 12.78)</td>\n",
       "    </tr>\n",
       "    <tr>\n",
       "      <th>Conservative Future</th>\n",
       "      <td>5.82</td>\n",
       "      <td>1.49</td>\n",
       "      <td>0.02</td>\n",
       "      <td>2.01</td>\n",
       "      <td>4.89</td>\n",
       "      <td>6.91</td>\n",
       "      <td>(2.84, 8.79)</td>\n",
       "    </tr>\n",
       "  </tbody>\n",
       "</table>\n",
       "</div>"
      ],
      "text/plain": [
       "                      Mean  Std Dev  Variance    IQR    Q1     Q3  \\\n",
       "Return Rates                                                        \n",
       "S&P Future           11.30     8.61      0.74  12.18  5.45  17.62   \n",
       "Aggressive Future     9.23     4.77      0.23   5.84  6.29  12.13   \n",
       "Moderate Future       7.50     2.64      0.07   3.63  5.71   9.33   \n",
       "Conservative Future   5.82     1.49      0.02   2.01  4.89   6.91   \n",
       "\n",
       "                           95% Conf  \n",
       "Return Rates                         \n",
       "S&P Future           (-5.92, 28.52)  \n",
       "Aggressive Future     (-0.3, 18.76)  \n",
       "Moderate Future       (2.23, 12.78)  \n",
       "Conservative Future    (2.84, 8.79)  "
      ]
     },
     "metadata": {},
     "output_type": "display_data"
    }
   ],
   "source": [
    "def IQR(dist):\n",
    "    return np.percentile(dist, 75) - np.percentile(dist, 25)\n",
    "\n",
    "def Q1(dist):\n",
    "    return np.percentile(dist, 25)\n",
    "\n",
    "def Q3(dist):\n",
    "    return np.percentile(dist, 75)\n",
    "\n",
    "def confidence_interval(dist):\n",
    "  dist_avg = np.mean(dist)\n",
    "  dist_std = np.std(dist)\n",
    "  conf_top = ((dist_avg + (2 * dist_std))*100)\n",
    "  conf_bottom = ((dist_avg - (2 * dist_std))*100)\n",
    "  return round(conf_bottom,2), round(conf_top,2)\n",
    "\n",
    "statistics = {'Return Rates': ['S&P Future', 'Aggressive Future', 'Moderate Future', 'Conservative Future'],\n",
    "            'Mean': [np.mean(future_returns['S&P Future']), np.mean(future_returns['Aggressive Future']), np.mean(future_returns['Moderate Future']), np.mean(future_returns['Conservative Future'])],\n",
    "            'Std Dev': [np.std(future_returns['S&P Future']), np.std(future_returns['Aggressive Future']), np.std(future_returns['Moderate Future']), np.std(future_returns['Conservative Future'])],\n",
    "            'Variance': [stat.variance(future_returns['S&P Future']), stat.variance(future_returns['Aggressive Future']), stat.variance(future_returns['Moderate Future']), stat.variance(future_returns['Conservative Future'])],\n",
    "            'IQR': [IQR(future_returns['S&P Future']), IQR(future_returns['Aggressive Future']), IQR(future_returns['Moderate Future']), IQR(future_returns['Conservative Future'])],\n",
    "            'Q1': [Q1(future_returns['S&P Future']), Q1(future_returns['Aggressive Future']), Q1(future_returns['Moderate Future']), Q1(future_returns['Conservative Future'])],\n",
    "            'Q3': [Q3(future_returns['S&P Future']), Q3(future_returns['Aggressive Future']), Q3(future_returns['Moderate Future']), Q3(future_returns['Conservative Future'])]}   \n",
    "                                                                                                      \n",
    "statistics_table = pd.DataFrame.from_dict(statistics).set_index('Return Rates')           \n",
    "#multiply all the values in the table by 100 to get percentage values\n",
    "statistics_table = (statistics_table*100).round(2)\n",
    "statistics_table['95% Conf'] = [confidence_interval(future_returns['S&P Future']), confidence_interval(future_returns['Aggressive Future']), confidence_interval(future_returns['Moderate Future']), confidence_interval(future_returns['Conservative Future'])]\n",
    "display(statistics_table)\n",
    "\n",
    "#the averages below are pulled from the entire distribution of samples, as variability increases the actual return on investement will be more uncertain\n",
    "#the confidence interval is calculated by taking the average return rate and adding or subtracting 2 standard deviations\n"
   ]
  },
  {
   "cell_type": "markdown",
   "id": "55c3e7bc",
   "metadata": {},
   "source": [
    "## A random walk through probability\n",
    "\n",
    "The random walk theory claims that stock prices are not influenced by history, but rather a random walk that follows an upward slope. Additionally, the Black-Scholes/Merton equation explores the probability distribution of the markets in great depth, focusing on the correlation between brownian motion and the probability distrubtion found in finances.\n",
    "\n",
    "I investigated the directions of change (derivatives) from 1928 to 2023, and found that the expected distribution resulted in 41 years with an increase in rate of return, and 52 years of decrease. Looking at the visual of my analysis, the stock market was positive for 70 of the 96 years surveyed, and negative for 26 of those years.\n",
    "\n",
    "The goal of this retirement simulator is to simulate the same patterns found in the historical stock market to forecast the probable distribution of future returns. <br><br>\n",
    "\n",
    "<img src=\"Images/StockPatterns.jpg\" width=\"900\" height=\"610\">\n",
    "\n",
    "### Sources:\n",
    "[Random Walk](https://www.sciencedirect.com/science/article/pii/S2405473915000331) <br>\n",
    "[Black-Scholes/Merton Equation](https://www.youtube.com/watch?v=A5w-dEgIU1M)\n",
    "\n",
    "*I can calculate the motion of heavenly bodies, but not the madness of people.” — Sir Isaac Newton.*\n",
    "\n",
    "\n",
    "\n"
   ]
  },
  {
   "cell_type": "code",
   "execution_count": 522,
   "id": "6c492a05",
   "metadata": {},
   "outputs": [
    {
     "data": {
      "text/html": [
       "<div>\n",
       "<style scoped>\n",
       "    .dataframe tbody tr th:only-of-type {\n",
       "        vertical-align: middle;\n",
       "    }\n",
       "\n",
       "    .dataframe tbody tr th {\n",
       "        vertical-align: top;\n",
       "    }\n",
       "\n",
       "    .dataframe thead th {\n",
       "        text-align: right;\n",
       "    }\n",
       "</style>\n",
       "<table border=\"1\" class=\"dataframe\">\n",
       "  <thead>\n",
       "    <tr style=\"text-align: right;\">\n",
       "      <th></th>\n",
       "      <th>S&amp;P Future</th>\n",
       "      <th>Aggressive Future</th>\n",
       "      <th>Moderate Future</th>\n",
       "      <th>Conservative Future</th>\n",
       "    </tr>\n",
       "  </thead>\n",
       "  <tbody>\n",
       "    <tr>\n",
       "      <th>0</th>\n",
       "      <td>-0.044071</td>\n",
       "      <td>0.060144</td>\n",
       "      <td>0.095311</td>\n",
       "      <td>0.068313</td>\n",
       "    </tr>\n",
       "    <tr>\n",
       "      <th>1</th>\n",
       "      <td>0.091229</td>\n",
       "      <td>0.067640</td>\n",
       "      <td>0.017595</td>\n",
       "      <td>0.060284</td>\n",
       "    </tr>\n",
       "    <tr>\n",
       "      <th>2</th>\n",
       "      <td>0.245850</td>\n",
       "      <td>0.090423</td>\n",
       "      <td>0.121195</td>\n",
       "      <td>0.079864</td>\n",
       "    </tr>\n",
       "    <tr>\n",
       "      <th>3</th>\n",
       "      <td>0.009269</td>\n",
       "      <td>0.042085</td>\n",
       "      <td>0.112313</td>\n",
       "      <td>0.044807</td>\n",
       "    </tr>\n",
       "    <tr>\n",
       "      <th>4</th>\n",
       "      <td>0.110495</td>\n",
       "      <td>0.198230</td>\n",
       "      <td>0.101351</td>\n",
       "      <td>0.046819</td>\n",
       "    </tr>\n",
       "    <tr>\n",
       "      <th>5</th>\n",
       "      <td>0.198784</td>\n",
       "      <td>0.133505</td>\n",
       "      <td>0.099595</td>\n",
       "      <td>0.069547</td>\n",
       "    </tr>\n",
       "    <tr>\n",
       "      <th>6</th>\n",
       "      <td>0.045713</td>\n",
       "      <td>0.067643</td>\n",
       "      <td>0.053331</td>\n",
       "      <td>0.081018</td>\n",
       "    </tr>\n",
       "    <tr>\n",
       "      <th>7</th>\n",
       "      <td>0.008023</td>\n",
       "      <td>0.068025</td>\n",
       "      <td>0.100025</td>\n",
       "      <td>0.059699</td>\n",
       "    </tr>\n",
       "    <tr>\n",
       "      <th>8</th>\n",
       "      <td>0.029376</td>\n",
       "      <td>0.094672</td>\n",
       "      <td>0.072056</td>\n",
       "      <td>0.072714</td>\n",
       "    </tr>\n",
       "    <tr>\n",
       "      <th>9</th>\n",
       "      <td>0.213974</td>\n",
       "      <td>0.128399</td>\n",
       "      <td>0.119091</td>\n",
       "      <td>0.043917</td>\n",
       "    </tr>\n",
       "  </tbody>\n",
       "</table>\n",
       "</div>"
      ],
      "text/plain": [
       "   S&P Future  Aggressive Future  Moderate Future  Conservative Future\n",
       "0   -0.044071           0.060144         0.095311             0.068313\n",
       "1    0.091229           0.067640         0.017595             0.060284\n",
       "2    0.245850           0.090423         0.121195             0.079864\n",
       "3    0.009269           0.042085         0.112313             0.044807\n",
       "4    0.110495           0.198230         0.101351             0.046819\n",
       "5    0.198784           0.133505         0.099595             0.069547\n",
       "6    0.045713           0.067643         0.053331             0.081018\n",
       "7    0.008023           0.068025         0.100025             0.059699\n",
       "8    0.029376           0.094672         0.072056             0.072714\n",
       "9    0.213974           0.128399         0.119091             0.043917"
      ]
     },
     "execution_count": 522,
     "metadata": {},
     "output_type": "execute_result"
    }
   ],
   "source": [
    "future_returns.head(10)"
   ]
  },
  {
   "cell_type": "code",
   "execution_count": 523,
   "id": "d565373e",
   "metadata": {},
   "outputs": [],
   "source": [
    "#pulling the returns from the futures dataframe, preparation for the forecasting function\n",
    "aggressive = {'aggressive_investor':list(future_returns['Aggressive Future'])}\n",
    "moderate = {'moderate_investor': list(future_returns['Moderate Future'])}\n",
    "conservative = {'conservative_investor':list(future_returns['Conservative Future'])}\n",
    "nervous = {'nervous_investor':list(future_returns['Aggressive Future'])}"
   ]
  },
  {
   "cell_type": "code",
   "execution_count": 524,
   "id": "5e0f8aa6",
   "metadata": {},
   "outputs": [],
   "source": [
    "#based on the rate distribution patterns, the negative counter function is only used for the aggressive return rates\n",
    "#function to calculate the percentage of negative return rates\n",
    "def negative_counter(list):\n",
    "    neg_counter = 0\n",
    "    for r in range(len(list)):\n",
    "        if list[r] < 0:\n",
    "            neg_counter += 1\n",
    "    percent_negative = (neg_counter/len(list))*100\n",
    "    return percent_negative\n",
    "\n",
    "#function to calculate the percentage of positive change in the return rates\n",
    "def positive_change_counter(list):\n",
    "    pos_change_counter = 0\n",
    "    for i in range(len(list)-1):\n",
    "        if list[i] < list[i+1]:\n",
    "            pos_change_counter += 1\n",
    "    percent_pos_change = (pos_change_counter/len(list))*100\n",
    "    return percent_pos_change\n",
    "\n",
    "#enter the investor type (aggressive, moderate, conservative or nervous), the initial investment, and the number of years to forecast\n",
    "def retirement_forecast(investor, investment, years):\n",
    "    forecast_rates = list(investor.values())[0]\n",
    "    investor_type = list(investor.keys())[0]\n",
    "    sample_count = 0\n",
    "    forecast_samples = {}\n",
    "    forecast_df = [0,0]\n",
    "\n",
    "    #require the user to enter a minimum of 10 years\n",
    "    if years < 10:\n",
    "        return('Please enter a forecast period of at least 10 years')\n",
    "    else:\n",
    "        pass\n",
    "    #creating a sample that follows the same patterns of positive and negative change, as well as negative returns \n",
    "    while sample_count < 5:\n",
    "        rates = random.sample(forecast_rates, years)\n",
    "        negative = negative_counter(rates)\n",
    "        positive_change = positive_change_counter(rates)\n",
    "        if positive_change >= 40 and positive_change <= 50:\n",
    "            if investor_type == 'aggressive_investor':\n",
    "                if negative < 10:\n",
    "                    pass\n",
    "                else:\n",
    "                    agg_rates = rates.copy() \n",
    "                    column_name = 'Sample ' + str(sample_count+1)\n",
    "                    forecast_samples[column_name] = agg_rates\n",
    "                    sample_count += 1\n",
    "            #creating nervous investor, zero rates signify pulling out of the market\n",
    "            if investor_type == 'nervous_investor':\n",
    "                #this statement is pushing the zeroed values into my aggressive return dataframe\n",
    "                if negative < 15:\n",
    "                    pass\n",
    "                else:\n",
    "                    #if investor is nervous, replace the three consecutive returns after a negative rate with a zero\n",
    "                    nervous_rates = rates.copy()\n",
    "                    for i in range(len(nervous_rates)-3):\n",
    "                        if nervous_rates[i] < 0:\n",
    "                            nervous_rates[i+1] = 0\n",
    "                            nervous_rates[i+2] = 0\n",
    "                            nervous_rates[i+3] = 0\n",
    "                    zero_rates = nervous_rates\n",
    "                    column_name = 'Sample ' + str(sample_count+1)\n",
    "                    forecast_samples[column_name] = zero_rates\n",
    "                    sample_count += 1\n",
    "            #conservative or moderate investor\n",
    "            if investor_type == 'conservative_investor' or investor_type == 'moderate_investor':\n",
    "                con_mod_rates = rates.copy()\n",
    "                column_name = 'Sample ' + str(sample_count+1)\n",
    "                forecast_samples[column_name] = con_mod_rates\n",
    "                sample_count += 1\n",
    "            else:\n",
    "                pass\n",
    "        else:\n",
    "            pass\n",
    "\n",
    "    #create dataframe from the dictionary\n",
    "    forecast_df = pd.DataFrame(forecast_samples)\n",
    "    #create  year column, starting with the current year and adding a year for each row\n",
    "    forecast_df['Year'] = datetime.now().year + forecast_df.index\n",
    "    forecast_df.set_index('Year', inplace=True)\n",
    "    #pull in initial investment\n",
    "    initial_investment = investment\n",
    "    #create a new dataframe to hold the future value of the investment  \n",
    "    future_value = pd.DataFrame()   \n",
    "    for f in range(5):\n",
    "        future_value['Sample ' + str(f+1)] = initial_investment*(1 + forecast_df['Sample ' + str(f+1)]).cumprod()\n",
    "    #create a column that shows the average return for each year\n",
    "    future_value['Avg. Return'] = forecast_df.mean(axis=1)\n",
    "    future_value['Year'] = forecast_df.index\n",
    "    future_value.set_index('Year', inplace=True)\n",
    "    return future_value\n"
   ]
  },
  {
   "cell_type": "code",
   "execution_count": 534,
   "id": "c249a1a6",
   "metadata": {},
   "outputs": [
    {
     "data": {
      "application/vnd.plotly.v1+json": {
       "config": {
        "plotlyServerURL": "https://plot.ly"
       },
       "data": [
        {
         "hovertemplate": "variable=Sample 1<br>Year=%{x}<br>Value of Investment=%{y}<extra></extra>",
         "legendgroup": "Sample 1",
         "line": {
          "color": "#636efa",
          "dash": "solid"
         },
         "marker": {
          "symbol": "circle"
         },
         "mode": "markers+lines",
         "name": "Sample 1",
         "orientation": "v",
         "showlegend": true,
         "type": "scatter",
         "x": [
          2024,
          2025,
          2026,
          2027,
          2028,
          2029,
          2030,
          2031,
          2032,
          2033,
          2034,
          2035,
          2036,
          2037,
          2038,
          2039,
          2040,
          2041,
          2042,
          2043,
          2044,
          2045,
          2046,
          2047,
          2048
         ],
         "xaxis": "x",
         "y": [
          1054840.6245271633,
          1162994.4186580463,
          1211247.9798017365,
          1347163.9152170855,
          1502800.1224049393,
          1648090.1743483648,
          1773263.4672128172,
          1872357.9673210704,
          2004238.6628869863,
          2176855.8868602887,
          2367133.591643705,
          2519165.1588268317,
          2730295.305996184,
          2923039.0226537273,
          3190337.359390014,
          3372483.0070604607,
          3584496.5273548774,
          3926428.70204472,
          4224492.366726327,
          4541647.275338036,
          4917960.4006840335,
          5192781.757440232,
          5575383.209926951,
          6147643.213391377,
          6423148.525827781
         ],
         "yaxis": "y"
        },
        {
         "hovertemplate": "variable=Sample 2<br>Year=%{x}<br>Value of Investment=%{y}<extra></extra>",
         "legendgroup": "Sample 2",
         "line": {
          "color": "#EF553B",
          "dash": "solid"
         },
         "marker": {
          "symbol": "circle"
         },
         "mode": "markers+lines",
         "name": "Sample 2",
         "orientation": "v",
         "showlegend": true,
         "type": "scatter",
         "x": [
          2024,
          2025,
          2026,
          2027,
          2028,
          2029,
          2030,
          2031,
          2032,
          2033,
          2034,
          2035,
          2036,
          2037,
          2038,
          2039,
          2040,
          2041,
          2042,
          2043,
          2044,
          2045,
          2046,
          2047,
          2048
         ],
         "xaxis": "x",
         "y": [
          992574.046301916,
          1077845.8810711692,
          1186601.731278972,
          1292096.5862903495,
          1351908.4399196522,
          1449216.4551318844,
          1551928.3463491271,
          1674707.1925507504,
          1762638.435846176,
          1860503.1227240926,
          2023068.0232225913,
          2059053.5953379525,
          2249594.5665061288,
          2453150.911464384,
          2651660.7276377683,
          2853345.026905504,
          3173523.1117086466,
          3421927.720340662,
          3569474.319565826,
          3903852.9757539635,
          4242698.834495296,
          4509419.085884908,
          4862277.204913517,
          5220059.110031086,
          5717587.549757637
         ],
         "yaxis": "y"
        },
        {
         "hovertemplate": "variable=Sample 3<br>Year=%{x}<br>Value of Investment=%{y}<extra></extra>",
         "legendgroup": "Sample 3",
         "line": {
          "color": "#00cc96",
          "dash": "solid"
         },
         "marker": {
          "symbol": "circle"
         },
         "mode": "markers+lines",
         "name": "Sample 3",
         "orientation": "v",
         "showlegend": true,
         "type": "scatter",
         "x": [
          2024,
          2025,
          2026,
          2027,
          2028,
          2029,
          2030,
          2031,
          2032,
          2033,
          2034,
          2035,
          2036,
          2037,
          2038,
          2039,
          2040,
          2041,
          2042,
          2043,
          2044,
          2045,
          2046,
          2047,
          2048
         ],
         "xaxis": "x",
         "y": [
          1030243.467660414,
          1089599.5761251491,
          1148307.583138817,
          1239869.970521668,
          1334643.6143665456,
          1438618.588299116,
          1528372.9682243348,
          1558169.0049787199,
          1672065.1155702702,
          1867255.2967745187,
          1970491.9916970439,
          2104084.72479406,
          2368124.3406059197,
          2593293.9112600014,
          2690353.9898545104,
          2750001.1546091125,
          2960697.8061280935,
          3200545.8596093673,
          3544532.553862863,
          3560137.025941696,
          3866757.68033892,
          4031788.6973299463,
          4349404.149142263,
          4816088.453054371,
          5137962.880021533
         ],
         "yaxis": "y"
        },
        {
         "hovertemplate": "variable=Sample 4<br>Year=%{x}<br>Value of Investment=%{y}<extra></extra>",
         "legendgroup": "Sample 4",
         "line": {
          "color": "#ab63fa",
          "dash": "solid"
         },
         "marker": {
          "symbol": "circle"
         },
         "mode": "markers+lines",
         "name": "Sample 4",
         "orientation": "v",
         "showlegend": true,
         "type": "scatter",
         "x": [
          2024,
          2025,
          2026,
          2027,
          2028,
          2029,
          2030,
          2031,
          2032,
          2033,
          2034,
          2035,
          2036,
          2037,
          2038,
          2039,
          2040,
          2041,
          2042,
          2043,
          2044,
          2045,
          2046,
          2047,
          2048
         ],
         "xaxis": "x",
         "y": [
          1013491.5053158705,
          1068282.0955423797,
          1114468.5067877634,
          1148796.213331483,
          1255103.6677164074,
          1378837.5915028718,
          1472318.145152387,
          1566879.2784107097,
          1686071.3909458707,
          1794582.6912773293,
          1924824.9430975942,
          2081162.9639967585,
          2202042.3412709353,
          2476281.7538227914,
          2683817.8612850197,
          2686524.8462501853,
          2899923.2446319293,
          3149294.9359763064,
          3408153.0134196575,
          3542708.5795353996,
          3792247.877823438,
          4010733.200397153,
          4373315.646856749,
          4922118.919658928,
          5286746.465309125
         ],
         "yaxis": "y"
        },
        {
         "hovertemplate": "variable=Sample 5<br>Year=%{x}<br>Value of Investment=%{y}<extra></extra>",
         "legendgroup": "Sample 5",
         "line": {
          "color": "#FFA15A",
          "dash": "solid"
         },
         "marker": {
          "symbol": "circle"
         },
         "mode": "markers+lines",
         "name": "Sample 5",
         "orientation": "v",
         "showlegend": true,
         "type": "scatter",
         "x": [
          2024,
          2025,
          2026,
          2027,
          2028,
          2029,
          2030,
          2031,
          2032,
          2033,
          2034,
          2035,
          2036,
          2037,
          2038,
          2039,
          2040,
          2041,
          2042,
          2043,
          2044,
          2045,
          2046,
          2047,
          2048
         ],
         "xaxis": "x",
         "y": [
          1065144.026397767,
          1125238.49568189,
          1198205.2999990778,
          1345443.0363326003,
          1449109.526249277,
          1556282.6564745524,
          1744342.4030696938,
          1862602.9542746767,
          2061950.8780531988,
          2096420.4872308206,
          2350496.65406632,
          2568255.3378849374,
          2814092.1218782566,
          3012887.2806522655,
          3116454.3665438746,
          3352044.72596388,
          3785453.559013425,
          4038135.8428343576,
          4472296.192397008,
          4672333.794132391,
          5166366.818441463,
          5593846.306666509,
          6057342.844100752,
          6401360.471061069,
          6848761.189358201
         ],
         "yaxis": "y"
        }
       ],
       "layout": {
        "height": 500,
        "hoverlabel": {
         "bgcolor": "white"
        },
        "legend": {
         "title": {
          "text": "Predicted Returns"
         },
         "tracegroupgap": 0
        },
        "template": {
         "data": {
          "bar": [
           {
            "error_x": {
             "color": "#2a3f5f"
            },
            "error_y": {
             "color": "#2a3f5f"
            },
            "marker": {
             "line": {
              "color": "#E5ECF6",
              "width": 0.5
             },
             "pattern": {
              "fillmode": "overlay",
              "size": 10,
              "solidity": 0.2
             }
            },
            "type": "bar"
           }
          ],
          "barpolar": [
           {
            "marker": {
             "line": {
              "color": "#E5ECF6",
              "width": 0.5
             },
             "pattern": {
              "fillmode": "overlay",
              "size": 10,
              "solidity": 0.2
             }
            },
            "type": "barpolar"
           }
          ],
          "carpet": [
           {
            "aaxis": {
             "endlinecolor": "#2a3f5f",
             "gridcolor": "white",
             "linecolor": "white",
             "minorgridcolor": "white",
             "startlinecolor": "#2a3f5f"
            },
            "baxis": {
             "endlinecolor": "#2a3f5f",
             "gridcolor": "white",
             "linecolor": "white",
             "minorgridcolor": "white",
             "startlinecolor": "#2a3f5f"
            },
            "type": "carpet"
           }
          ],
          "choropleth": [
           {
            "colorbar": {
             "outlinewidth": 0,
             "ticks": ""
            },
            "type": "choropleth"
           }
          ],
          "contour": [
           {
            "colorbar": {
             "outlinewidth": 0,
             "ticks": ""
            },
            "colorscale": [
             [
              0,
              "#0d0887"
             ],
             [
              0.1111111111111111,
              "#46039f"
             ],
             [
              0.2222222222222222,
              "#7201a8"
             ],
             [
              0.3333333333333333,
              "#9c179e"
             ],
             [
              0.4444444444444444,
              "#bd3786"
             ],
             [
              0.5555555555555556,
              "#d8576b"
             ],
             [
              0.6666666666666666,
              "#ed7953"
             ],
             [
              0.7777777777777778,
              "#fb9f3a"
             ],
             [
              0.8888888888888888,
              "#fdca26"
             ],
             [
              1,
              "#f0f921"
             ]
            ],
            "type": "contour"
           }
          ],
          "contourcarpet": [
           {
            "colorbar": {
             "outlinewidth": 0,
             "ticks": ""
            },
            "type": "contourcarpet"
           }
          ],
          "heatmap": [
           {
            "colorbar": {
             "outlinewidth": 0,
             "ticks": ""
            },
            "colorscale": [
             [
              0,
              "#0d0887"
             ],
             [
              0.1111111111111111,
              "#46039f"
             ],
             [
              0.2222222222222222,
              "#7201a8"
             ],
             [
              0.3333333333333333,
              "#9c179e"
             ],
             [
              0.4444444444444444,
              "#bd3786"
             ],
             [
              0.5555555555555556,
              "#d8576b"
             ],
             [
              0.6666666666666666,
              "#ed7953"
             ],
             [
              0.7777777777777778,
              "#fb9f3a"
             ],
             [
              0.8888888888888888,
              "#fdca26"
             ],
             [
              1,
              "#f0f921"
             ]
            ],
            "type": "heatmap"
           }
          ],
          "heatmapgl": [
           {
            "colorbar": {
             "outlinewidth": 0,
             "ticks": ""
            },
            "colorscale": [
             [
              0,
              "#0d0887"
             ],
             [
              0.1111111111111111,
              "#46039f"
             ],
             [
              0.2222222222222222,
              "#7201a8"
             ],
             [
              0.3333333333333333,
              "#9c179e"
             ],
             [
              0.4444444444444444,
              "#bd3786"
             ],
             [
              0.5555555555555556,
              "#d8576b"
             ],
             [
              0.6666666666666666,
              "#ed7953"
             ],
             [
              0.7777777777777778,
              "#fb9f3a"
             ],
             [
              0.8888888888888888,
              "#fdca26"
             ],
             [
              1,
              "#f0f921"
             ]
            ],
            "type": "heatmapgl"
           }
          ],
          "histogram": [
           {
            "marker": {
             "pattern": {
              "fillmode": "overlay",
              "size": 10,
              "solidity": 0.2
             }
            },
            "type": "histogram"
           }
          ],
          "histogram2d": [
           {
            "colorbar": {
             "outlinewidth": 0,
             "ticks": ""
            },
            "colorscale": [
             [
              0,
              "#0d0887"
             ],
             [
              0.1111111111111111,
              "#46039f"
             ],
             [
              0.2222222222222222,
              "#7201a8"
             ],
             [
              0.3333333333333333,
              "#9c179e"
             ],
             [
              0.4444444444444444,
              "#bd3786"
             ],
             [
              0.5555555555555556,
              "#d8576b"
             ],
             [
              0.6666666666666666,
              "#ed7953"
             ],
             [
              0.7777777777777778,
              "#fb9f3a"
             ],
             [
              0.8888888888888888,
              "#fdca26"
             ],
             [
              1,
              "#f0f921"
             ]
            ],
            "type": "histogram2d"
           }
          ],
          "histogram2dcontour": [
           {
            "colorbar": {
             "outlinewidth": 0,
             "ticks": ""
            },
            "colorscale": [
             [
              0,
              "#0d0887"
             ],
             [
              0.1111111111111111,
              "#46039f"
             ],
             [
              0.2222222222222222,
              "#7201a8"
             ],
             [
              0.3333333333333333,
              "#9c179e"
             ],
             [
              0.4444444444444444,
              "#bd3786"
             ],
             [
              0.5555555555555556,
              "#d8576b"
             ],
             [
              0.6666666666666666,
              "#ed7953"
             ],
             [
              0.7777777777777778,
              "#fb9f3a"
             ],
             [
              0.8888888888888888,
              "#fdca26"
             ],
             [
              1,
              "#f0f921"
             ]
            ],
            "type": "histogram2dcontour"
           }
          ],
          "mesh3d": [
           {
            "colorbar": {
             "outlinewidth": 0,
             "ticks": ""
            },
            "type": "mesh3d"
           }
          ],
          "parcoords": [
           {
            "line": {
             "colorbar": {
              "outlinewidth": 0,
              "ticks": ""
             }
            },
            "type": "parcoords"
           }
          ],
          "pie": [
           {
            "automargin": true,
            "type": "pie"
           }
          ],
          "scatter": [
           {
            "fillpattern": {
             "fillmode": "overlay",
             "size": 10,
             "solidity": 0.2
            },
            "type": "scatter"
           }
          ],
          "scatter3d": [
           {
            "line": {
             "colorbar": {
              "outlinewidth": 0,
              "ticks": ""
             }
            },
            "marker": {
             "colorbar": {
              "outlinewidth": 0,
              "ticks": ""
             }
            },
            "type": "scatter3d"
           }
          ],
          "scattercarpet": [
           {
            "marker": {
             "colorbar": {
              "outlinewidth": 0,
              "ticks": ""
             }
            },
            "type": "scattercarpet"
           }
          ],
          "scattergeo": [
           {
            "marker": {
             "colorbar": {
              "outlinewidth": 0,
              "ticks": ""
             }
            },
            "type": "scattergeo"
           }
          ],
          "scattergl": [
           {
            "marker": {
             "colorbar": {
              "outlinewidth": 0,
              "ticks": ""
             }
            },
            "type": "scattergl"
           }
          ],
          "scattermapbox": [
           {
            "marker": {
             "colorbar": {
              "outlinewidth": 0,
              "ticks": ""
             }
            },
            "type": "scattermapbox"
           }
          ],
          "scatterpolar": [
           {
            "marker": {
             "colorbar": {
              "outlinewidth": 0,
              "ticks": ""
             }
            },
            "type": "scatterpolar"
           }
          ],
          "scatterpolargl": [
           {
            "marker": {
             "colorbar": {
              "outlinewidth": 0,
              "ticks": ""
             }
            },
            "type": "scatterpolargl"
           }
          ],
          "scatterternary": [
           {
            "marker": {
             "colorbar": {
              "outlinewidth": 0,
              "ticks": ""
             }
            },
            "type": "scatterternary"
           }
          ],
          "surface": [
           {
            "colorbar": {
             "outlinewidth": 0,
             "ticks": ""
            },
            "colorscale": [
             [
              0,
              "#0d0887"
             ],
             [
              0.1111111111111111,
              "#46039f"
             ],
             [
              0.2222222222222222,
              "#7201a8"
             ],
             [
              0.3333333333333333,
              "#9c179e"
             ],
             [
              0.4444444444444444,
              "#bd3786"
             ],
             [
              0.5555555555555556,
              "#d8576b"
             ],
             [
              0.6666666666666666,
              "#ed7953"
             ],
             [
              0.7777777777777778,
              "#fb9f3a"
             ],
             [
              0.8888888888888888,
              "#fdca26"
             ],
             [
              1,
              "#f0f921"
             ]
            ],
            "type": "surface"
           }
          ],
          "table": [
           {
            "cells": {
             "fill": {
              "color": "#EBF0F8"
             },
             "line": {
              "color": "white"
             }
            },
            "header": {
             "fill": {
              "color": "#C8D4E3"
             },
             "line": {
              "color": "white"
             }
            },
            "type": "table"
           }
          ]
         },
         "layout": {
          "annotationdefaults": {
           "arrowcolor": "#2a3f5f",
           "arrowhead": 0,
           "arrowwidth": 1
          },
          "autotypenumbers": "strict",
          "coloraxis": {
           "colorbar": {
            "outlinewidth": 0,
            "ticks": ""
           }
          },
          "colorscale": {
           "diverging": [
            [
             0,
             "#8e0152"
            ],
            [
             0.1,
             "#c51b7d"
            ],
            [
             0.2,
             "#de77ae"
            ],
            [
             0.3,
             "#f1b6da"
            ],
            [
             0.4,
             "#fde0ef"
            ],
            [
             0.5,
             "#f7f7f7"
            ],
            [
             0.6,
             "#e6f5d0"
            ],
            [
             0.7,
             "#b8e186"
            ],
            [
             0.8,
             "#7fbc41"
            ],
            [
             0.9,
             "#4d9221"
            ],
            [
             1,
             "#276419"
            ]
           ],
           "sequential": [
            [
             0,
             "#0d0887"
            ],
            [
             0.1111111111111111,
             "#46039f"
            ],
            [
             0.2222222222222222,
             "#7201a8"
            ],
            [
             0.3333333333333333,
             "#9c179e"
            ],
            [
             0.4444444444444444,
             "#bd3786"
            ],
            [
             0.5555555555555556,
             "#d8576b"
            ],
            [
             0.6666666666666666,
             "#ed7953"
            ],
            [
             0.7777777777777778,
             "#fb9f3a"
            ],
            [
             0.8888888888888888,
             "#fdca26"
            ],
            [
             1,
             "#f0f921"
            ]
           ],
           "sequentialminus": [
            [
             0,
             "#0d0887"
            ],
            [
             0.1111111111111111,
             "#46039f"
            ],
            [
             0.2222222222222222,
             "#7201a8"
            ],
            [
             0.3333333333333333,
             "#9c179e"
            ],
            [
             0.4444444444444444,
             "#bd3786"
            ],
            [
             0.5555555555555556,
             "#d8576b"
            ],
            [
             0.6666666666666666,
             "#ed7953"
            ],
            [
             0.7777777777777778,
             "#fb9f3a"
            ],
            [
             0.8888888888888888,
             "#fdca26"
            ],
            [
             1,
             "#f0f921"
            ]
           ]
          },
          "colorway": [
           "#636efa",
           "#EF553B",
           "#00cc96",
           "#ab63fa",
           "#FFA15A",
           "#19d3f3",
           "#FF6692",
           "#B6E880",
           "#FF97FF",
           "#FECB52"
          ],
          "font": {
           "color": "#2a3f5f"
          },
          "geo": {
           "bgcolor": "white",
           "lakecolor": "white",
           "landcolor": "#E5ECF6",
           "showlakes": true,
           "showland": true,
           "subunitcolor": "white"
          },
          "hoverlabel": {
           "align": "left"
          },
          "hovermode": "closest",
          "mapbox": {
           "style": "light"
          },
          "paper_bgcolor": "white",
          "plot_bgcolor": "#E5ECF6",
          "polar": {
           "angularaxis": {
            "gridcolor": "white",
            "linecolor": "white",
            "ticks": ""
           },
           "bgcolor": "#E5ECF6",
           "radialaxis": {
            "gridcolor": "white",
            "linecolor": "white",
            "ticks": ""
           }
          },
          "scene": {
           "xaxis": {
            "backgroundcolor": "#E5ECF6",
            "gridcolor": "white",
            "gridwidth": 2,
            "linecolor": "white",
            "showbackground": true,
            "ticks": "",
            "zerolinecolor": "white"
           },
           "yaxis": {
            "backgroundcolor": "#E5ECF6",
            "gridcolor": "white",
            "gridwidth": 2,
            "linecolor": "white",
            "showbackground": true,
            "ticks": "",
            "zerolinecolor": "white"
           },
           "zaxis": {
            "backgroundcolor": "#E5ECF6",
            "gridcolor": "white",
            "gridwidth": 2,
            "linecolor": "white",
            "showbackground": true,
            "ticks": "",
            "zerolinecolor": "white"
           }
          },
          "shapedefaults": {
           "line": {
            "color": "#2a3f5f"
           }
          },
          "ternary": {
           "aaxis": {
            "gridcolor": "white",
            "linecolor": "white",
            "ticks": ""
           },
           "baxis": {
            "gridcolor": "white",
            "linecolor": "white",
            "ticks": ""
           },
           "bgcolor": "#E5ECF6",
           "caxis": {
            "gridcolor": "white",
            "linecolor": "white",
            "ticks": ""
           }
          },
          "title": {
           "x": 0.05
          },
          "xaxis": {
           "automargin": true,
           "gridcolor": "white",
           "linecolor": "white",
           "ticks": "",
           "title": {
            "standoff": 15
           },
           "zerolinecolor": "white",
           "zerolinewidth": 2
          },
          "yaxis": {
           "automargin": true,
           "gridcolor": "white",
           "linecolor": "white",
           "ticks": "",
           "title": {
            "standoff": 15
           },
           "zerolinecolor": "white",
           "zerolinewidth": 2
          }
         }
        },
        "title": {
         "text": "Future Value of Investment Portfolio"
        },
        "width": 900,
        "xaxis": {
         "anchor": "y",
         "domain": [
          0,
          1
         ],
         "title": {
          "text": "Year"
         }
        },
        "yaxis": {
         "anchor": "x",
         "domain": [
          0,
          1
         ],
         "title": {
          "text": "Value of Investment"
         }
        }
       }
      },
      "text/html": [
       "<div>                            <div id=\"3482e54c-ea0d-431c-8f63-aabc3bf7156d\" class=\"plotly-graph-div\" style=\"height:500px; width:900px;\"></div>            <script type=\"text/javascript\">                require([\"plotly\"], function(Plotly) {                    window.PLOTLYENV=window.PLOTLYENV || {};                                    if (document.getElementById(\"3482e54c-ea0d-431c-8f63-aabc3bf7156d\")) {                    Plotly.newPlot(                        \"3482e54c-ea0d-431c-8f63-aabc3bf7156d\",                        [{\"hovertemplate\":\"variable=Sample 1<br>Year=%{x}<br>Value of Investment=%{y}<extra></extra>\",\"legendgroup\":\"Sample 1\",\"line\":{\"color\":\"#636efa\",\"dash\":\"solid\"},\"marker\":{\"symbol\":\"circle\"},\"mode\":\"markers+lines\",\"name\":\"Sample 1\",\"orientation\":\"v\",\"showlegend\":true,\"x\":[2024,2025,2026,2027,2028,2029,2030,2031,2032,2033,2034,2035,2036,2037,2038,2039,2040,2041,2042,2043,2044,2045,2046,2047,2048],\"xaxis\":\"x\",\"y\":[1054840.6245271633,1162994.4186580463,1211247.9798017365,1347163.9152170855,1502800.1224049393,1648090.1743483648,1773263.4672128172,1872357.9673210704,2004238.6628869863,2176855.8868602887,2367133.591643705,2519165.1588268317,2730295.305996184,2923039.0226537273,3190337.359390014,3372483.0070604607,3584496.5273548774,3926428.70204472,4224492.366726327,4541647.275338036,4917960.4006840335,5192781.757440232,5575383.209926951,6147643.213391377,6423148.525827781],\"yaxis\":\"y\",\"type\":\"scatter\"},{\"hovertemplate\":\"variable=Sample 2<br>Year=%{x}<br>Value of Investment=%{y}<extra></extra>\",\"legendgroup\":\"Sample 2\",\"line\":{\"color\":\"#EF553B\",\"dash\":\"solid\"},\"marker\":{\"symbol\":\"circle\"},\"mode\":\"markers+lines\",\"name\":\"Sample 2\",\"orientation\":\"v\",\"showlegend\":true,\"x\":[2024,2025,2026,2027,2028,2029,2030,2031,2032,2033,2034,2035,2036,2037,2038,2039,2040,2041,2042,2043,2044,2045,2046,2047,2048],\"xaxis\":\"x\",\"y\":[992574.046301916,1077845.8810711692,1186601.731278972,1292096.5862903495,1351908.4399196522,1449216.4551318844,1551928.3463491271,1674707.1925507504,1762638.435846176,1860503.1227240926,2023068.0232225913,2059053.5953379525,2249594.5665061288,2453150.911464384,2651660.7276377683,2853345.026905504,3173523.1117086466,3421927.720340662,3569474.319565826,3903852.9757539635,4242698.834495296,4509419.085884908,4862277.204913517,5220059.110031086,5717587.549757637],\"yaxis\":\"y\",\"type\":\"scatter\"},{\"hovertemplate\":\"variable=Sample 3<br>Year=%{x}<br>Value of Investment=%{y}<extra></extra>\",\"legendgroup\":\"Sample 3\",\"line\":{\"color\":\"#00cc96\",\"dash\":\"solid\"},\"marker\":{\"symbol\":\"circle\"},\"mode\":\"markers+lines\",\"name\":\"Sample 3\",\"orientation\":\"v\",\"showlegend\":true,\"x\":[2024,2025,2026,2027,2028,2029,2030,2031,2032,2033,2034,2035,2036,2037,2038,2039,2040,2041,2042,2043,2044,2045,2046,2047,2048],\"xaxis\":\"x\",\"y\":[1030243.467660414,1089599.5761251491,1148307.583138817,1239869.970521668,1334643.6143665456,1438618.588299116,1528372.9682243348,1558169.0049787199,1672065.1155702702,1867255.2967745187,1970491.9916970439,2104084.72479406,2368124.3406059197,2593293.9112600014,2690353.9898545104,2750001.1546091125,2960697.8061280935,3200545.8596093673,3544532.553862863,3560137.025941696,3866757.68033892,4031788.6973299463,4349404.149142263,4816088.453054371,5137962.880021533],\"yaxis\":\"y\",\"type\":\"scatter\"},{\"hovertemplate\":\"variable=Sample 4<br>Year=%{x}<br>Value of Investment=%{y}<extra></extra>\",\"legendgroup\":\"Sample 4\",\"line\":{\"color\":\"#ab63fa\",\"dash\":\"solid\"},\"marker\":{\"symbol\":\"circle\"},\"mode\":\"markers+lines\",\"name\":\"Sample 4\",\"orientation\":\"v\",\"showlegend\":true,\"x\":[2024,2025,2026,2027,2028,2029,2030,2031,2032,2033,2034,2035,2036,2037,2038,2039,2040,2041,2042,2043,2044,2045,2046,2047,2048],\"xaxis\":\"x\",\"y\":[1013491.5053158705,1068282.0955423797,1114468.5067877634,1148796.213331483,1255103.6677164074,1378837.5915028718,1472318.145152387,1566879.2784107097,1686071.3909458707,1794582.6912773293,1924824.9430975942,2081162.9639967585,2202042.3412709353,2476281.7538227914,2683817.8612850197,2686524.8462501853,2899923.2446319293,3149294.9359763064,3408153.0134196575,3542708.5795353996,3792247.877823438,4010733.200397153,4373315.646856749,4922118.919658928,5286746.465309125],\"yaxis\":\"y\",\"type\":\"scatter\"},{\"hovertemplate\":\"variable=Sample 5<br>Year=%{x}<br>Value of Investment=%{y}<extra></extra>\",\"legendgroup\":\"Sample 5\",\"line\":{\"color\":\"#FFA15A\",\"dash\":\"solid\"},\"marker\":{\"symbol\":\"circle\"},\"mode\":\"markers+lines\",\"name\":\"Sample 5\",\"orientation\":\"v\",\"showlegend\":true,\"x\":[2024,2025,2026,2027,2028,2029,2030,2031,2032,2033,2034,2035,2036,2037,2038,2039,2040,2041,2042,2043,2044,2045,2046,2047,2048],\"xaxis\":\"x\",\"y\":[1065144.026397767,1125238.49568189,1198205.2999990778,1345443.0363326003,1449109.526249277,1556282.6564745524,1744342.4030696938,1862602.9542746767,2061950.8780531988,2096420.4872308206,2350496.65406632,2568255.3378849374,2814092.1218782566,3012887.2806522655,3116454.3665438746,3352044.72596388,3785453.559013425,4038135.8428343576,4472296.192397008,4672333.794132391,5166366.818441463,5593846.306666509,6057342.844100752,6401360.471061069,6848761.189358201],\"yaxis\":\"y\",\"type\":\"scatter\"}],                        {\"template\":{\"data\":{\"histogram2dcontour\":[{\"type\":\"histogram2dcontour\",\"colorbar\":{\"outlinewidth\":0,\"ticks\":\"\"},\"colorscale\":[[0.0,\"#0d0887\"],[0.1111111111111111,\"#46039f\"],[0.2222222222222222,\"#7201a8\"],[0.3333333333333333,\"#9c179e\"],[0.4444444444444444,\"#bd3786\"],[0.5555555555555556,\"#d8576b\"],[0.6666666666666666,\"#ed7953\"],[0.7777777777777778,\"#fb9f3a\"],[0.8888888888888888,\"#fdca26\"],[1.0,\"#f0f921\"]]}],\"choropleth\":[{\"type\":\"choropleth\",\"colorbar\":{\"outlinewidth\":0,\"ticks\":\"\"}}],\"histogram2d\":[{\"type\":\"histogram2d\",\"colorbar\":{\"outlinewidth\":0,\"ticks\":\"\"},\"colorscale\":[[0.0,\"#0d0887\"],[0.1111111111111111,\"#46039f\"],[0.2222222222222222,\"#7201a8\"],[0.3333333333333333,\"#9c179e\"],[0.4444444444444444,\"#bd3786\"],[0.5555555555555556,\"#d8576b\"],[0.6666666666666666,\"#ed7953\"],[0.7777777777777778,\"#fb9f3a\"],[0.8888888888888888,\"#fdca26\"],[1.0,\"#f0f921\"]]}],\"heatmap\":[{\"type\":\"heatmap\",\"colorbar\":{\"outlinewidth\":0,\"ticks\":\"\"},\"colorscale\":[[0.0,\"#0d0887\"],[0.1111111111111111,\"#46039f\"],[0.2222222222222222,\"#7201a8\"],[0.3333333333333333,\"#9c179e\"],[0.4444444444444444,\"#bd3786\"],[0.5555555555555556,\"#d8576b\"],[0.6666666666666666,\"#ed7953\"],[0.7777777777777778,\"#fb9f3a\"],[0.8888888888888888,\"#fdca26\"],[1.0,\"#f0f921\"]]}],\"heatmapgl\":[{\"type\":\"heatmapgl\",\"colorbar\":{\"outlinewidth\":0,\"ticks\":\"\"},\"colorscale\":[[0.0,\"#0d0887\"],[0.1111111111111111,\"#46039f\"],[0.2222222222222222,\"#7201a8\"],[0.3333333333333333,\"#9c179e\"],[0.4444444444444444,\"#bd3786\"],[0.5555555555555556,\"#d8576b\"],[0.6666666666666666,\"#ed7953\"],[0.7777777777777778,\"#fb9f3a\"],[0.8888888888888888,\"#fdca26\"],[1.0,\"#f0f921\"]]}],\"contourcarpet\":[{\"type\":\"contourcarpet\",\"colorbar\":{\"outlinewidth\":0,\"ticks\":\"\"}}],\"contour\":[{\"type\":\"contour\",\"colorbar\":{\"outlinewidth\":0,\"ticks\":\"\"},\"colorscale\":[[0.0,\"#0d0887\"],[0.1111111111111111,\"#46039f\"],[0.2222222222222222,\"#7201a8\"],[0.3333333333333333,\"#9c179e\"],[0.4444444444444444,\"#bd3786\"],[0.5555555555555556,\"#d8576b\"],[0.6666666666666666,\"#ed7953\"],[0.7777777777777778,\"#fb9f3a\"],[0.8888888888888888,\"#fdca26\"],[1.0,\"#f0f921\"]]}],\"surface\":[{\"type\":\"surface\",\"colorbar\":{\"outlinewidth\":0,\"ticks\":\"\"},\"colorscale\":[[0.0,\"#0d0887\"],[0.1111111111111111,\"#46039f\"],[0.2222222222222222,\"#7201a8\"],[0.3333333333333333,\"#9c179e\"],[0.4444444444444444,\"#bd3786\"],[0.5555555555555556,\"#d8576b\"],[0.6666666666666666,\"#ed7953\"],[0.7777777777777778,\"#fb9f3a\"],[0.8888888888888888,\"#fdca26\"],[1.0,\"#f0f921\"]]}],\"mesh3d\":[{\"type\":\"mesh3d\",\"colorbar\":{\"outlinewidth\":0,\"ticks\":\"\"}}],\"scatter\":[{\"fillpattern\":{\"fillmode\":\"overlay\",\"size\":10,\"solidity\":0.2},\"type\":\"scatter\"}],\"parcoords\":[{\"type\":\"parcoords\",\"line\":{\"colorbar\":{\"outlinewidth\":0,\"ticks\":\"\"}}}],\"scatterpolargl\":[{\"type\":\"scatterpolargl\",\"marker\":{\"colorbar\":{\"outlinewidth\":0,\"ticks\":\"\"}}}],\"bar\":[{\"error_x\":{\"color\":\"#2a3f5f\"},\"error_y\":{\"color\":\"#2a3f5f\"},\"marker\":{\"line\":{\"color\":\"#E5ECF6\",\"width\":0.5},\"pattern\":{\"fillmode\":\"overlay\",\"size\":10,\"solidity\":0.2}},\"type\":\"bar\"}],\"scattergeo\":[{\"type\":\"scattergeo\",\"marker\":{\"colorbar\":{\"outlinewidth\":0,\"ticks\":\"\"}}}],\"scatterpolar\":[{\"type\":\"scatterpolar\",\"marker\":{\"colorbar\":{\"outlinewidth\":0,\"ticks\":\"\"}}}],\"histogram\":[{\"marker\":{\"pattern\":{\"fillmode\":\"overlay\",\"size\":10,\"solidity\":0.2}},\"type\":\"histogram\"}],\"scattergl\":[{\"type\":\"scattergl\",\"marker\":{\"colorbar\":{\"outlinewidth\":0,\"ticks\":\"\"}}}],\"scatter3d\":[{\"type\":\"scatter3d\",\"line\":{\"colorbar\":{\"outlinewidth\":0,\"ticks\":\"\"}},\"marker\":{\"colorbar\":{\"outlinewidth\":0,\"ticks\":\"\"}}}],\"scattermapbox\":[{\"type\":\"scattermapbox\",\"marker\":{\"colorbar\":{\"outlinewidth\":0,\"ticks\":\"\"}}}],\"scatterternary\":[{\"type\":\"scatterternary\",\"marker\":{\"colorbar\":{\"outlinewidth\":0,\"ticks\":\"\"}}}],\"scattercarpet\":[{\"type\":\"scattercarpet\",\"marker\":{\"colorbar\":{\"outlinewidth\":0,\"ticks\":\"\"}}}],\"carpet\":[{\"aaxis\":{\"endlinecolor\":\"#2a3f5f\",\"gridcolor\":\"white\",\"linecolor\":\"white\",\"minorgridcolor\":\"white\",\"startlinecolor\":\"#2a3f5f\"},\"baxis\":{\"endlinecolor\":\"#2a3f5f\",\"gridcolor\":\"white\",\"linecolor\":\"white\",\"minorgridcolor\":\"white\",\"startlinecolor\":\"#2a3f5f\"},\"type\":\"carpet\"}],\"table\":[{\"cells\":{\"fill\":{\"color\":\"#EBF0F8\"},\"line\":{\"color\":\"white\"}},\"header\":{\"fill\":{\"color\":\"#C8D4E3\"},\"line\":{\"color\":\"white\"}},\"type\":\"table\"}],\"barpolar\":[{\"marker\":{\"line\":{\"color\":\"#E5ECF6\",\"width\":0.5},\"pattern\":{\"fillmode\":\"overlay\",\"size\":10,\"solidity\":0.2}},\"type\":\"barpolar\"}],\"pie\":[{\"automargin\":true,\"type\":\"pie\"}]},\"layout\":{\"autotypenumbers\":\"strict\",\"colorway\":[\"#636efa\",\"#EF553B\",\"#00cc96\",\"#ab63fa\",\"#FFA15A\",\"#19d3f3\",\"#FF6692\",\"#B6E880\",\"#FF97FF\",\"#FECB52\"],\"font\":{\"color\":\"#2a3f5f\"},\"hovermode\":\"closest\",\"hoverlabel\":{\"align\":\"left\"},\"paper_bgcolor\":\"white\",\"plot_bgcolor\":\"#E5ECF6\",\"polar\":{\"bgcolor\":\"#E5ECF6\",\"angularaxis\":{\"gridcolor\":\"white\",\"linecolor\":\"white\",\"ticks\":\"\"},\"radialaxis\":{\"gridcolor\":\"white\",\"linecolor\":\"white\",\"ticks\":\"\"}},\"ternary\":{\"bgcolor\":\"#E5ECF6\",\"aaxis\":{\"gridcolor\":\"white\",\"linecolor\":\"white\",\"ticks\":\"\"},\"baxis\":{\"gridcolor\":\"white\",\"linecolor\":\"white\",\"ticks\":\"\"},\"caxis\":{\"gridcolor\":\"white\",\"linecolor\":\"white\",\"ticks\":\"\"}},\"coloraxis\":{\"colorbar\":{\"outlinewidth\":0,\"ticks\":\"\"}},\"colorscale\":{\"sequential\":[[0.0,\"#0d0887\"],[0.1111111111111111,\"#46039f\"],[0.2222222222222222,\"#7201a8\"],[0.3333333333333333,\"#9c179e\"],[0.4444444444444444,\"#bd3786\"],[0.5555555555555556,\"#d8576b\"],[0.6666666666666666,\"#ed7953\"],[0.7777777777777778,\"#fb9f3a\"],[0.8888888888888888,\"#fdca26\"],[1.0,\"#f0f921\"]],\"sequentialminus\":[[0.0,\"#0d0887\"],[0.1111111111111111,\"#46039f\"],[0.2222222222222222,\"#7201a8\"],[0.3333333333333333,\"#9c179e\"],[0.4444444444444444,\"#bd3786\"],[0.5555555555555556,\"#d8576b\"],[0.6666666666666666,\"#ed7953\"],[0.7777777777777778,\"#fb9f3a\"],[0.8888888888888888,\"#fdca26\"],[1.0,\"#f0f921\"]],\"diverging\":[[0,\"#8e0152\"],[0.1,\"#c51b7d\"],[0.2,\"#de77ae\"],[0.3,\"#f1b6da\"],[0.4,\"#fde0ef\"],[0.5,\"#f7f7f7\"],[0.6,\"#e6f5d0\"],[0.7,\"#b8e186\"],[0.8,\"#7fbc41\"],[0.9,\"#4d9221\"],[1,\"#276419\"]]},\"xaxis\":{\"gridcolor\":\"white\",\"linecolor\":\"white\",\"ticks\":\"\",\"title\":{\"standoff\":15},\"zerolinecolor\":\"white\",\"automargin\":true,\"zerolinewidth\":2},\"yaxis\":{\"gridcolor\":\"white\",\"linecolor\":\"white\",\"ticks\":\"\",\"title\":{\"standoff\":15},\"zerolinecolor\":\"white\",\"automargin\":true,\"zerolinewidth\":2},\"scene\":{\"xaxis\":{\"backgroundcolor\":\"#E5ECF6\",\"gridcolor\":\"white\",\"linecolor\":\"white\",\"showbackground\":true,\"ticks\":\"\",\"zerolinecolor\":\"white\",\"gridwidth\":2},\"yaxis\":{\"backgroundcolor\":\"#E5ECF6\",\"gridcolor\":\"white\",\"linecolor\":\"white\",\"showbackground\":true,\"ticks\":\"\",\"zerolinecolor\":\"white\",\"gridwidth\":2},\"zaxis\":{\"backgroundcolor\":\"#E5ECF6\",\"gridcolor\":\"white\",\"linecolor\":\"white\",\"showbackground\":true,\"ticks\":\"\",\"zerolinecolor\":\"white\",\"gridwidth\":2}},\"shapedefaults\":{\"line\":{\"color\":\"#2a3f5f\"}},\"annotationdefaults\":{\"arrowcolor\":\"#2a3f5f\",\"arrowhead\":0,\"arrowwidth\":1},\"geo\":{\"bgcolor\":\"white\",\"landcolor\":\"#E5ECF6\",\"subunitcolor\":\"white\",\"showland\":true,\"showlakes\":true,\"lakecolor\":\"white\"},\"title\":{\"x\":0.05},\"mapbox\":{\"style\":\"light\"}}},\"xaxis\":{\"anchor\":\"y\",\"domain\":[0.0,1.0],\"title\":{\"text\":\"Year\"}},\"yaxis\":{\"anchor\":\"x\",\"domain\":[0.0,1.0],\"title\":{\"text\":\"Value of Investment\"}},\"legend\":{\"title\":{\"text\":\"Predicted Returns\"},\"tracegroupgap\":0},\"title\":{\"text\":\"Future Value of Investment Portfolio\"},\"height\":500,\"width\":900,\"hoverlabel\":{\"bgcolor\":\"white\"}},                        {\"responsive\": true}                    ).then(function(){\n",
       "                            \n",
       "var gd = document.getElementById('3482e54c-ea0d-431c-8f63-aabc3bf7156d');\n",
       "var x = new MutationObserver(function (mutations, observer) {{\n",
       "        var display = window.getComputedStyle(gd).display;\n",
       "        if (!display || display === 'none') {{\n",
       "            console.log([gd, 'removed!']);\n",
       "            Plotly.purge(gd);\n",
       "            observer.disconnect();\n",
       "        }}\n",
       "}});\n",
       "\n",
       "// Listen for the removal of the full notebook cells\n",
       "var notebookContainer = gd.closest('#notebook-container');\n",
       "if (notebookContainer) {{\n",
       "    x.observe(notebookContainer, {childList: true});\n",
       "}}\n",
       "\n",
       "// Listen for the clearing of the current output cell\n",
       "var outputEl = gd.closest('.output');\n",
       "if (outputEl) {{\n",
       "    x.observe(outputEl, {childList: true});\n",
       "}}\n",
       "\n",
       "                        })                };                });            </script>        </div>"
      ]
     },
     "metadata": {},
     "output_type": "display_data"
    },
    {
     "name": "stdout",
     "output_type": "stream",
     "text": [
      "The highest projected value in 2048 is: $6,848,761\n",
      "The lowest projected value in 2048 is: $5,137,963\n",
      "The average projected value in 2048 is: $5,993,362\n",
      "The average return rate for the portfolio is: 7.57%\n"
     ]
    }
   ],
   "source": [
    "#enter the investor type (aggressive, moderate, conservative or nervous), the initial investment, and the number of years to forecast\n",
    "forecast_values = retirement_forecast(moderate,950000,25)\n",
    "\n",
    "#create a plot of the future values of the investment\n",
    "fig = px.line(forecast_values.iloc[:, :5], title=f'Future Value of Investment Portfolio',\n",
    "            #name the key for the legend\n",
    "            labels={'value':'Value of Investment', 'Year':'Year'},\n",
    "            width=900, height=500, markers=True)\n",
    "fig.update_layout(\n",
    "    legend_title=\"Predicted Returns\",\n",
    "    hoverlabel=dict(\n",
    "        bgcolor=\"white\")\n",
    "    )\n",
    "fig.show()\n",
    "#print the highest and lowest investment value for the final year, in addition to the average return rate\n",
    "final_year = forecast_values.index[-1]\n",
    "highest_value = forecast_values.iloc[-1, :5].max()\n",
    "lowest_value = forecast_values.iloc[-1, :5].min()\n",
    "average_value = (highest_value + lowest_value)/2\n",
    "return_forecast = (forecast_values['Avg. Return'].mean())*100\n",
    "print(f'The highest projected value in {final_year} is: ${highest_value:,.0f}')\n",
    "print(f'The lowest projected value in {final_year} is: ${lowest_value:,.0f}')\n",
    "print(f'The average projected value in {final_year} is: ${average_value:,.0f}')\n",
    "print(f'The average return rate for the portfolio is: {return_forecast:.2f}%')"
   ]
  },
  {
   "cell_type": "code",
   "execution_count": 526,
   "id": "d421d381",
   "metadata": {},
   "outputs": [],
   "source": [
    "# repeat the retirement_forecast function, picking a random investor, a random initial investment from 100000 to 2000000, and a random number of years to forecast from 10 to 50\n",
    "def random_forecast():\n",
    "    investor_pick = random.choice([aggressive, moderate, conservative, nervous])\n",
    "    investment = random.randint(100000, 2000000)\n",
    "    years = random.randint(10, 50)\n",
    "    random_forecast = retirement_forecast(investor_pick, investment, years)\n",
    "    #get the average final value of the portfolio\n",
    "    final_year = random_forecast.index[-1]\n",
    "    highest_value = random_forecast.iloc[-1, :5].max()\n",
    "    lowest_value = random_forecast.iloc[-1, :5].min()\n",
    "    average_value = round((highest_value + lowest_value)/2)\n",
    "    #create a new list to hold the number of years forecasted, the investor type, and the highest average value\n",
    "    \n",
    "\n",
    "    forecast_list = [list(investor_pick.keys())[0], years, investment, average_value]\n",
    "    return  forecast_list\n",
    "\n",
    "\n",
    "#this commented out section was used to generate a large csv file of random forecasts to be used in a machine learning model\n",
    "# print(random_forecast())\n",
    "\n",
    "#the random_forecast function was run 10,000 times to create a dataframe of the results for my machine learning model\n",
    "# forecast_results = []\n",
    "# for i in range(10000):\n",
    "#     forecast_results.append(random_forecast())\n",
    "# forecast_df = pd.DataFrame(forecast_results, columns=['Investor Type', 'Years Forecasted', 'Initial Investment', 'Final Value'])\n",
    "# forecast_df.to_csv('Data/forecast_results.csv')\n",
    "# forecast_df.head()\n"
   ]
  },
  {
   "cell_type": "markdown",
   "id": "9cfbd7a3",
   "metadata": {},
   "source": [
    "### Learning from the Past:\n",
    "The retirement forecast function was utilized to generate 10,000 hypothetical investment scenarios.  Initial investment values were randomly generated, ranging from $100,000 to $2,000,000, with a range of investment years from 10-50. The hypothetical dataset was saved as a CSV and then utilized for machine learning.\n",
    "\n",
    "*Modeling:* Linear regression, ridge regression, and KNN were the machine learning models tested. A grid search was set up to optimize the parameters for each model.\n",
    "*Cross-validation:* After assessing the model performance, the KNN model proved to be the best predictor of retirement values. The KNN model was implemented for creating predictions."
   ]
  },
  {
   "cell_type": "code",
   "execution_count": 527,
   "id": "dcf7b689",
   "metadata": {},
   "outputs": [],
   "source": [
    "#importing functions for the machine learning model\n",
    "from sklearn.pipeline import Pipeline\n",
    "from sklearn.model_selection import train_test_split\n",
    "from sklearn.metrics import mean_squared_error\n",
    "from sklearn.pipeline import Pipeline\n",
    "from sklearn.model_selection import GridSearchCV\n",
    "from sklearn.linear_model import LinearRegression, Ridge\n",
    "from sklearn.neighbors import KNeighborsRegressor\n",
    "from sklearn.preprocessing import StandardScaler\n",
    "from sklearn import metrics\n",
    "from sklearn.model_selection import train_test_split\n",
    "from sklearn.model_selection import cross_val_score, KFold\n",
    "import warnings\n",
    "# Suppress UserWarning from scikit-learn\n",
    "warnings.filterwarnings(\"ignore\", category=UserWarning)"
   ]
  },
  {
   "cell_type": "code",
   "execution_count": 528,
   "id": "8470ecff",
   "metadata": {},
   "outputs": [
    {
     "data": {
      "text/html": [
       "<div>\n",
       "<style scoped>\n",
       "    .dataframe tbody tr th:only-of-type {\n",
       "        vertical-align: middle;\n",
       "    }\n",
       "\n",
       "    .dataframe tbody tr th {\n",
       "        vertical-align: top;\n",
       "    }\n",
       "\n",
       "    .dataframe thead th {\n",
       "        text-align: right;\n",
       "    }\n",
       "</style>\n",
       "<table border=\"1\" class=\"dataframe\">\n",
       "  <thead>\n",
       "    <tr style=\"text-align: right;\">\n",
       "      <th></th>\n",
       "      <th>Years Forecasted</th>\n",
       "      <th>Initial Investment</th>\n",
       "      <th>Final Value</th>\n",
       "      <th>Investor Type_aggressive_investor</th>\n",
       "      <th>Investor Type_conservative_investor</th>\n",
       "      <th>Investor Type_moderate_investor</th>\n",
       "      <th>Investor Type_nervous_investor</th>\n",
       "    </tr>\n",
       "  </thead>\n",
       "  <tbody>\n",
       "    <tr>\n",
       "      <th>0</th>\n",
       "      <td>26</td>\n",
       "      <td>150479</td>\n",
       "      <td>1304900</td>\n",
       "      <td>1</td>\n",
       "      <td>0</td>\n",
       "      <td>0</td>\n",
       "      <td>0</td>\n",
       "    </tr>\n",
       "    <tr>\n",
       "      <th>1</th>\n",
       "      <td>37</td>\n",
       "      <td>866684</td>\n",
       "      <td>14806594</td>\n",
       "      <td>1</td>\n",
       "      <td>0</td>\n",
       "      <td>0</td>\n",
       "      <td>0</td>\n",
       "    </tr>\n",
       "    <tr>\n",
       "      <th>2</th>\n",
       "      <td>19</td>\n",
       "      <td>1495145</td>\n",
       "      <td>4604895</td>\n",
       "      <td>0</td>\n",
       "      <td>0</td>\n",
       "      <td>0</td>\n",
       "      <td>1</td>\n",
       "    </tr>\n",
       "    <tr>\n",
       "      <th>3</th>\n",
       "      <td>24</td>\n",
       "      <td>1907617</td>\n",
       "      <td>14084322</td>\n",
       "      <td>1</td>\n",
       "      <td>0</td>\n",
       "      <td>0</td>\n",
       "      <td>0</td>\n",
       "    </tr>\n",
       "    <tr>\n",
       "      <th>4</th>\n",
       "      <td>18</td>\n",
       "      <td>440310</td>\n",
       "      <td>1597852</td>\n",
       "      <td>1</td>\n",
       "      <td>0</td>\n",
       "      <td>0</td>\n",
       "      <td>0</td>\n",
       "    </tr>\n",
       "  </tbody>\n",
       "</table>\n",
       "</div>"
      ],
      "text/plain": [
       "   Years Forecasted  Initial Investment  Final Value  \\\n",
       "0                26              150479      1304900   \n",
       "1                37              866684     14806594   \n",
       "2                19             1495145      4604895   \n",
       "3                24             1907617     14084322   \n",
       "4                18              440310      1597852   \n",
       "\n",
       "   Investor Type_aggressive_investor  Investor Type_conservative_investor  \\\n",
       "0                                  1                                    0   \n",
       "1                                  1                                    0   \n",
       "2                                  0                                    0   \n",
       "3                                  1                                    0   \n",
       "4                                  1                                    0   \n",
       "\n",
       "   Investor Type_moderate_investor  Investor Type_nervous_investor  \n",
       "0                                0                               0  \n",
       "1                                0                               0  \n",
       "2                                0                               1  \n",
       "3                                0                               0  \n",
       "4                                0                               0  "
      ]
     },
     "execution_count": 528,
     "metadata": {},
     "output_type": "execute_result"
    }
   ],
   "source": [
    "#convert the forecast_results csv file into a dataframe\n",
    "forecast_results = pd.read_csv('Data/forecast_results.csv')\n",
    "forecast_results.drop('Unnamed: 0', axis=1, inplace=True)\n",
    "\n",
    "#converting the investor type into a numerical value\n",
    "forecast_results_num = pd.get_dummies(forecast_results, columns=['Investor Type'])\n",
    "\n",
    "forecast_results_num.head()"
   ]
  },
  {
   "cell_type": "code",
   "execution_count": 529,
   "id": "355f6ea7",
   "metadata": {},
   "outputs": [
    {
     "data": {
      "text/html": [
       "<div>\n",
       "<style scoped>\n",
       "    .dataframe tbody tr th:only-of-type {\n",
       "        vertical-align: middle;\n",
       "    }\n",
       "\n",
       "    .dataframe tbody tr th {\n",
       "        vertical-align: top;\n",
       "    }\n",
       "\n",
       "    .dataframe thead th {\n",
       "        text-align: right;\n",
       "    }\n",
       "</style>\n",
       "<table border=\"1\" class=\"dataframe\">\n",
       "  <thead>\n",
       "    <tr style=\"text-align: right;\">\n",
       "      <th></th>\n",
       "      <th>Linear Regression</th>\n",
       "      <th>Ridge Regression</th>\n",
       "      <th>KNN</th>\n",
       "    </tr>\n",
       "  </thead>\n",
       "  <tbody>\n",
       "    <tr>\n",
       "      <th>Mean Absolute Error</th>\n",
       "      <td>5.376497e+06</td>\n",
       "      <td>5.372758e+06</td>\n",
       "      <td>9.156533e+05</td>\n",
       "    </tr>\n",
       "    <tr>\n",
       "      <th>Mean Squared Error</th>\n",
       "      <td>6.545493e+13</td>\n",
       "      <td>6.545089e+13</td>\n",
       "      <td>4.740012e+12</td>\n",
       "    </tr>\n",
       "    <tr>\n",
       "      <th>Root Mean Squared Error</th>\n",
       "      <td>8.090422e+06</td>\n",
       "      <td>8.090172e+06</td>\n",
       "      <td>2.177157e+06</td>\n",
       "    </tr>\n",
       "    <tr>\n",
       "      <th>R2 Score</th>\n",
       "      <td>6.253626e-01</td>\n",
       "      <td>6.253857e-01</td>\n",
       "      <td>9.728701e-01</td>\n",
       "    </tr>\n",
       "  </tbody>\n",
       "</table>\n",
       "</div>"
      ],
      "text/plain": [
       "                         Linear Regression  Ridge Regression           KNN\n",
       "Mean Absolute Error           5.376497e+06      5.372758e+06  9.156533e+05\n",
       "Mean Squared Error            6.545493e+13      6.545089e+13  4.740012e+12\n",
       "Root Mean Squared Error       8.090422e+06      8.090172e+06  2.177157e+06\n",
       "R2 Score                      6.253626e-01      6.253857e-01  9.728701e-01"
      ]
     },
     "execution_count": 529,
     "metadata": {},
     "output_type": "execute_result"
    }
   ],
   "source": [
    "#splitting the data into training and testing sets\n",
    "X = forecast_results_num.drop('Final Value', axis=1)\n",
    "y = forecast_results_num['Final Value']\n",
    "X_train, X_test, y_train, y_test = train_test_split(X, y, test_size=0.2, random_state=42)\n",
    "\n",
    "#linear regression pipeline\n",
    "lr_pipe = Pipeline(steps=[('scaler', StandardScaler()),\n",
    "                ('regression', LinearRegression())])\n",
    "\n",
    "# print(lr_pipe.get_params()) --> saving this code to remind myself how to look up the parameters for the grid search\n",
    "lr_grid = GridSearchCV(estimator=lr_pipe, n_jobs=-1, param_grid={'regression__fit_intercept': [True, False], 'scaler__with_mean': [True, False], 'scaler__with_std': [True, False]})\n",
    "lin_reg = lr_grid.fit(X_train, y_train)\n",
    "y_pred = lin_reg.predict(X_test)\n",
    "\n",
    "#ridge regression pipeline\n",
    "rr_pipe = Pipeline(steps=[('scaler', StandardScaler()),\n",
    "                ('regression', Ridge())])\n",
    "rr_grid = GridSearchCV(estimator=rr_pipe, n_jobs=-1, param_grid={'regression__alpha': [0.1, 1, 10, 100, 1000]})\n",
    "rr_grid = rr_grid.fit(X_train, y_train)\n",
    "y_pred_ridge = rr_grid.predict(X_test)\n",
    "\n",
    "#knn pipeline\n",
    "k_pipe = Pipeline(steps=[('scaler', StandardScaler()),\n",
    "                ('regression', KNeighborsRegressor())])\n",
    "k_grid = GridSearchCV(estimator=k_pipe, n_jobs=-1, param_grid={'regression__n_neighbors': [3, 5, 7, 9, 11], 'regression__metric': ['euclidean', 'minkowski','manhattan'], 'regression__weights': ['uniform', 'distance']})\n",
    "k_grid = k_grid.fit(X_train, y_train)\n",
    "k_pred = k_grid.predict(X_test)\n",
    "\n",
    "\n",
    "#evaluating the model metrics\n",
    "model_evaluation = pd.DataFrame({'Linear Regression': [metrics.mean_absolute_error(y_test, y_pred), metrics.mean_squared_error(y_test, y_pred), np.sqrt(metrics.mean_squared_error(y_test, y_pred)), metrics.r2_score(y_test, y_pred)],\n",
    "                                'Ridge Regression': [metrics.mean_absolute_error(y_test, y_pred_ridge), metrics.mean_squared_error(y_test, y_pred_ridge), np.sqrt(metrics.mean_squared_error(y_test, y_pred_ridge)), metrics.r2_score(y_test,y_pred_ridge)],\n",
    "                                'KNN': [metrics.mean_absolute_error(y_test, k_pred), metrics.mean_squared_error(y_test, k_pred), np.sqrt(metrics.mean_squared_error(y_test, k_pred)), metrics.r2_score(y_test, k_pred)]},\n",
    "                               index=['Mean Absolute Error', 'Mean Squared Error', 'Root Mean Squared Error', 'R2 Score'])\n",
    "model_evaluation"
   ]
  },
  {
   "cell_type": "code",
   "execution_count": 530,
   "id": "df53c236",
   "metadata": {},
   "outputs": [
    {
     "data": {
      "text/plain": [
       "Linear Regression    0.633875\n",
       "Ridge Regression     0.633874\n",
       "KNN                  0.973600\n",
       "dtype: float64"
      ]
     },
     "execution_count": 530,
     "metadata": {},
     "output_type": "execute_result"
    }
   ],
   "source": [
    "#using cross validation to determine the best model\n",
    "cv = KFold(n_splits=5, shuffle=True, random_state=42)\n",
    "lr_scores = cross_val_score(lin_reg, X, y, cv=cv, scoring='r2')\n",
    "rr_scores = cross_val_score(rr_grid, X, y, cv=cv, scoring='r2')\n",
    "k_scores = cross_val_score(k_grid, X, y, cv=cv, scoring='r2')\n",
    "cv_scores = pd.DataFrame({'Linear Regression': lr_scores, 'Ridge Regression': rr_scores, 'KNN': k_scores})\n",
    "cv_scores.mean()\n",
    "\n"
   ]
  },
  {
   "cell_type": "code",
   "execution_count": 531,
   "id": "24b17bc9",
   "metadata": {},
   "outputs": [
    {
     "name": "stdout",
     "output_type": "stream",
     "text": [
      "The predicted final value of the portfolio is: $1,062,069\n"
     ]
    }
   ],
   "source": [
    "#using KNN to make retirement predictions as this is the best model\n",
    "# ['Years Forecasted', 'Initial Investment', 'Investor Type_aggressive_investor', 'Investor Type_conservative_investor', 'Investor Type_moderate_investor', 'Investor Type_nervous_investor']\n",
    "# Aggressive Investor - Conservative - Moderate - Nervous\n",
    "pred_inputs = [[25, 250000, 0,1,0,0]]\n",
    "prediction = k_grid.predict(pred_inputs)\n",
    "\n",
    "print(f'The predicted final value of the portfolio is: ${prediction[0]:,.0f}')"
   ]
  },
  {
   "cell_type": "code",
   "execution_count": 532,
   "id": "0de9c1ea",
   "metadata": {},
   "outputs": [
    {
     "data": {
      "text/plain": [
       "Text(0.5, 1.0, 'Years Invested vs Final Portfolio Value by Investor Type')"
      ]
     },
     "execution_count": 532,
     "metadata": {},
     "output_type": "execute_result"
    },
    {
     "data": {
      "image/png": "[encoded data removed]",
      "text/plain": [
       "<Figure size 1200x800 with 1 Axes>"
      ]
     },
     "metadata": {},
     "output_type": "display_data"
    }
   ],
   "source": [
    "#lineplot of the original forecast data to show affect of investor type on final value\n",
    "fig, ax = plt.subplots(figsize=(12,8))\n",
    "forecast_plot = sns.lineplot(data=forecast_results, x='Years Forecasted', y='Final Value', hue='Investor Type')\n",
    "plt.legend(title='Investor Type', loc='upper left', labels=['Aggressive', '', 'Nervous', '','Conservative','', 'Moderate',''])\n",
    "plt.title('Years Invested vs Final Portfolio Value by Investor Type')"
   ]
  }
 ],
 "metadata": {
  "kernelspec": {
   "display_name": "Python 3 (ipykernel)",
   "language": "python",
   "name": "python3"
  },
  "language_info": {
   "codemirror_mode": {
    "name": "ipython",
    "version": 3
   },
   "file_extension": ".py",
   "mimetype": "text/x-python",
   "name": "python",
   "nbconvert_exporter": "python",
   "pygments_lexer": "ipython3",
   "version": "3.9.13"
  }
 },
 "nbformat": 4,
 "nbformat_minor": 5
}
