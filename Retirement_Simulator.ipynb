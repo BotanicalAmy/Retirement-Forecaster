{
 "cells": [
  {
   "cell_type": "code",
   "execution_count": 679,
   "id": "52bf26b3",
   "metadata": {},
   "outputs": [],
   "source": [
    "from scipy.stats import uniform\n",
    "from scipy.stats import norm\n",
    "import statistics as stat\n",
    "import matplotlib.pyplot as plt\n",
    "import pandas as pd\n",
    "import numpy as np\n",
    "import random\n",
    "import seaborn as sns\n",
    "from IPython.display import Image"
   ]
  },
  {
   "cell_type": "markdown",
   "id": "5c32f74b",
   "metadata": {},
   "source": [
    "## Portfolio Investment Returns\n",
    "\n",
    "Historical returns from 1928 until present were collected.  Three additional columns were created based on a 80% portfolio investment (Aggressive), a 65% stock investment (Moderate), and a 50% stock investment (Conservative)."
   ]
  },
  {
   "cell_type": "code",
   "execution_count": 680,
   "id": "165521d0",
   "metadata": {},
   "outputs": [
    {
     "data": {
      "text/html": [
       "<div>\n",
       "<style scoped>\n",
       "    .dataframe tbody tr th:only-of-type {\n",
       "        vertical-align: middle;\n",
       "    }\n",
       "\n",
       "    .dataframe tbody tr th {\n",
       "        vertical-align: top;\n",
       "    }\n",
       "\n",
       "    .dataframe thead th {\n",
       "        text-align: right;\n",
       "    }\n",
       "</style>\n",
       "<table border=\"1\" class=\"dataframe\">\n",
       "  <thead>\n",
       "    <tr style=\"text-align: right;\">\n",
       "      <th></th>\n",
       "      <th>Return Rate</th>\n",
       "    </tr>\n",
       "  </thead>\n",
       "  <tbody>\n",
       "    <tr>\n",
       "      <th>S&amp;P 500</th>\n",
       "      <td>11.66</td>\n",
       "    </tr>\n",
       "    <tr>\n",
       "      <th>Aggressive</th>\n",
       "      <td>9.33</td>\n",
       "    </tr>\n",
       "    <tr>\n",
       "      <th>Moderate</th>\n",
       "      <td>7.58</td>\n",
       "    </tr>\n",
       "    <tr>\n",
       "      <th>Conservative</th>\n",
       "      <td>5.83</td>\n",
       "    </tr>\n",
       "  </tbody>\n",
       "</table>\n",
       "</div>"
      ],
      "text/plain": [
       "              Return Rate\n",
       "S&P 500             11.66\n",
       "Aggressive           9.33\n",
       "Moderate             7.58\n",
       "Conservative         5.83"
      ]
     },
     "execution_count": 680,
     "metadata": {},
     "output_type": "execute_result"
    }
   ],
   "source": [
    "returns = pd.read_excel('Data/StockReturns.xlsx')\n",
    "returns.head()\n",
    "return_rates = pd.DataFrame((returns[['S&P 500', 'Aggressive', 'Moderate', 'Conservative']].mean()*100).round(2))\n",
    "return_rates.columns = ['Return Rate']\n",
    "return_rates \n"
   ]
  },
  {
   "cell_type": "markdown",
   "id": "1dd5f0a5",
   "metadata": {},
   "source": [
    "### Creating future return distributions\n",
    "\n",
    "From the historical stock return data, samples means were generated to create a normalized distribution.  This list of probable returns will be used to forecast future portfolio performance."
   ]
  },
  {
   "cell_type": "code",
   "execution_count": 681,
   "id": "7ff991fb",
   "metadata": {},
   "outputs": [],
   "source": [
    "#S&P 500 return rates, fewer samples were taken to increase the volatility\n",
    "norm_returns = []\n",
    "\n",
    "for i in range(500):\n",
    "    sample = returns['S&P 500'].sample(5)\n",
    "    sample_mean = np.mean(sample)\n",
    "    norm_returns.append(sample_mean)\n",
    "\n",
    "#creating a new dataframe (csv) file for the future return rates\n",
    "future_returns = pd.DataFrame(norm_returns, columns=['S&P Future'])"
   ]
  },
  {
   "cell_type": "code",
   "execution_count": 682,
   "id": "b2f6f287",
   "metadata": {},
   "outputs": [],
   "source": [
    "#Aggresive return rates\n",
    "aggresive_returns = []\n",
    "\n",
    "for i in range(500):\n",
    "    sample = returns['Aggressive'].sample(10)\n",
    "    sample_mean = np.mean(sample)\n",
    "    aggresive_returns.append(sample_mean)\n",
    "\n",
    "#adding the aggresive future returns to the futures dataframe\n",
    "future_returns['Aggressive Future'] = aggresive_returns"
   ]
  },
  {
   "cell_type": "code",
   "execution_count": 683,
   "id": "cd0da88b",
   "metadata": {},
   "outputs": [],
   "source": [
    "#Moderate return rates\n",
    "moderate_returns = []\n",
    "\n",
    "for i in range(500):\n",
    "    sample = returns['Moderate'].sample(20)\n",
    "    sample_mean = np.mean(sample)\n",
    "    moderate_returns.append(sample_mean)\n",
    "\n",
    "#adding the aggresive future returns to the futures dataframe\n",
    "future_returns['Moderate Future'] = moderate_returns"
   ]
  },
  {
   "cell_type": "code",
   "execution_count": 684,
   "id": "cecac058",
   "metadata": {},
   "outputs": [],
   "source": [
    "#Conservative return rates, greater samples were taken to decrease the volatility\n",
    "conservative_returns = []\n",
    "\n",
    "for i in range(500):\n",
    "    sample = returns['Conservative'].sample(30)\n",
    "    sample_mean = np.mean(sample)\n",
    "    conservative_returns.append(sample_mean)\n",
    "\n",
    "#adding the aggresive future returns to the futures dataframe\n",
    "future_returns['Conservative Future'] = conservative_returns"
   ]
  },
  {
   "cell_type": "code",
   "execution_count": 685,
   "id": "b1dae0dd",
   "metadata": {},
   "outputs": [],
   "source": [
    "future_returns.to_csv('Data/futurereturns.csv')"
   ]
  },
  {
   "cell_type": "markdown",
   "id": "ddbcca2c",
   "metadata": {},
   "source": [
    "## Plotting the return rate distributions\n",
    "\n",
    "After researching historical portfolio performance, I worked with both the mean sample sizes and the return rate columns from the historical table to create return distributions that best matched expected portfolio performance.\n",
    "\n",
    "While the S&P 500 returns have the greatest spread, this set of returns also has the highest return rate.\n",
    "As you shift from aggressive down to moderate, the distribution tightens, but the average return rate also decreases. The conservative investment will be the most predictable, but have the lowest average return.\n",
    "\n",
    "### Sources:\n",
    "[Stock Market Performance](https://www.sciencedirect.com/science/article/pii/S2405473915000331) <br>\n",
    "I analyzed historical stock trends and consulted with a local wealth management firm to compare this hypothetical future performance to industry expectations."
   ]
  },
  {
   "cell_type": "code",
   "execution_count": 686,
   "id": "57d5a4f8",
   "metadata": {},
   "outputs": [
    {
     "data": {
      "text/plain": [
       "<matplotlib.legend.Legend at 0x7fe131a6b580>"
      ]
     },
     "execution_count": 686,
     "metadata": {},
     "output_type": "execute_result"
    },
    {
     "data": {
      "image/png": "[encoded data removed]",
      "text/plain": [
       "<Figure size 640x480 with 1 Axes>"
      ]
     },
     "metadata": {},
     "output_type": "display_data"
    }
   ],
   "source": [
    "plt.hist(future_returns['S&P Future'], bins=50, alpha=0.7, color='#e9e9ee')\n",
    "plt.hist(future_returns['Aggressive Future'], bins=50, alpha=0.7, color='#c7c2d6')\n",
    "plt.hist(future_returns['Moderate Future'], bins=50, alpha=0.7, color='#787380')\n",
    "plt.hist(future_returns['Conservative Future'], bins=50, alpha=0.7, color='#494351')\n",
    "plt.legend(['S&P Future', 'Aggressive Future', 'Moderate Future', 'Conservative Future'])"
   ]
  },
  {
   "cell_type": "code",
   "execution_count": 687,
   "id": "0156b64e",
   "metadata": {},
   "outputs": [
    {
     "data": {
      "text/html": [
       "<div>\n",
       "<style scoped>\n",
       "    .dataframe tbody tr th:only-of-type {\n",
       "        vertical-align: middle;\n",
       "    }\n",
       "\n",
       "    .dataframe tbody tr th {\n",
       "        vertical-align: top;\n",
       "    }\n",
       "\n",
       "    .dataframe thead th {\n",
       "        text-align: right;\n",
       "    }\n",
       "</style>\n",
       "<table border=\"1\" class=\"dataframe\">\n",
       "  <thead>\n",
       "    <tr style=\"text-align: right;\">\n",
       "      <th></th>\n",
       "      <th>Mean</th>\n",
       "      <th>Standard Deviation</th>\n",
       "      <th>Variance</th>\n",
       "    </tr>\n",
       "    <tr>\n",
       "      <th>Return Rates</th>\n",
       "      <th></th>\n",
       "      <th></th>\n",
       "      <th></th>\n",
       "    </tr>\n",
       "  </thead>\n",
       "  <tbody>\n",
       "    <tr>\n",
       "      <th>S&amp;P Future</th>\n",
       "      <td>0.115057</td>\n",
       "      <td>0.086499</td>\n",
       "      <td>0.007497</td>\n",
       "    </tr>\n",
       "    <tr>\n",
       "      <th>Aggressive Future</th>\n",
       "      <td>0.094264</td>\n",
       "      <td>0.044826</td>\n",
       "      <td>0.002013</td>\n",
       "    </tr>\n",
       "    <tr>\n",
       "      <th>Moderate Future</th>\n",
       "      <td>0.074546</td>\n",
       "      <td>0.025458</td>\n",
       "      <td>0.000649</td>\n",
       "    </tr>\n",
       "    <tr>\n",
       "      <th>Conservative Future</th>\n",
       "      <td>0.058467</td>\n",
       "      <td>0.013891</td>\n",
       "      <td>0.000193</td>\n",
       "    </tr>\n",
       "  </tbody>\n",
       "</table>\n",
       "</div>"
      ],
      "text/plain": [
       "                         Mean  Standard Deviation  Variance\n",
       "Return Rates                                               \n",
       "S&P Future           0.115057            0.086499  0.007497\n",
       "Aggressive Future    0.094264            0.044826  0.002013\n",
       "Moderate Future      0.074546            0.025458  0.000649\n",
       "Conservative Future  0.058467            0.013891  0.000193"
      ]
     },
     "metadata": {},
     "output_type": "display_data"
    }
   ],
   "source": [
    "statistics = {'Return Rates': ['S&P Future', 'Aggressive Future', 'Moderate Future', 'Conservative Future'],\n",
    "            'Mean': [np.mean(future_returns['S&P Future']), np.mean(future_returns['Aggressive Future']), np.mean(future_returns['Moderate Future']), np.mean(future_returns['Conservative Future'])],\n",
    "            'Standard Deviation': [np.std(future_returns['S&P Future']), np.std(future_returns['Aggressive Future']), np.std(future_returns['Moderate Future']), np.std(future_returns['Conservative Future'])],\n",
    "             'Variance': [stat.variance(future_returns['S&P Future']), stat.variance(future_returns['Aggressive Future']), stat.variance(future_returns['Moderate Future']), stat.variance(future_returns['Conservative Future'])]}   \n",
    "                                                                                                      \n",
    "statistics_table = pd.DataFrame.from_dict(statistics).set_index('Return Rates')                      \n",
    "display(statistics_table)"
   ]
  },
  {
   "cell_type": "markdown",
   "id": "55c3e7bc",
   "metadata": {},
   "source": [
    "## A random walk through probability\n",
    "\n",
    "The random walk theory claims that stock prices are not influenced by history, but rather a random walk that follows an upward slope. Additionally, the Black-Scholes/Merton equation explores the probability distribution of the markets in great depth, focusing on the correlation between brownian motion and the probability distrubtion found in finances.\n",
    "\n",
    "I investigated the directions of change (derivatives) from 1928 to 2023, and found that the expected distribution resulted in 41 years with an increase in rate of return, and 52 years of decrease. Looking at the visual of my analysis, the stock market was positive for 70 of the 96 years surveyed, and negative for 26 of those years.\n",
    "\n",
    "The goal of this retirement simulator is to simulate the same patterns found in the historical stock market to forecast the probable distribution of future returns. <br><br>\n",
    "\n",
    "<img src=\"Images/StockPatterns.jpg\" width=\"700\" height=\"475\">\n",
    "\n",
    "### Sources:\n",
    "[Random Walk](https://www.sciencedirect.com/science/article/pii/S2405473915000331) <br>\n",
    "[Black-Scholes/Merton Equation](https://www.youtube.com/watch?v=A5w-dEgIU1M)\n",
    "\n",
    "*I can calculate the motion of heavenly bodies, but not the madness of people.” — Sir Isaac Newton.*\n",
    "\n",
    "\n",
    "\n"
   ]
  },
  {
   "cell_type": "code",
   "execution_count": null,
   "id": "fb50bfb1",
   "metadata": {},
   "outputs": [],
   "source": []
  },
  {
   "cell_type": "code",
   "execution_count": 688,
   "id": "6c492a05",
   "metadata": {},
   "outputs": [
    {
     "data": {
      "text/html": [
       "<div>\n",
       "<style scoped>\n",
       "    .dataframe tbody tr th:only-of-type {\n",
       "        vertical-align: middle;\n",
       "    }\n",
       "\n",
       "    .dataframe tbody tr th {\n",
       "        vertical-align: top;\n",
       "    }\n",
       "\n",
       "    .dataframe thead th {\n",
       "        text-align: right;\n",
       "    }\n",
       "</style>\n",
       "<table border=\"1\" class=\"dataframe\">\n",
       "  <thead>\n",
       "    <tr style=\"text-align: right;\">\n",
       "      <th></th>\n",
       "      <th>S&amp;P Future</th>\n",
       "      <th>Aggressive Future</th>\n",
       "      <th>Moderate Future</th>\n",
       "      <th>Conservative Future</th>\n",
       "    </tr>\n",
       "  </thead>\n",
       "  <tbody>\n",
       "    <tr>\n",
       "      <th>0</th>\n",
       "      <td>0.188715</td>\n",
       "      <td>0.071321</td>\n",
       "      <td>0.105617</td>\n",
       "      <td>0.064035</td>\n",
       "    </tr>\n",
       "    <tr>\n",
       "      <th>1</th>\n",
       "      <td>0.004243</td>\n",
       "      <td>0.074043</td>\n",
       "      <td>0.077205</td>\n",
       "      <td>0.064333</td>\n",
       "    </tr>\n",
       "    <tr>\n",
       "      <th>2</th>\n",
       "      <td>0.057530</td>\n",
       "      <td>0.084716</td>\n",
       "      <td>0.043301</td>\n",
       "      <td>0.059324</td>\n",
       "    </tr>\n",
       "    <tr>\n",
       "      <th>3</th>\n",
       "      <td>0.082649</td>\n",
       "      <td>0.071130</td>\n",
       "      <td>0.056984</td>\n",
       "      <td>0.055596</td>\n",
       "    </tr>\n",
       "    <tr>\n",
       "      <th>4</th>\n",
       "      <td>-0.070347</td>\n",
       "      <td>0.084201</td>\n",
       "      <td>0.012645</td>\n",
       "      <td>0.077118</td>\n",
       "    </tr>\n",
       "    <tr>\n",
       "      <th>5</th>\n",
       "      <td>0.118298</td>\n",
       "      <td>0.129157</td>\n",
       "      <td>0.103728</td>\n",
       "      <td>0.067469</td>\n",
       "    </tr>\n",
       "    <tr>\n",
       "      <th>6</th>\n",
       "      <td>0.109531</td>\n",
       "      <td>0.067535</td>\n",
       "      <td>0.071897</td>\n",
       "      <td>0.045656</td>\n",
       "    </tr>\n",
       "    <tr>\n",
       "      <th>7</th>\n",
       "      <td>0.029384</td>\n",
       "      <td>0.068250</td>\n",
       "      <td>0.091622</td>\n",
       "      <td>0.069470</td>\n",
       "    </tr>\n",
       "    <tr>\n",
       "      <th>8</th>\n",
       "      <td>0.134274</td>\n",
       "      <td>0.083105</td>\n",
       "      <td>0.046070</td>\n",
       "      <td>0.092082</td>\n",
       "    </tr>\n",
       "    <tr>\n",
       "      <th>9</th>\n",
       "      <td>0.137073</td>\n",
       "      <td>0.136528</td>\n",
       "      <td>0.047858</td>\n",
       "      <td>0.076053</td>\n",
       "    </tr>\n",
       "  </tbody>\n",
       "</table>\n",
       "</div>"
      ],
      "text/plain": [
       "   S&P Future  Aggressive Future  Moderate Future  Conservative Future\n",
       "0    0.188715           0.071321         0.105617             0.064035\n",
       "1    0.004243           0.074043         0.077205             0.064333\n",
       "2    0.057530           0.084716         0.043301             0.059324\n",
       "3    0.082649           0.071130         0.056984             0.055596\n",
       "4   -0.070347           0.084201         0.012645             0.077118\n",
       "5    0.118298           0.129157         0.103728             0.067469\n",
       "6    0.109531           0.067535         0.071897             0.045656\n",
       "7    0.029384           0.068250         0.091622             0.069470\n",
       "8    0.134274           0.083105         0.046070             0.092082\n",
       "9    0.137073           0.136528         0.047858             0.076053"
      ]
     },
     "execution_count": 688,
     "metadata": {},
     "output_type": "execute_result"
    }
   ],
   "source": [
    "future_returns.head(10)"
   ]
  },
  {
   "cell_type": "code",
   "execution_count": 689,
   "id": "5e0f8aa6",
   "metadata": {},
   "outputs": [
    {
     "name": "stdout",
     "output_type": "stream",
     "text": [
      "{'Sample 1': [-0.005088655340124707, 0.0872710531545707, 0.06240581730462459, 0.23500423538317042, 0.0779963306451939, 0.01253844142116522, 0.132226501183333, -0.00471127944817448, 0.1054319286825947, 0.07209270714431663, 0.09645846616052878, 0.08344731894199131, 0.11328378200758546, -0.03161921366455349, 0.0666473281540113, -0.016631370999709988, 0.10427416418129258, 0.09903990804535077, 0.13254814381626795, 0.07014438594217451, 0.04593691211718613, 0.12942461137603287, 0.0007557928738314255, 0.05679630536910827, 0.012316088263592085, 0.08816219688745994, 0.11753456217566358, 0.0845622827468077, 0.055042381006083364, 0.1588532314120576, 0.14889875969029923, 0.09661660451125224, 0.09360324640295437, 0.1162964333047867, -0.024711146964163162, 0.10875788548903413, 0.09746866729393397, 0.09451273893607925, 0.074820374635481, 0.026804775556908033, 0.10238925443127975, 0.11822239648321393, 0.12193388308962205, -0.03115988357867705, 0.12534042689515978, 0.08612343292760374, 0.0541082328558839, 0.09517921017872025, 0.1858912523843163, 0.10459880566257458], 'Sample 2': [0.1366077366015545, 0.15196741759601623, 0.14403850120378645, 0.016841422960172263, 0.04475010040496117, 0.12616571593003686, 0.06962061778775361, 0.11368297143424096, 0.1295261473329264, -0.00471127944817448, 0.08491071926133334, 0.10062748874501999, 0.048557296688525, -0.03161921366455349, 0.14016267905005708, 0.09846705030029268, 0.07386443129247956, 0.07297101725648882, -0.03115988357867705, 0.06843348244703755, 0.07132071912589448, 0.06642747224777693, 0.03268326190981083, 0.11153688274227994, 0.08617936450884536, 0.10618667378198951, 0.02831598311941245, 0.1421880954402924, 0.06286663368099381, 0.08750707218508617, -0.005088655340124707, -0.016057624710273832, 0.14711860921701608, 0.14015527503972208, 0.13652808559642043, 0.0934531331292218, 0.056541145841925454, 0.06982507241178246, 0.10001212933156112, 0.1432136614153832, 0.04571798599911299, 0.15783428924607962, 0.08471637306380324, 0.03964333588093014, 0.12499445216740432, 0.08825851870704857, 0.14751690646876037, 0.13817620778896303, -0.016243660848922897, 0.12774690494684846], 'Sample 3': [0.16959938799878943, 0.07315065792697426, 0.17489521107440992, 0.13285458469902672, 0.11531744823134116, -0.005088655340124707, 0.08106829974721945, 0.054523044019025746, 0.10074526145846227, 0.1391250007193423, 0.055042381006083364, 0.20314333231041673, 0.09846705030029268, 0.10572827782058067, 0.1037037739875181, 0.04510807596840931, -0.01437400812977718, -0.03115988357867705, -0.016243660848922897, 0.14715312926357496, 0.09216622506468004, 0.10523158173044085, 0.03964333588093014, -0.016057624710273832, 0.14711860921701608, 0.11381244642469665, 0.03205072251482498, -0.03161921366455349, 0.07209270714431663, 0.13901283817101634, 0.10508801108722925, 0.09050037171808942, 0.13121467897411812, 0.010452578971313319, 0.09325086755354836, 0.1174373263353838, 0.07967728930110142, 0.07991896503905577, 0.0982727201770482, 0.021215193364790996, 0.05016514397777648, 0.0363840280906355, 0.04699969668183614, 0.05276343836982243, 0.052953774344248875, 0.14105682574288597, 0.06699891676578154, 0.1085358579142266, 0.025891586004124324, 0.07386443129247956], 'Sample 4': [0.0007557928738314255, 0.10258460499668265, 0.07800180021954826, 0.07303903286918044, 0.13134938007298877, 0.23500423538317042, 0.0682500734774525, 0.15556415609231472, 0.08617936450884536, 0.14105682574288597, 0.11267939182981064, 0.014383095157309822, 0.14775954701504138, 0.05753379402887253, 0.07673448120641134, 0.1051522419450942, 0.06891408988909915, 0.15315980401244234, 0.08270547786313197, 0.11368297143424096, -0.00471127944817448, 0.0490798263660749, -0.016057624710273832, 0.04568689124831225, -0.016243660848922897, 0.007429524408159782, 0.026804775556908033, 0.09526968172201454, 0.03205072251482498, 0.1391250007193423, 0.05566386101942518, 0.12710884189604718, 0.0809720324988642, -0.03115988357867705, -0.021134758021177376, 0.07319005234829473, 0.06750584282157601, 0.14999081065178244, 0.08612343292760374, 0.03828297485145225, 0.04429957984388896, 0.20122783860185037, 0.12273401872553209, -0.005088655340124707, 0.10427416418129258, 0.08471637306380324, 0.11401435058906335, 0.08155547596554466, 0.14091628016717947, 0.04662834947372213], 'Sample 5': [0.06753547016633779, -0.024711146964163162, -0.01437400812977718, 0.07404255015555887, 0.04571798599911299, -0.03161921366455349, 0.10609071475339318, 0.14850958599556763, 0.16689880303027232, 0.1254036654538665, 0.011207623172579267, 0.15046946650944423, 0.09816414870543431, 0.061140376690198076, 0.056458720787733674, 0.04370611156777134, 0.10023348487992549, 0.1005702735692859, 0.14924039753622884, 0.11582252849080192, 0.1295261473329264, -0.021134758021177376, 0.09907110786554375, 0.08653322331307134, 0.1443660485006424, 0.09834547356589265, 0.12397583183228869, 0.09773919953707064, 0.09148443544897786, 0.15222570530917073, 0.09716540143866713, 0.1051522419450942, 0.06121530656031075, 0.11381244642469665, 0.11401435058906335, 0.08295023868926937, 0.13510819237072985, 0.05874975750412673, 0.136506425894044, 0.137215415347961, 0.08100512007802986, 0.11531744823134116, 0.14867329739795895, -0.016243660848922897, 0.09472604699785486, 0.08872090044537244, -0.005088655340124707, 0.14188184473283583, 0.12531748155283512, 0.15464207221240428]}\n"
     ]
    },
    {
     "data": {
      "text/plain": [
       "0.08219158838154043"
      ]
     },
     "execution_count": 689,
     "metadata": {},
     "output_type": "execute_result"
    }
   ],
   "source": [
    "\n",
    "#pulling the aggressive future returns from the dataframe\n",
    "aggressive = list(future_returns['Aggressive Future'])\n",
    "aggressive_rates = []\n",
    "#dictionary to hold the distribuion of the return rates\n",
    "aggressive_samples = {}\n",
    "sample_count = 0\n",
    "\n",
    "\n",
    "def negative_counter(list):\n",
    "    neg_counter = 0\n",
    "    for r in range(len(list)):\n",
    "        if list[r] < 0:\n",
    "            neg_counter += 1\n",
    "    percent_negative = (neg_counter/len(list))*100\n",
    "    return percent_negative\n",
    "\n",
    "def positive_change_counter(list):\n",
    "    pos_change_counter = 0\n",
    "    for i in range(len(list)-1):\n",
    "        if list[i] < aggressive_rates[i+1]:\n",
    "            pos_change_counter += 1\n",
    "    percent_pos_change = (pos_change_counter/len(list))*100\n",
    "    return percent_pos_change\n",
    "\n",
    "#wcreating a sample that follows the same patterns of positive and negative change, in addition to the distribution of negative returns\n",
    "while sample_count < 5:\n",
    "    aggressive_rates = random.sample(aggressive, 50)\n",
    "    negative = negative_counter(aggressive_rates)\n",
    "    positive_change = positive_change_counter(aggressive_rates)\n",
    "    if negative > 10 and positive_change >= 40 and positive_change <= 50:\n",
    "        column_name = 'Sample ' + str(sample_count+1)\n",
    "        aggressive_samples[column_name] = aggressive_rates\n",
    "        sample_count += 1\n",
    "\n",
    "\n",
    "print(aggressive_samples)\n",
    "#create dataframe from the dictionary\n",
    "aggressive_df = pd.DataFrame(aggressive_samples)\n",
    "aggressive_df\n",
    "\n",
    "#show the average return rate across all values in the aggressive dataframe\n",
    "aggressive_df.mean().mean()\n",
    "\n",
    "\n",
    "\n"
   ]
  }
 ],
 "metadata": {
  "kernelspec": {
   "display_name": "Python 3 (ipykernel)",
   "language": "python",
   "name": "python3"
  },
  "language_info": {
   "codemirror_mode": {
    "name": "ipython",
    "version": 3
   },
   "file_extension": ".py",
   "mimetype": "text/x-python",
   "name": "python",
   "nbconvert_exporter": "python",
   "pygments_lexer": "ipython3",
   "version": "3.9.13"
  }
 },
 "nbformat": 4,
 "nbformat_minor": 5
}
