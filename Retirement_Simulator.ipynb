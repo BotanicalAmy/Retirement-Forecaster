{
 "cells": [
  {
   "cell_type": "code",
   "execution_count": 3,
   "id": "52bf26b3",
   "metadata": {},
   "outputs": [],
   "source": [
    "import statistics as stat\n",
    "import matplotlib.pyplot as plt\n",
    "import pandas as pd\n",
    "import numpy as np\n",
    "import random\n",
    "import seaborn as sns\n",
    "from datetime import datetime\n",
    "import plotly.express as px"
   ]
  },
  {
   "cell_type": "markdown",
   "id": "5c32f74b",
   "metadata": {},
   "source": [
    "## Portfolio Investment Returns\n",
    "\n",
    "Historical returns from 1928 until present were collected.  Three additional columns were created based on a 80% portfolio investment (Aggressive), a 65% stock investment (Moderate), and a 50% stock investment (Conservative)."
   ]
  },
  {
   "cell_type": "code",
   "execution_count": 4,
   "id": "165521d0",
   "metadata": {},
   "outputs": [
    {
     "data": {
      "text/html": [
       "<div>\n",
       "<style scoped>\n",
       "    .dataframe tbody tr th:only-of-type {\n",
       "        vertical-align: middle;\n",
       "    }\n",
       "\n",
       "    .dataframe tbody tr th {\n",
       "        vertical-align: top;\n",
       "    }\n",
       "\n",
       "    .dataframe thead th {\n",
       "        text-align: right;\n",
       "    }\n",
       "</style>\n",
       "<table border=\"1\" class=\"dataframe\">\n",
       "  <thead>\n",
       "    <tr style=\"text-align: right;\">\n",
       "      <th></th>\n",
       "      <th>Return Rate</th>\n",
       "    </tr>\n",
       "  </thead>\n",
       "  <tbody>\n",
       "    <tr>\n",
       "      <th>S&amp;P 500</th>\n",
       "      <td>11.66</td>\n",
       "    </tr>\n",
       "    <tr>\n",
       "      <th>Aggressive</th>\n",
       "      <td>9.33</td>\n",
       "    </tr>\n",
       "    <tr>\n",
       "      <th>Moderate</th>\n",
       "      <td>7.58</td>\n",
       "    </tr>\n",
       "    <tr>\n",
       "      <th>Conservative</th>\n",
       "      <td>5.83</td>\n",
       "    </tr>\n",
       "  </tbody>\n",
       "</table>\n",
       "</div>"
      ],
      "text/plain": [
       "              Return Rate\n",
       "S&P 500             11.66\n",
       "Aggressive           9.33\n",
       "Moderate             7.58\n",
       "Conservative         5.83"
      ]
     },
     "execution_count": 4,
     "metadata": {},
     "output_type": "execute_result"
    }
   ],
   "source": [
    "returns = pd.read_excel('Data/StockReturns.xlsx')\n",
    "returns.head()\n",
    "return_rates = pd.DataFrame((returns[['S&P 500', 'Aggressive', 'Moderate', 'Conservative']].mean()*100).round(2))\n",
    "return_rates.columns = ['Return Rate']\n",
    "return_rates \n"
   ]
  },
  {
   "cell_type": "markdown",
   "id": "1dd5f0a5",
   "metadata": {},
   "source": [
    "### Creating future return distributions\n",
    "\n",
    "From the historical stock return data, samples means were generated to create a normalized distribution.  This list of probable returns will be used to forecast future portfolio performance."
   ]
  },
  {
   "cell_type": "code",
   "execution_count": 5,
   "id": "7ff991fb",
   "metadata": {},
   "outputs": [],
   "source": [
    "#S&P 500 return rates, fewer samples were taken to increase the volatility\n",
    "norm_returns = []\n",
    "\n",
    "for i in range(500):\n",
    "    sample = returns['S&P 500'].sample(5)\n",
    "    sample_mean = np.mean(sample)\n",
    "    norm_returns.append(sample_mean)\n",
    "\n",
    "#creating a new dataframe (csv) file for the future return rates\n",
    "future_returns = pd.DataFrame(norm_returns, columns=['S&P Future'])"
   ]
  },
  {
   "cell_type": "code",
   "execution_count": 6,
   "id": "b2f6f287",
   "metadata": {},
   "outputs": [],
   "source": [
    "#Aggresive return rates\n",
    "aggresive_returns = []\n",
    "\n",
    "for i in range(500):\n",
    "    sample = returns['Aggressive'].sample(10)\n",
    "    sample_mean = np.mean(sample)\n",
    "    aggresive_returns.append(sample_mean)\n",
    "\n",
    "#adding the aggresive future returns to the futures dataframe\n",
    "future_returns['Aggressive Future'] = aggresive_returns"
   ]
  },
  {
   "cell_type": "code",
   "execution_count": 7,
   "id": "cd0da88b",
   "metadata": {},
   "outputs": [],
   "source": [
    "#Moderate return rates\n",
    "moderate_returns = []\n",
    "\n",
    "for i in range(500):\n",
    "    sample = returns['Moderate'].sample(20)\n",
    "    sample_mean = np.mean(sample)\n",
    "    moderate_returns.append(sample_mean)\n",
    "\n",
    "#adding the aggresive future returns to the futures dataframe\n",
    "future_returns['Moderate Future'] = moderate_returns"
   ]
  },
  {
   "cell_type": "code",
   "execution_count": 8,
   "id": "cecac058",
   "metadata": {},
   "outputs": [],
   "source": [
    "#Conservative return rates, greater samples were taken to decrease the volatility\n",
    "conservative_returns = []\n",
    "\n",
    "for i in range(500):\n",
    "    sample = returns['Conservative'].sample(30)\n",
    "    sample_mean = np.mean(sample)\n",
    "    conservative_returns.append(sample_mean)\n",
    "\n",
    "#adding the aggresive future returns to the futures dataframe\n",
    "future_returns['Conservative Future'] = conservative_returns"
   ]
  },
  {
   "cell_type": "code",
   "execution_count": 9,
   "id": "b1dae0dd",
   "metadata": {},
   "outputs": [],
   "source": [
    "future_returns.to_csv('Data/futurereturns.csv')"
   ]
  },
  {
   "cell_type": "markdown",
   "id": "ddbcca2c",
   "metadata": {},
   "source": [
    "## Plotting the return rate distributions\n",
    "\n",
    "After researching historical portfolio performance, I worked with both the mean sample sizes and the return rate columns from the historical table to create return distributions that best matched expected portfolio performance.\n",
    "\n",
    "While the S&P 500 returns have the greatest spread, this set of returns also has the highest return rate.\n",
    "As you shift from aggressive down to moderate, the distribution tightens, but the average return rate also decreases. The conservative investment will be the most predictable, but have the lowest average return.\n",
    "\n",
    "### Sources:\n",
    "[Stock Market Performance](https://www.sciencedirect.com/science/article/pii/S2405473915000331) <br>\n",
    "I analyzed historical stock trends and consulted with a local wealth management firm to compare this hypothetical future performance to industry expectations."
   ]
  },
  {
   "cell_type": "code",
   "execution_count": 10,
   "id": "57d5a4f8",
   "metadata": {},
   "outputs": [
    {
     "data": {
      "text/plain": [
       "<matplotlib.legend.Legend at 0x2d5dedd9290>"
      ]
     },
     "execution_count": 10,
     "metadata": {},
     "output_type": "execute_result"
    },
    {
     "data": {
      "image/png": "[encoded data removed]",
      "text/plain": [
       "<Figure size 640x480 with 1 Axes>"
      ]
     },
     "metadata": {},
     "output_type": "display_data"
    }
   ],
   "source": [
    "plt.hist(future_returns['S&P Future'], bins=50, alpha=0.7, color='#e9e9ee')\n",
    "plt.hist(future_returns['Aggressive Future'], bins=50, alpha=0.7, color='#c7c2d6')\n",
    "plt.hist(future_returns['Moderate Future'], bins=50, alpha=0.7, color='#787380')\n",
    "plt.hist(future_returns['Conservative Future'], bins=50, alpha=0.7, color='#494351')\n",
    "plt.legend(['S&P Future', 'Aggressive Future', 'Moderate Future', 'Conservative Future'])"
   ]
  },
  {
   "cell_type": "code",
   "execution_count": 11,
   "id": "0156b64e",
   "metadata": {},
   "outputs": [
    {
     "data": {
      "text/html": [
       "<div>\n",
       "<style scoped>\n",
       "    .dataframe tbody tr th:only-of-type {\n",
       "        vertical-align: middle;\n",
       "    }\n",
       "\n",
       "    .dataframe tbody tr th {\n",
       "        vertical-align: top;\n",
       "    }\n",
       "\n",
       "    .dataframe thead th {\n",
       "        text-align: right;\n",
       "    }\n",
       "</style>\n",
       "<table border=\"1\" class=\"dataframe\">\n",
       "  <thead>\n",
       "    <tr style=\"text-align: right;\">\n",
       "      <th></th>\n",
       "      <th>Mean</th>\n",
       "      <th>Std Dev</th>\n",
       "      <th>Variance</th>\n",
       "      <th>IQR</th>\n",
       "      <th>Q1</th>\n",
       "      <th>Q3</th>\n",
       "      <th>95% Conf</th>\n",
       "    </tr>\n",
       "    <tr>\n",
       "      <th>Return Rates</th>\n",
       "      <th></th>\n",
       "      <th></th>\n",
       "      <th></th>\n",
       "      <th></th>\n",
       "      <th></th>\n",
       "      <th></th>\n",
       "      <th></th>\n",
       "    </tr>\n",
       "  </thead>\n",
       "  <tbody>\n",
       "    <tr>\n",
       "      <th>S&amp;P Future</th>\n",
       "      <td>11.61</td>\n",
       "      <td>8.67</td>\n",
       "      <td>0.75</td>\n",
       "      <td>12.13</td>\n",
       "      <td>5.55</td>\n",
       "      <td>17.69</td>\n",
       "      <td>(-5.72, 28.94)</td>\n",
       "    </tr>\n",
       "    <tr>\n",
       "      <th>Aggressive Future</th>\n",
       "      <td>9.24</td>\n",
       "      <td>4.59</td>\n",
       "      <td>0.21</td>\n",
       "      <td>5.95</td>\n",
       "      <td>6.37</td>\n",
       "      <td>12.32</td>\n",
       "      <td>(0.05, 18.43)</td>\n",
       "    </tr>\n",
       "    <tr>\n",
       "      <th>Moderate Future</th>\n",
       "      <td>7.78</td>\n",
       "      <td>2.34</td>\n",
       "      <td>0.05</td>\n",
       "      <td>3.04</td>\n",
       "      <td>6.28</td>\n",
       "      <td>9.32</td>\n",
       "      <td>(3.1, 12.46)</td>\n",
       "    </tr>\n",
       "    <tr>\n",
       "      <th>Conservative Future</th>\n",
       "      <td>5.96</td>\n",
       "      <td>1.61</td>\n",
       "      <td>0.03</td>\n",
       "      <td>2.14</td>\n",
       "      <td>4.99</td>\n",
       "      <td>7.13</td>\n",
       "      <td>(2.74, 9.17)</td>\n",
       "    </tr>\n",
       "  </tbody>\n",
       "</table>\n",
       "</div>"
      ],
      "text/plain": [
       "                      Mean  Std Dev  Variance    IQR    Q1     Q3  \\\n",
       "Return Rates                                                        \n",
       "S&P Future           11.61     8.67      0.75  12.13  5.55  17.69   \n",
       "Aggressive Future     9.24     4.59      0.21   5.95  6.37  12.32   \n",
       "Moderate Future       7.78     2.34      0.05   3.04  6.28   9.32   \n",
       "Conservative Future   5.96     1.61      0.03   2.14  4.99   7.13   \n",
       "\n",
       "                           95% Conf  \n",
       "Return Rates                         \n",
       "S&P Future           (-5.72, 28.94)  \n",
       "Aggressive Future     (0.05, 18.43)  \n",
       "Moderate Future        (3.1, 12.46)  \n",
       "Conservative Future    (2.74, 9.17)  "
      ]
     },
     "metadata": {},
     "output_type": "display_data"
    }
   ],
   "source": [
    "def IQR(dist):\n",
    "    return np.percentile(dist, 75) - np.percentile(dist, 25)\n",
    "\n",
    "def Q1(dist):\n",
    "    return np.percentile(dist, 25)\n",
    "\n",
    "def Q3(dist):\n",
    "    return np.percentile(dist, 75)\n",
    "\n",
    "def confidence_interval(dist):\n",
    "  dist_avg = np.mean(dist)\n",
    "  dist_std = np.std(dist)\n",
    "  conf_top = ((dist_avg + (2 * dist_std))*100)\n",
    "  conf_bottom = ((dist_avg - (2 * dist_std))*100)\n",
    "  return round(conf_bottom,2), round(conf_top,2)\n",
    "\n",
    "statistics = {'Return Rates': ['S&P Future', 'Aggressive Future', 'Moderate Future', 'Conservative Future'],\n",
    "            'Mean': [np.mean(future_returns['S&P Future']), np.mean(future_returns['Aggressive Future']), np.mean(future_returns['Moderate Future']), np.mean(future_returns['Conservative Future'])],\n",
    "            'Std Dev': [np.std(future_returns['S&P Future']), np.std(future_returns['Aggressive Future']), np.std(future_returns['Moderate Future']), np.std(future_returns['Conservative Future'])],\n",
    "            'Variance': [stat.variance(future_returns['S&P Future']), stat.variance(future_returns['Aggressive Future']), stat.variance(future_returns['Moderate Future']), stat.variance(future_returns['Conservative Future'])],\n",
    "            'IQR': [IQR(future_returns['S&P Future']), IQR(future_returns['Aggressive Future']), IQR(future_returns['Moderate Future']), IQR(future_returns['Conservative Future'])],\n",
    "            'Q1': [Q1(future_returns['S&P Future']), Q1(future_returns['Aggressive Future']), Q1(future_returns['Moderate Future']), Q1(future_returns['Conservative Future'])],\n",
    "            'Q3': [Q3(future_returns['S&P Future']), Q3(future_returns['Aggressive Future']), Q3(future_returns['Moderate Future']), Q3(future_returns['Conservative Future'])]}   \n",
    "                                                                                                      \n",
    "statistics_table = pd.DataFrame.from_dict(statistics).set_index('Return Rates')           \n",
    "#multiply all the values in the table by 100 to get percentage values\n",
    "statistics_table = (statistics_table*100).round(2)\n",
    "statistics_table['95% Conf'] = [confidence_interval(future_returns['S&P Future']), confidence_interval(future_returns['Aggressive Future']), confidence_interval(future_returns['Moderate Future']), confidence_interval(future_returns['Conservative Future'])]\n",
    "display(statistics_table)\n",
    "\n",
    "#the averages below are pulled from the entire distribution of samples, as variability increases the actual return on investement will be more uncertain\n",
    "#the confidence interval is calculated by taking the average return rate and adding or subtracting 2 standard deviations\n"
   ]
  },
  {
   "cell_type": "markdown",
   "id": "55c3e7bc",
   "metadata": {},
   "source": [
    "## A random walk through probability\n",
    "\n",
    "The random walk theory claims that stock prices are not influenced by history, but rather a random walk that follows an upward slope. Additionally, the Black-Scholes/Merton equation explores the probability distribution of the markets in great depth, focusing on the correlation between brownian motion and the probability distrubtion found in finances.\n",
    "\n",
    "I investigated the directions of change (derivatives) from 1928 to 2023, and found that the expected distribution resulted in 41 years with an increase in rate of return, and 52 years of decrease. Looking at the visual of my analysis, the stock market was positive for 70 of the 96 years surveyed, and negative for 26 of those years.\n",
    "\n",
    "The goal of this retirement simulator is to simulate the same patterns found in the historical stock market to forecast the probable distribution of future returns. <br><br>\n",
    "\n",
    "<img src=\"Images/StockPatterns.jpg\" width=\"900\" height=\"610\">\n",
    "\n",
    "### Sources:\n",
    "[Random Walk](https://www.sciencedirect.com/science/article/pii/S2405473915000331) <br>\n",
    "[Black-Scholes/Merton Equation](https://www.youtube.com/watch?v=A5w-dEgIU1M)\n",
    "\n",
    "*I can calculate the motion of heavenly bodies, but not the madness of people.” — Sir Isaac Newton.*\n",
    "\n",
    "\n",
    "\n"
   ]
  },
  {
   "cell_type": "code",
   "execution_count": 12,
   "id": "6c492a05",
   "metadata": {},
   "outputs": [
    {
     "data": {
      "text/html": [
       "<div>\n",
       "<style scoped>\n",
       "    .dataframe tbody tr th:only-of-type {\n",
       "        vertical-align: middle;\n",
       "    }\n",
       "\n",
       "    .dataframe tbody tr th {\n",
       "        vertical-align: top;\n",
       "    }\n",
       "\n",
       "    .dataframe thead th {\n",
       "        text-align: right;\n",
       "    }\n",
       "</style>\n",
       "<table border=\"1\" class=\"dataframe\">\n",
       "  <thead>\n",
       "    <tr style=\"text-align: right;\">\n",
       "      <th></th>\n",
       "      <th>S&amp;P Future</th>\n",
       "      <th>Aggressive Future</th>\n",
       "      <th>Moderate Future</th>\n",
       "      <th>Conservative Future</th>\n",
       "    </tr>\n",
       "  </thead>\n",
       "  <tbody>\n",
       "    <tr>\n",
       "      <th>0</th>\n",
       "      <td>0.210507</td>\n",
       "      <td>0.105337</td>\n",
       "      <td>0.065850</td>\n",
       "      <td>0.054576</td>\n",
       "    </tr>\n",
       "    <tr>\n",
       "      <th>1</th>\n",
       "      <td>0.077734</td>\n",
       "      <td>0.113297</td>\n",
       "      <td>0.057139</td>\n",
       "      <td>0.075795</td>\n",
       "    </tr>\n",
       "    <tr>\n",
       "      <th>2</th>\n",
       "      <td>0.137000</td>\n",
       "      <td>0.099886</td>\n",
       "      <td>0.092250</td>\n",
       "      <td>0.044840</td>\n",
       "    </tr>\n",
       "    <tr>\n",
       "      <th>3</th>\n",
       "      <td>0.125633</td>\n",
       "      <td>0.063293</td>\n",
       "      <td>0.076295</td>\n",
       "      <td>0.033403</td>\n",
       "    </tr>\n",
       "    <tr>\n",
       "      <th>4</th>\n",
       "      <td>0.078148</td>\n",
       "      <td>0.138845</td>\n",
       "      <td>0.103831</td>\n",
       "      <td>0.056262</td>\n",
       "    </tr>\n",
       "    <tr>\n",
       "      <th>5</th>\n",
       "      <td>0.064435</td>\n",
       "      <td>0.074803</td>\n",
       "      <td>0.071925</td>\n",
       "      <td>0.073780</td>\n",
       "    </tr>\n",
       "    <tr>\n",
       "      <th>6</th>\n",
       "      <td>0.122168</td>\n",
       "      <td>0.058908</td>\n",
       "      <td>0.078687</td>\n",
       "      <td>0.045136</td>\n",
       "    </tr>\n",
       "    <tr>\n",
       "      <th>7</th>\n",
       "      <td>0.051576</td>\n",
       "      <td>0.072271</td>\n",
       "      <td>0.112320</td>\n",
       "      <td>0.067396</td>\n",
       "    </tr>\n",
       "    <tr>\n",
       "      <th>8</th>\n",
       "      <td>0.140365</td>\n",
       "      <td>0.075807</td>\n",
       "      <td>0.073320</td>\n",
       "      <td>0.023210</td>\n",
       "    </tr>\n",
       "    <tr>\n",
       "      <th>9</th>\n",
       "      <td>0.126197</td>\n",
       "      <td>0.158654</td>\n",
       "      <td>0.099104</td>\n",
       "      <td>0.081703</td>\n",
       "    </tr>\n",
       "  </tbody>\n",
       "</table>\n",
       "</div>"
      ],
      "text/plain": [
       "   S&P Future  Aggressive Future  Moderate Future  Conservative Future\n",
       "0    0.210507           0.105337         0.065850             0.054576\n",
       "1    0.077734           0.113297         0.057139             0.075795\n",
       "2    0.137000           0.099886         0.092250             0.044840\n",
       "3    0.125633           0.063293         0.076295             0.033403\n",
       "4    0.078148           0.138845         0.103831             0.056262\n",
       "5    0.064435           0.074803         0.071925             0.073780\n",
       "6    0.122168           0.058908         0.078687             0.045136\n",
       "7    0.051576           0.072271         0.112320             0.067396\n",
       "8    0.140365           0.075807         0.073320             0.023210\n",
       "9    0.126197           0.158654         0.099104             0.081703"
      ]
     },
     "execution_count": 12,
     "metadata": {},
     "output_type": "execute_result"
    }
   ],
   "source": [
    "future_returns.head(10)\n"
   ]
  },
  {
   "cell_type": "code",
   "execution_count": 13,
   "id": "d565373e",
   "metadata": {},
   "outputs": [],
   "source": [
    "#pulling the returns from the futures dataframe, preparation for the forecasting function\n",
    "aggressive = {'aggressive_investor':list(future_returns['Aggressive Future'])}\n",
    "moderate = {'moderate_investor': list(future_returns['Moderate Future'])}\n",
    "conservative = {'conservative_investor':list(future_returns['Conservative Future'])}\n",
    "nervous = {'nervous_investor':list(future_returns['Aggressive Future'])}"
   ]
  },
  {
   "cell_type": "code",
   "execution_count": 14,
   "id": "5e0f8aa6",
   "metadata": {},
   "outputs": [],
   "source": [
    "#based on the rate distribution patterns, the negative counter function is only used for the aggressive return rates\n",
    "#function to calculate the percentage of negative return rates\n",
    "def negative_counter(list):\n",
    "    neg_counter = 0\n",
    "    for r in range(len(list)):\n",
    "        if list[r] < 0:\n",
    "            neg_counter += 1\n",
    "    percent_negative = (neg_counter/len(list))*100\n",
    "    return percent_negative\n",
    "\n",
    "#function to calculate the percentage of positive change in the return rates\n",
    "def positive_change_counter(list):\n",
    "    pos_change_counter = 0\n",
    "    for i in range(len(list)-1):\n",
    "        if list[i] < list[i+1]:\n",
    "            pos_change_counter += 1\n",
    "    percent_pos_change = (pos_change_counter/len(list))*100\n",
    "    return percent_pos_change\n",
    "\n",
    "#enter the investor type (aggressive, moderate, conservative or nervous), the initial investment, and the number of years to forecast\n",
    "def retirement_forecast(investor, investment, years):\n",
    "    forecast_rates = list(investor.values())[0]\n",
    "    investor_type = list(investor.keys())[0]\n",
    "    sample_count = 0\n",
    "    forecast_samples = {}\n",
    "    forecast_df = [0,0]\n",
    "\n",
    "    #require the user to enter a minimum of 10 years\n",
    "    if years < 10:\n",
    "        return('Please enter a forecast period of at least 10 years')\n",
    "    else:\n",
    "        pass\n",
    "    #creating a sample that follows the same patterns of positive and negative change, as well as negative returns \n",
    "    while sample_count < 5:\n",
    "        rates = random.sample(forecast_rates, years)\n",
    "        negative = negative_counter(rates)\n",
    "        positive_change = positive_change_counter(rates)\n",
    "        if positive_change >= 40 and positive_change <= 50:\n",
    "            if investor_type == 'aggressive_investor':\n",
    "                if negative < 10:\n",
    "                    pass\n",
    "                else:\n",
    "                    agg_rates = rates.copy() \n",
    "                    column_name = 'Sample ' + str(sample_count+1)\n",
    "                    forecast_samples[column_name] = agg_rates\n",
    "                    sample_count += 1\n",
    "            #creating nervous investor, zero rates signify pulling out of the market\n",
    "            if investor_type == 'nervous_investor':\n",
    "                #this statement is pushing the zeroed values into my aggressive return dataframe\n",
    "                if negative < 10:\n",
    "                    pass\n",
    "                else:\n",
    "                    #if investor is nervous, replace the three consecutive returns after a negative rate with a zero\n",
    "                    nervous_rates = rates.copy()\n",
    "                    for i in range(len(nervous_rates)-3):\n",
    "                        if nervous_rates[i] < 0:\n",
    "                            nervous_rates[i+1] = 0\n",
    "                            nervous_rates[i+2] = 0\n",
    "                            nervous_rates[i+3] = 0\n",
    "                    zero_rates = nervous_rates\n",
    "                    column_name = 'Sample ' + str(sample_count+1)\n",
    "                    forecast_samples[column_name] = zero_rates\n",
    "                    sample_count += 1\n",
    "            #conservative or moderate investor\n",
    "            if investor_type == 'conservative_investor' or investor_type == 'moderate_investor':\n",
    "                con_mod_rates = rates.copy()\n",
    "                column_name = 'Sample ' + str(sample_count+1)\n",
    "                forecast_samples[column_name] = con_mod_rates\n",
    "                sample_count += 1\n",
    "            else:\n",
    "                pass\n",
    "        else:\n",
    "            pass\n",
    "\n",
    "    #create dataframe from the dictionary\n",
    "    forecast_df = pd.DataFrame(forecast_samples)\n",
    "    #create  year column, starting with the current year and adding a year for each row\n",
    "    forecast_df['Year'] = datetime.now().year + forecast_df.index\n",
    "    forecast_df.set_index('Year', inplace=True)\n",
    "    #pull in initial investment\n",
    "    initial_investment = investment\n",
    "    #create a new dataframe to hold the future value of the investment  \n",
    "    future_value = pd.DataFrame()   \n",
    "    for f in range(5):\n",
    "        future_value['Sample ' + str(f+1)] = initial_investment*(1 + forecast_df['Sample ' + str(f+1)]).cumprod()\n",
    "    #create a column that shows the average return for each year\n",
    "    future_value['Avg. Return'] = forecast_df.mean(axis=1)\n",
    "    future_value['Year'] = forecast_df.index\n",
    "    future_value.set_index('Year', inplace=True)\n",
    "    return future_value\n"
   ]
  },
  {
   "cell_type": "code",
   "execution_count": 15,
   "id": "c249a1a6",
   "metadata": {},
   "outputs": [
    {
     "data": {
      "application/vnd.plotly.v1+json": {
       "config": {
        "plotlyServerURL": "https://plot.ly"
       },
       "data": [
        {
         "hovertemplate": "%{x}: %{y} <extra></extra>",
         "legendgroup": "Sample 1",
         "line": {
          "color": "#636efa",
          "dash": "solid"
         },
         "marker": {
          "symbol": "circle"
         },
         "mode": "markers+lines",
         "name": "Sample 1",
         "orientation": "v",
         "showlegend": true,
         "type": "scatter",
         "x": [
          2024,
          2025,
          2026,
          2027,
          2028,
          2029,
          2030,
          2031,
          2032,
          2033,
          2034,
          2035,
          2036,
          2037,
          2038,
          2039,
          2040,
          2041,
          2042,
          2043,
          2044,
          2045,
          2046,
          2047,
          2048,
          2049,
          2050,
          2051,
          2052,
          2053
         ],
         "xaxis": "x",
         "xhoverformat": "%H:%M",
         "y": [
          803048.4981197448,
          864217.4802259579,
          900900.2432258729,
          936434.9914310904,
          942428.7072928149,
          1023736.2763640871,
          1131500.579862584,
          1121323.1344090286,
          1277132.6242449891,
          1375370.3749467153,
          1363081.0198105734,
          1532695.3408707622,
          1657307.3015276226,
          1770495.3135051418,
          1982847.4162484217,
          2141919.8285439615,
          2372023.0631735004,
          2526477.102635052,
          2636782.206401151,
          2855552.480845998,
          2826956.27647455,
          3090086.883382799,
          3267027.378159555,
          3529281.624669611,
          4075513.7085201694,
          4427702.555933216,
          5170042.10295419,
          5915019.6210845085,
          6132603.509048888,
          6638039.970975786
         ],
         "yaxis": "y",
         "yhoverformat": ",.0f"
        },
        {
         "hovertemplate": "%{x}: %{y} <extra></extra>",
         "legendgroup": "Sample 2",
         "line": {
          "color": "#EF553B",
          "dash": "solid"
         },
         "marker": {
          "symbol": "circle"
         },
         "mode": "markers+lines",
         "name": "Sample 2",
         "orientation": "v",
         "showlegend": true,
         "type": "scatter",
         "x": [
          2024,
          2025,
          2026,
          2027,
          2028,
          2029,
          2030,
          2031,
          2032,
          2033,
          2034,
          2035,
          2036,
          2037,
          2038,
          2039,
          2040,
          2041,
          2042,
          2043,
          2044,
          2045,
          2046,
          2047,
          2048,
          2049,
          2050,
          2051,
          2052,
          2053
         ],
         "xaxis": "x",
         "xhoverformat": "%H:%M",
         "y": [
          811852.7464930031,
          881019.4942446331,
          954956.9457743836,
          1076918.9383533786,
          1153090.8480551878,
          1140145.6853171592,
          1298184.1567249016,
          1440115.378491642,
          1656012.6339781757,
          1838848.711878655,
          2047183.9643188282,
          2098033.710995308,
          2230944.482316441,
          2518176.714109712,
          2751655.929806113,
          2833135.5049199224,
          3238774.268187059,
          3010848.080558115,
          3236624.5039363685,
          3548240.851001126,
          3477929.246292045,
          3749423.179938522,
          4313792.165684644,
          4523475.995831089,
          5526090.227184598,
          6159776.75534435,
          6662684.976165444,
          7064972.41999926,
          8015473.9127157405,
          9345911.902236622
         ],
         "yaxis": "y",
         "yhoverformat": ",.0f"
        },
        {
         "hovertemplate": "%{x}: %{y} <extra></extra>",
         "legendgroup": "Sample 3",
         "line": {
          "color": "#00cc96",
          "dash": "solid"
         },
         "marker": {
          "symbol": "circle"
         },
         "mode": "markers+lines",
         "name": "Sample 3",
         "orientation": "v",
         "showlegend": true,
         "type": "scatter",
         "x": [
          2024,
          2025,
          2026,
          2027,
          2028,
          2029,
          2030,
          2031,
          2032,
          2033,
          2034,
          2035,
          2036,
          2037,
          2038,
          2039,
          2040,
          2041,
          2042,
          2043,
          2044,
          2045,
          2046,
          2047,
          2048,
          2049,
          2050,
          2051,
          2052,
          2053
         ],
         "xaxis": "x",
         "xhoverformat": "%H:%M",
         "y": [
          841794.7806044832,
          932743.6081751095,
          1029095.7065127151,
          1131887.7780445148,
          1121706.8498809668,
          1183407.2359669656,
          1258871.0921728795,
          1500331.198052402,
          1725255.8067456328,
          1899229.7694143916,
          2153680.934389085,
          2399601.249750493,
          2648226.4180402546,
          3090838.9426219957,
          3257311.4326546355,
          3672241.2128125005,
          3701453.00980315,
          4314492.6437535,
          4888010.760981084,
          5290870.469952232,
          5509049.442213938,
          5977102.77901167,
          5858661.076333893,
          5866081.526488227,
          6499352.815078464,
          6627038.902886992,
          7742188.391741512,
          7197337.982940872,
          7445672.415378321,
          7451274.0664360495
         ],
         "yaxis": "y",
         "yhoverformat": ",.0f"
        },
        {
         "hovertemplate": "%{x}: %{y} <extra></extra>",
         "legendgroup": "Sample 4",
         "line": {
          "color": "#ab63fa",
          "dash": "solid"
         },
         "marker": {
          "symbol": "circle"
         },
         "mode": "markers+lines",
         "name": "Sample 4",
         "orientation": "v",
         "showlegend": true,
         "type": "scatter",
         "x": [
          2024,
          2025,
          2026,
          2027,
          2028,
          2029,
          2030,
          2031,
          2032,
          2033,
          2034,
          2035,
          2036,
          2037,
          2038,
          2039,
          2040,
          2041,
          2042,
          2043,
          2044,
          2045,
          2046,
          2047,
          2048,
          2049,
          2050,
          2051,
          2052,
          2053
         ],
         "xaxis": "x",
         "xhoverformat": "%H:%M",
         "y": [
          779582.6994767847,
          871733.9840496529,
          1037437.8086969784,
          1186530.8402015457,
          1277402.2909916546,
          1246910.0877054057,
          1358911.2427006715,
          1501096.0683195617,
          1754869.6978383034,
          1816961.805529249,
          1856634.8155136714,
          2164943.266182884,
          2448772.85191011,
          2738814.517243613,
          2670551.516510307,
          3121245.7799814404,
          3164922.533865776,
          3411982.553652459,
          3506538.294830372,
          3744995.348454857,
          4166363.6804928896,
          4551182.7664228035,
          4901843.161370088,
          5502788.754138383,
          5877207.507018071,
          6756291.185419075,
          7718308.261120555,
          8564894.191129541,
          8487856.012805073,
          9023959.528761027
         ],
         "yaxis": "y",
         "yhoverformat": ",.0f"
        },
        {
         "hovertemplate": "%{x}: %{y} <extra></extra>",
         "legendgroup": "Sample 5",
         "line": {
          "color": "#FFA15A",
          "dash": "solid"
         },
         "marker": {
          "symbol": "circle"
         },
         "mode": "markers+lines",
         "name": "Sample 5",
         "orientation": "v",
         "showlegend": true,
         "type": "scatter",
         "x": [
          2024,
          2025,
          2026,
          2027,
          2028,
          2029,
          2030,
          2031,
          2032,
          2033,
          2034,
          2035,
          2036,
          2037,
          2038,
          2039,
          2040,
          2041,
          2042,
          2043,
          2044,
          2045,
          2046,
          2047,
          2048,
          2049,
          2050,
          2051,
          2052,
          2053
         ],
         "xaxis": "x",
         "xhoverformat": "%H:%M",
         "y": [
          818858.2419184573,
          876777.1751274557,
          940142.5464515246,
          1097273.6977446808,
          1087404.1109277003,
          1215461.4290810148,
          1357092.3634994854,
          1410663.4977654354,
          1367796.048629725,
          1423946.0567833227,
          1575532.4219460678,
          1769245.7899508346,
          1931797.204844561,
          2064286.4729769665,
          2249278.639610601,
          2324593.1795807555,
          2506055.452605719,
          2907141.426995981,
          3096970.4971333724,
          3468419.2054037102,
          3728507.8123411066,
          4197664.046433339,
          4572480.026600206,
          5088428.782174686,
          5031303.587939369,
          5881890.169084303,
          6249561.596292768,
          6972317.173353769,
          7882574.988270372,
          8037435.81684003
         ],
         "yaxis": "y",
         "yhoverformat": ",.0f"
        }
       ],
       "layout": {
        "height": 500,
        "hoverlabel": {
         "bgcolor": "white"
        },
        "legend": {
         "title": {
          "text": "Predicted Returns"
         },
         "tracegroupgap": 0
        },
        "template": {
         "data": {
          "bar": [
           {
            "error_x": {
             "color": "#2a3f5f"
            },
            "error_y": {
             "color": "#2a3f5f"
            },
            "marker": {
             "line": {
              "color": "#E5ECF6",
              "width": 0.5
             },
             "pattern": {
              "fillmode": "overlay",
              "size": 10,
              "solidity": 0.2
             }
            },
            "type": "bar"
           }
          ],
          "barpolar": [
           {
            "marker": {
             "line": {
              "color": "#E5ECF6",
              "width": 0.5
             },
             "pattern": {
              "fillmode": "overlay",
              "size": 10,
              "solidity": 0.2
             }
            },
            "type": "barpolar"
           }
          ],
          "carpet": [
           {
            "aaxis": {
             "endlinecolor": "#2a3f5f",
             "gridcolor": "white",
             "linecolor": "white",
             "minorgridcolor": "white",
             "startlinecolor": "#2a3f5f"
            },
            "baxis": {
             "endlinecolor": "#2a3f5f",
             "gridcolor": "white",
             "linecolor": "white",
             "minorgridcolor": "white",
             "startlinecolor": "#2a3f5f"
            },
            "type": "carpet"
           }
          ],
          "choropleth": [
           {
            "colorbar": {
             "outlinewidth": 0,
             "ticks": ""
            },
            "type": "choropleth"
           }
          ],
          "contour": [
           {
            "colorbar": {
             "outlinewidth": 0,
             "ticks": ""
            },
            "colorscale": [
             [
              0,
              "#0d0887"
             ],
             [
              0.1111111111111111,
              "#46039f"
             ],
             [
              0.2222222222222222,
              "#7201a8"
             ],
             [
              0.3333333333333333,
              "#9c179e"
             ],
             [
              0.4444444444444444,
              "#bd3786"
             ],
             [
              0.5555555555555556,
              "#d8576b"
             ],
             [
              0.6666666666666666,
              "#ed7953"
             ],
             [
              0.7777777777777778,
              "#fb9f3a"
             ],
             [
              0.8888888888888888,
              "#fdca26"
             ],
             [
              1,
              "#f0f921"
             ]
            ],
            "type": "contour"
           }
          ],
          "contourcarpet": [
           {
            "colorbar": {
             "outlinewidth": 0,
             "ticks": ""
            },
            "type": "contourcarpet"
           }
          ],
          "heatmap": [
           {
            "colorbar": {
             "outlinewidth": 0,
             "ticks": ""
            },
            "colorscale": [
             [
              0,
              "#0d0887"
             ],
             [
              0.1111111111111111,
              "#46039f"
             ],
             [
              0.2222222222222222,
              "#7201a8"
             ],
             [
              0.3333333333333333,
              "#9c179e"
             ],
             [
              0.4444444444444444,
              "#bd3786"
             ],
             [
              0.5555555555555556,
              "#d8576b"
             ],
             [
              0.6666666666666666,
              "#ed7953"
             ],
             [
              0.7777777777777778,
              "#fb9f3a"
             ],
             [
              0.8888888888888888,
              "#fdca26"
             ],
             [
              1,
              "#f0f921"
             ]
            ],
            "type": "heatmap"
           }
          ],
          "heatmapgl": [
           {
            "colorbar": {
             "outlinewidth": 0,
             "ticks": ""
            },
            "colorscale": [
             [
              0,
              "#0d0887"
             ],
             [
              0.1111111111111111,
              "#46039f"
             ],
             [
              0.2222222222222222,
              "#7201a8"
             ],
             [
              0.3333333333333333,
              "#9c179e"
             ],
             [
              0.4444444444444444,
              "#bd3786"
             ],
             [
              0.5555555555555556,
              "#d8576b"
             ],
             [
              0.6666666666666666,
              "#ed7953"
             ],
             [
              0.7777777777777778,
              "#fb9f3a"
             ],
             [
              0.8888888888888888,
              "#fdca26"
             ],
             [
              1,
              "#f0f921"
             ]
            ],
            "type": "heatmapgl"
           }
          ],
          "histogram": [
           {
            "marker": {
             "pattern": {
              "fillmode": "overlay",
              "size": 10,
              "solidity": 0.2
             }
            },
            "type": "histogram"
           }
          ],
          "histogram2d": [
           {
            "colorbar": {
             "outlinewidth": 0,
             "ticks": ""
            },
            "colorscale": [
             [
              0,
              "#0d0887"
             ],
             [
              0.1111111111111111,
              "#46039f"
             ],
             [
              0.2222222222222222,
              "#7201a8"
             ],
             [
              0.3333333333333333,
              "#9c179e"
             ],
             [
              0.4444444444444444,
              "#bd3786"
             ],
             [
              0.5555555555555556,
              "#d8576b"
             ],
             [
              0.6666666666666666,
              "#ed7953"
             ],
             [
              0.7777777777777778,
              "#fb9f3a"
             ],
             [
              0.8888888888888888,
              "#fdca26"
             ],
             [
              1,
              "#f0f921"
             ]
            ],
            "type": "histogram2d"
           }
          ],
          "histogram2dcontour": [
           {
            "colorbar": {
             "outlinewidth": 0,
             "ticks": ""
            },
            "colorscale": [
             [
              0,
              "#0d0887"
             ],
             [
              0.1111111111111111,
              "#46039f"
             ],
             [
              0.2222222222222222,
              "#7201a8"
             ],
             [
              0.3333333333333333,
              "#9c179e"
             ],
             [
              0.4444444444444444,
              "#bd3786"
             ],
             [
              0.5555555555555556,
              "#d8576b"
             ],
             [
              0.6666666666666666,
              "#ed7953"
             ],
             [
              0.7777777777777778,
              "#fb9f3a"
             ],
             [
              0.8888888888888888,
              "#fdca26"
             ],
             [
              1,
              "#f0f921"
             ]
            ],
            "type": "histogram2dcontour"
           }
          ],
          "mesh3d": [
           {
            "colorbar": {
             "outlinewidth": 0,
             "ticks": ""
            },
            "type": "mesh3d"
           }
          ],
          "parcoords": [
           {
            "line": {
             "colorbar": {
              "outlinewidth": 0,
              "ticks": ""
             }
            },
            "type": "parcoords"
           }
          ],
          "pie": [
           {
            "automargin": true,
            "type": "pie"
           }
          ],
          "scatter": [
           {
            "fillpattern": {
             "fillmode": "overlay",
             "size": 10,
             "solidity": 0.2
            },
            "type": "scatter"
           }
          ],
          "scatter3d": [
           {
            "line": {
             "colorbar": {
              "outlinewidth": 0,
              "ticks": ""
             }
            },
            "marker": {
             "colorbar": {
              "outlinewidth": 0,
              "ticks": ""
             }
            },
            "type": "scatter3d"
           }
          ],
          "scattercarpet": [
           {
            "marker": {
             "colorbar": {
              "outlinewidth": 0,
              "ticks": ""
             }
            },
            "type": "scattercarpet"
           }
          ],
          "scattergeo": [
           {
            "marker": {
             "colorbar": {
              "outlinewidth": 0,
              "ticks": ""
             }
            },
            "type": "scattergeo"
           }
          ],
          "scattergl": [
           {
            "marker": {
             "colorbar": {
              "outlinewidth": 0,
              "ticks": ""
             }
            },
            "type": "scattergl"
           }
          ],
          "scattermapbox": [
           {
            "marker": {
             "colorbar": {
              "outlinewidth": 0,
              "ticks": ""
             }
            },
            "type": "scattermapbox"
           }
          ],
          "scatterpolar": [
           {
            "marker": {
             "colorbar": {
              "outlinewidth": 0,
              "ticks": ""
             }
            },
            "type": "scatterpolar"
           }
          ],
          "scatterpolargl": [
           {
            "marker": {
             "colorbar": {
              "outlinewidth": 0,
              "ticks": ""
             }
            },
            "type": "scatterpolargl"
           }
          ],
          "scatterternary": [
           {
            "marker": {
             "colorbar": {
              "outlinewidth": 0,
              "ticks": ""
             }
            },
            "type": "scatterternary"
           }
          ],
          "surface": [
           {
            "colorbar": {
             "outlinewidth": 0,
             "ticks": ""
            },
            "colorscale": [
             [
              0,
              "#0d0887"
             ],
             [
              0.1111111111111111,
              "#46039f"
             ],
             [
              0.2222222222222222,
              "#7201a8"
             ],
             [
              0.3333333333333333,
              "#9c179e"
             ],
             [
              0.4444444444444444,
              "#bd3786"
             ],
             [
              0.5555555555555556,
              "#d8576b"
             ],
             [
              0.6666666666666666,
              "#ed7953"
             ],
             [
              0.7777777777777778,
              "#fb9f3a"
             ],
             [
              0.8888888888888888,
              "#fdca26"
             ],
             [
              1,
              "#f0f921"
             ]
            ],
            "type": "surface"
           }
          ],
          "table": [
           {
            "cells": {
             "fill": {
              "color": "#EBF0F8"
             },
             "line": {
              "color": "white"
             }
            },
            "header": {
             "fill": {
              "color": "#C8D4E3"
             },
             "line": {
              "color": "white"
             }
            },
            "type": "table"
           }
          ]
         },
         "layout": {
          "annotationdefaults": {
           "arrowcolor": "#2a3f5f",
           "arrowhead": 0,
           "arrowwidth": 1
          },
          "autotypenumbers": "strict",
          "coloraxis": {
           "colorbar": {
            "outlinewidth": 0,
            "ticks": ""
           }
          },
          "colorscale": {
           "diverging": [
            [
             0,
             "#8e0152"
            ],
            [
             0.1,
             "#c51b7d"
            ],
            [
             0.2,
             "#de77ae"
            ],
            [
             0.3,
             "#f1b6da"
            ],
            [
             0.4,
             "#fde0ef"
            ],
            [
             0.5,
             "#f7f7f7"
            ],
            [
             0.6,
             "#e6f5d0"
            ],
            [
             0.7,
             "#b8e186"
            ],
            [
             0.8,
             "#7fbc41"
            ],
            [
             0.9,
             "#4d9221"
            ],
            [
             1,
             "#276419"
            ]
           ],
           "sequential": [
            [
             0,
             "#0d0887"
            ],
            [
             0.1111111111111111,
             "#46039f"
            ],
            [
             0.2222222222222222,
             "#7201a8"
            ],
            [
             0.3333333333333333,
             "#9c179e"
            ],
            [
             0.4444444444444444,
             "#bd3786"
            ],
            [
             0.5555555555555556,
             "#d8576b"
            ],
            [
             0.6666666666666666,
             "#ed7953"
            ],
            [
             0.7777777777777778,
             "#fb9f3a"
            ],
            [
             0.8888888888888888,
             "#fdca26"
            ],
            [
             1,
             "#f0f921"
            ]
           ],
           "sequentialminus": [
            [
             0,
             "#0d0887"
            ],
            [
             0.1111111111111111,
             "#46039f"
            ],
            [
             0.2222222222222222,
             "#7201a8"
            ],
            [
             0.3333333333333333,
             "#9c179e"
            ],
            [
             0.4444444444444444,
             "#bd3786"
            ],
            [
             0.5555555555555556,
             "#d8576b"
            ],
            [
             0.6666666666666666,
             "#ed7953"
            ],
            [
             0.7777777777777778,
             "#fb9f3a"
            ],
            [
             0.8888888888888888,
             "#fdca26"
            ],
            [
             1,
             "#f0f921"
            ]
           ]
          },
          "colorway": [
           "#636efa",
           "#EF553B",
           "#00cc96",
           "#ab63fa",
           "#FFA15A",
           "#19d3f3",
           "#FF6692",
           "#B6E880",
           "#FF97FF",
           "#FECB52"
          ],
          "font": {
           "color": "#2a3f5f"
          },
          "geo": {
           "bgcolor": "white",
           "lakecolor": "white",
           "landcolor": "#E5ECF6",
           "showlakes": true,
           "showland": true,
           "subunitcolor": "white"
          },
          "hoverlabel": {
           "align": "left"
          },
          "hovermode": "closest",
          "mapbox": {
           "style": "light"
          },
          "paper_bgcolor": "white",
          "plot_bgcolor": "#E5ECF6",
          "polar": {
           "angularaxis": {
            "gridcolor": "white",
            "linecolor": "white",
            "ticks": ""
           },
           "bgcolor": "#E5ECF6",
           "radialaxis": {
            "gridcolor": "white",
            "linecolor": "white",
            "ticks": ""
           }
          },
          "scene": {
           "xaxis": {
            "backgroundcolor": "#E5ECF6",
            "gridcolor": "white",
            "gridwidth": 2,
            "linecolor": "white",
            "showbackground": true,
            "ticks": "",
            "zerolinecolor": "white"
           },
           "yaxis": {
            "backgroundcolor": "#E5ECF6",
            "gridcolor": "white",
            "gridwidth": 2,
            "linecolor": "white",
            "showbackground": true,
            "ticks": "",
            "zerolinecolor": "white"
           },
           "zaxis": {
            "backgroundcolor": "#E5ECF6",
            "gridcolor": "white",
            "gridwidth": 2,
            "linecolor": "white",
            "showbackground": true,
            "ticks": "",
            "zerolinecolor": "white"
           }
          },
          "shapedefaults": {
           "line": {
            "color": "#2a3f5f"
           }
          },
          "ternary": {
           "aaxis": {
            "gridcolor": "white",
            "linecolor": "white",
            "ticks": ""
           },
           "baxis": {
            "gridcolor": "white",
            "linecolor": "white",
            "ticks": ""
           },
           "bgcolor": "#E5ECF6",
           "caxis": {
            "gridcolor": "white",
            "linecolor": "white",
            "ticks": ""
           }
          },
          "title": {
           "x": 0.05
          },
          "xaxis": {
           "automargin": true,
           "gridcolor": "white",
           "linecolor": "white",
           "ticks": "",
           "title": {
            "standoff": 15
           },
           "zerolinecolor": "white",
           "zerolinewidth": 2
          },
          "yaxis": {
           "automargin": true,
           "gridcolor": "white",
           "linecolor": "white",
           "ticks": "",
           "title": {
            "standoff": 15
           },
           "zerolinecolor": "white",
           "zerolinewidth": 2
          }
         }
        },
        "title": {
         "text": "Future Value of Investment Portfolio"
        },
        "width": 900,
        "xaxis": {
         "anchor": "y",
         "domain": [
          0,
          1
         ],
         "title": {
          "text": "Year"
         }
        },
        "yaxis": {
         "anchor": "x",
         "domain": [
          0,
          1
         ],
         "tickprefix": "$",
         "title": {
          "text": "Value of Investment"
         }
        }
       }
      }
     },
     "metadata": {},
     "output_type": "display_data"
    },
    {
     "name": "stdout",
     "output_type": "stream",
     "text": [
      "The highest projected value in 2053 is: $9,345,912\n",
      "The lowest projected value in 2053 is: $6,638,040\n",
      "The average projected value in 2053 is: $7,991,976\n",
      "The average return rate for the portfolio is: 8.37%\n"
     ]
    }
   ],
   "source": [
    "#enter the investor type (aggressive, moderate, conservative or nervous), the initial investment, and the number of years to forecast\n",
    "forecast_values = retirement_forecast(aggressive,750000,30)\n",
    "\n",
    "#create a plot of the future values of the investment\n",
    "fig = px.line(forecast_values.iloc[:, :5], title=f'Future Value of Investment Portfolio',\n",
    "            #name the key for the legend\n",
    "            labels={'value':'Value of Investment', 'Year':'Year'},\n",
    "            width=900, height=500, markers=True)\n",
    "fig.update_layout(\n",
    "    legend_title=\"Predicted Returns\",\n",
    "    hoverlabel=dict(bgcolor=\"white\")\n",
    "    )\n",
    "#make the tooltip prettier\n",
    "fig.update_traces(mode='markers+lines', xhoverformat='%H:%M', yhoverformat=',.0f', hovertemplate='%{x}: %{y} <extra></extra>')\n",
    "fig.update_yaxes(tickprefix=\"$\")\n",
    "fig.show()\n",
    "#print the highest and lowest investment value for the final year, in addition to the average return rate\n",
    "final_year = forecast_values.index[-1]\n",
    "highest_value = forecast_values.iloc[-1, :5].max()\n",
    "lowest_value = forecast_values.iloc[-1, :5].min()\n",
    "average_value = (highest_value + lowest_value)/2\n",
    "return_forecast = (forecast_values['Avg. Return'].mean())*100\n",
    "print(f'The highest projected value in {final_year} is: ${highest_value:,.0f}')\n",
    "print(f'The lowest projected value in {final_year} is: ${lowest_value:,.0f}')\n",
    "print(f'The average projected value in {final_year} is: ${average_value:,.0f}')\n",
    "print(f'The average return rate for the portfolio is: {return_forecast:.2f}%')"
   ]
  },
  {
   "cell_type": "code",
   "execution_count": 16,
   "id": "edc22997",
   "metadata": {},
   "outputs": [
    {
     "data": {
      "text/html": [
       "<div>\n",
       "<style scoped>\n",
       "    .dataframe tbody tr th:only-of-type {\n",
       "        vertical-align: middle;\n",
       "    }\n",
       "\n",
       "    .dataframe tbody tr th {\n",
       "        vertical-align: top;\n",
       "    }\n",
       "\n",
       "    .dataframe thead th {\n",
       "        text-align: right;\n",
       "    }\n",
       "</style>\n",
       "<table border=\"1\" class=\"dataframe\">\n",
       "  <thead>\n",
       "    <tr style=\"text-align: right;\">\n",
       "      <th></th>\n",
       "      <th>Sample 1</th>\n",
       "      <th>Sample 2</th>\n",
       "      <th>Sample 3</th>\n",
       "      <th>Sample 4</th>\n",
       "      <th>Sample 5</th>\n",
       "      <th>Avg. Return</th>\n",
       "    </tr>\n",
       "    <tr>\n",
       "      <th>Year</th>\n",
       "      <th></th>\n",
       "      <th></th>\n",
       "      <th></th>\n",
       "      <th></th>\n",
       "      <th></th>\n",
       "      <th></th>\n",
       "    </tr>\n",
       "  </thead>\n",
       "  <tbody>\n",
       "    <tr>\n",
       "      <th>2024</th>\n",
       "      <td>8.030485e+05</td>\n",
       "      <td>8.118527e+05</td>\n",
       "      <td>8.417948e+05</td>\n",
       "      <td>7.795827e+05</td>\n",
       "      <td>8.188582e+05</td>\n",
       "      <td>0.081370</td>\n",
       "    </tr>\n",
       "    <tr>\n",
       "      <th>2025</th>\n",
       "      <td>8.642175e+05</td>\n",
       "      <td>8.810195e+05</td>\n",
       "      <td>9.327436e+05</td>\n",
       "      <td>8.717340e+05</td>\n",
       "      <td>8.767772e+05</td>\n",
       "      <td>0.091669</td>\n",
       "    </tr>\n",
       "    <tr>\n",
       "      <th>2026</th>\n",
       "      <td>9.009002e+05</td>\n",
       "      <td>9.549569e+05</td>\n",
       "      <td>1.029096e+06</td>\n",
       "      <td>1.037438e+06</td>\n",
       "      <td>9.401425e+05</td>\n",
       "      <td>0.098405</td>\n",
       "    </tr>\n",
       "    <tr>\n",
       "      <th>2027</th>\n",
       "      <td>9.364350e+05</td>\n",
       "      <td>1.076919e+06</td>\n",
       "      <td>1.131888e+06</td>\n",
       "      <td>1.186531e+06</td>\n",
       "      <td>1.097274e+06</td>\n",
       "      <td>0.115578</td>\n",
       "    </tr>\n",
       "    <tr>\n",
       "      <th>2028</th>\n",
       "      <td>9.424287e+05</td>\n",
       "      <td>1.153091e+06</td>\n",
       "      <td>1.121707e+06</td>\n",
       "      <td>1.277402e+06</td>\n",
       "      <td>1.087404e+06</td>\n",
       "      <td>0.027146</td>\n",
       "    </tr>\n",
       "    <tr>\n",
       "      <th>2029</th>\n",
       "      <td>1.023736e+06</td>\n",
       "      <td>1.140146e+06</td>\n",
       "      <td>1.183407e+06</td>\n",
       "      <td>1.246910e+06</td>\n",
       "      <td>1.215461e+06</td>\n",
       "      <td>0.044790</td>\n",
       "    </tr>\n",
       "    <tr>\n",
       "      <th>2030</th>\n",
       "      <td>1.131501e+06</td>\n",
       "      <td>1.298184e+06</td>\n",
       "      <td>1.258871e+06</td>\n",
       "      <td>1.358911e+06</td>\n",
       "      <td>1.357092e+06</td>\n",
       "      <td>0.102799</td>\n",
       "    </tr>\n",
       "    <tr>\n",
       "      <th>2031</th>\n",
       "      <td>1.121323e+06</td>\n",
       "      <td>1.440115e+06</td>\n",
       "      <td>1.500331e+06</td>\n",
       "      <td>1.501096e+06</td>\n",
       "      <td>1.410663e+06</td>\n",
       "      <td>0.087250</td>\n",
       "    </tr>\n",
       "    <tr>\n",
       "      <th>2032</th>\n",
       "      <td>1.277133e+06</td>\n",
       "      <td>1.656013e+06</td>\n",
       "      <td>1.725256e+06</td>\n",
       "      <td>1.754870e+06</td>\n",
       "      <td>1.367796e+06</td>\n",
       "      <td>0.115491</td>\n",
       "    </tr>\n",
       "    <tr>\n",
       "      <th>2033</th>\n",
       "      <td>1.375370e+06</td>\n",
       "      <td>1.838849e+06</td>\n",
       "      <td>1.899230e+06</td>\n",
       "      <td>1.816962e+06</td>\n",
       "      <td>1.423946e+06</td>\n",
       "      <td>0.072920</td>\n",
       "    </tr>\n",
       "  </tbody>\n",
       "</table>\n",
       "</div>"
      ],
      "text/plain": [
       "          Sample 1      Sample 2      Sample 3      Sample 4      Sample 5  \\\n",
       "Year                                                                         \n",
       "2024  8.030485e+05  8.118527e+05  8.417948e+05  7.795827e+05  8.188582e+05   \n",
       "2025  8.642175e+05  8.810195e+05  9.327436e+05  8.717340e+05  8.767772e+05   \n",
       "2026  9.009002e+05  9.549569e+05  1.029096e+06  1.037438e+06  9.401425e+05   \n",
       "2027  9.364350e+05  1.076919e+06  1.131888e+06  1.186531e+06  1.097274e+06   \n",
       "2028  9.424287e+05  1.153091e+06  1.121707e+06  1.277402e+06  1.087404e+06   \n",
       "2029  1.023736e+06  1.140146e+06  1.183407e+06  1.246910e+06  1.215461e+06   \n",
       "2030  1.131501e+06  1.298184e+06  1.258871e+06  1.358911e+06  1.357092e+06   \n",
       "2031  1.121323e+06  1.440115e+06  1.500331e+06  1.501096e+06  1.410663e+06   \n",
       "2032  1.277133e+06  1.656013e+06  1.725256e+06  1.754870e+06  1.367796e+06   \n",
       "2033  1.375370e+06  1.838849e+06  1.899230e+06  1.816962e+06  1.423946e+06   \n",
       "\n",
       "      Avg. Return  \n",
       "Year               \n",
       "2024     0.081370  \n",
       "2025     0.091669  \n",
       "2026     0.098405  \n",
       "2027     0.115578  \n",
       "2028     0.027146  \n",
       "2029     0.044790  \n",
       "2030     0.102799  \n",
       "2031     0.087250  \n",
       "2032     0.115491  \n",
       "2033     0.072920  "
      ]
     },
     "execution_count": 16,
     "metadata": {},
     "output_type": "execute_result"
    }
   ],
   "source": [
    "forecast_values.head(10)"
   ]
  },
  {
   "cell_type": "code",
   "execution_count": 123,
   "id": "cb211e3d",
   "metadata": {},
   "outputs": [
    {
     "data": {
      "text/html": [
       "<div>\n",
       "<style scoped>\n",
       "    .dataframe tbody tr th:only-of-type {\n",
       "        vertical-align: middle;\n",
       "    }\n",
       "\n",
       "    .dataframe tbody tr th {\n",
       "        vertical-align: top;\n",
       "    }\n",
       "\n",
       "    .dataframe thead th {\n",
       "        text-align: right;\n",
       "    }\n",
       "</style>\n",
       "<table border=\"1\" class=\"dataframe\">\n",
       "  <thead>\n",
       "    <tr style=\"text-align: right;\">\n",
       "      <th></th>\n",
       "      <th>Avg. Return</th>\n",
       "      <th>Contribution</th>\n",
       "      <th>Future Value</th>\n",
       "      <th>With Contribution</th>\n",
       "    </tr>\n",
       "    <tr>\n",
       "      <th>Year</th>\n",
       "      <th></th>\n",
       "      <th></th>\n",
       "      <th></th>\n",
       "      <th></th>\n",
       "    </tr>\n",
       "  </thead>\n",
       "  <tbody>\n",
       "    <tr>\n",
       "      <th>2024</th>\n",
       "      <td>0.066083</td>\n",
       "      <td>5000</td>\n",
       "      <td>586345.701973</td>\n",
       "      <td>591676.117445</td>\n",
       "    </tr>\n",
       "    <tr>\n",
       "      <th>2025</th>\n",
       "      <td>0.105754</td>\n",
       "      <td>10000</td>\n",
       "      <td>648354.250437</td>\n",
       "      <td>660142.509535</td>\n",
       "    </tr>\n",
       "    <tr>\n",
       "      <th>2026</th>\n",
       "      <td>0.067189</td>\n",
       "      <td>15000</td>\n",
       "      <td>691916.560583</td>\n",
       "      <td>710787.012235</td>\n",
       "    </tr>\n",
       "    <tr>\n",
       "      <th>2027</th>\n",
       "      <td>0.065513</td>\n",
       "      <td>20000</td>\n",
       "      <td>737245.911196</td>\n",
       "      <td>764054.853422</td>\n",
       "    </tr>\n",
       "    <tr>\n",
       "      <th>2028</th>\n",
       "      <td>0.075224</td>\n",
       "      <td>25000</td>\n",
       "      <td>792704.562091</td>\n",
       "      <td>828736.587640</td>\n",
       "    </tr>\n",
       "  </tbody>\n",
       "</table>\n",
       "</div>"
      ],
      "text/plain": [
       "      Avg. Return  Contribution   Future Value  With Contribution\n",
       "Year                                                             \n",
       "2024     0.066083          5000  586345.701973      591676.117445\n",
       "2025     0.105754         10000  648354.250437      660142.509535\n",
       "2026     0.067189         15000  691916.560583      710787.012235\n",
       "2027     0.065513         20000  737245.911196      764054.853422\n",
       "2028     0.075224         25000  792704.562091      828736.587640"
      ]
     },
     "execution_count": 123,
     "metadata": {},
     "output_type": "execute_result"
    }
   ],
   "source": [
    "#enter the investor type (aggressive, moderate, conservative or nervous), the initial investment, and the number of years to forecast\n",
    "def retirement_income(investor, investment, contribution, years):\n",
    "    forecast_rates = list(investor.values())[0]\n",
    "    investor_type = list(investor.keys())[0]\n",
    "    sample_count = 0\n",
    "    forecast_samples = {}\n",
    "    forecast_df = [0,0]\n",
    "\n",
    "    #require the user to enter a minimum of 10 years\n",
    "    if years < 10:\n",
    "        return('Please enter a forecast period of at least 10 years')\n",
    "    else:\n",
    "        pass\n",
    "    #creating a sample that follows the same patterns of positive and negative change, as well as negative returns \n",
    "    while sample_count < 5:\n",
    "        rates = random.sample(forecast_rates, years)\n",
    "        negative = negative_counter(rates)\n",
    "        positive_change = positive_change_counter(rates)\n",
    "        if positive_change >= 40 and positive_change <= 50:\n",
    "            if investor_type == 'aggressive_investor':\n",
    "                if negative < 10:\n",
    "                    pass\n",
    "                else:\n",
    "                    agg_rates = rates.copy() \n",
    "                    column_name = 'Sample ' + str(sample_count+1)\n",
    "                    forecast_samples[column_name] = agg_rates\n",
    "                    sample_count += 1\n",
    "            #creating nervous investor, zero rates signify pulling out of the market\n",
    "            if investor_type == 'nervous_investor':\n",
    "                #this statement is pushing the zeroed values into my aggressive return dataframe\n",
    "                if negative < 10:\n",
    "                    pass\n",
    "                else:\n",
    "                    #if investor is nervous, replace the three consecutive returns after a negative rate with a zero\n",
    "                    nervous_rates = rates.copy()\n",
    "                    for i in range(len(nervous_rates)-3):\n",
    "                        if nervous_rates[i] < 0:\n",
    "                            nervous_rates[i+1] = 0\n",
    "                            nervous_rates[i+2] = 0\n",
    "                            nervous_rates[i+3] = 0\n",
    "                    zero_rates = nervous_rates\n",
    "                    column_name = 'Sample ' + str(sample_count+1)\n",
    "                    forecast_samples[column_name] = zero_rates\n",
    "                    sample_count += 1\n",
    "            #conservative or moderate investor\n",
    "            if investor_type == 'conservative_investor' or investor_type == 'moderate_investor':\n",
    "                con_mod_rates = rates.copy()\n",
    "                column_name = 'Sample ' + str(sample_count+1)\n",
    "                forecast_samples[column_name] = con_mod_rates\n",
    "                sample_count += 1\n",
    "            else:\n",
    "                pass\n",
    "        else:\n",
    "            pass\n",
    "\n",
    "    #create dataframe from the dictionary\n",
    "    forecast_df = pd.DataFrame(forecast_samples)\n",
    "    #create  year column, starting with the current year and adding a year for each row\n",
    "    forecast_df['Year'] = datetime.now().year + forecast_df.index\n",
    "    forecast_df.set_index('Year', inplace=True)\n",
    "    #create a new dataframe that averages the 5 sample columns as one average return rate\n",
    "    income_df = forecast_df.copy()\n",
    "    #average the 5 samples\n",
    "    income_df['Avg. Return'] = forecast_df.mean(axis=1)\n",
    "    income_df.drop(columns=['Sample 1', 'Sample 2', 'Sample 3', 'Sample 4', 'Sample 5'], inplace=True)\n",
    "    #create a new column that shows the future value of the investment\n",
    "    #create a column that counts the number of years\n",
    "    year_count = (income_df.index - income_df.index[0])+1\n",
    "    income_df['Contribution']= contribution*year_count\n",
    "    income_df['Future Value'] = investment*(1 + income_df['Avg. Return']).cumprod()\n",
    "    income_df['With Contribution'] = (investment + income_df['Contribution'])*(1 + income_df['Avg. Return']).cumprod()\n",
    "    # column below used for data validation, not needed for final output\n",
    "    # income_df['Contribution Gain'] = income_df['With Contribution'] - income_df['Future Value']\n",
    "    return income_df\n",
    "\n",
    "\n",
    "retirement_df = retirement_income(aggressive,550000,5000,20)\n",
    "retirement_df.head()"
   ]
  },
  {
   "cell_type": "code",
   "execution_count": 124,
   "id": "3ed7368b",
   "metadata": {},
   "outputs": [
    {
     "name": "stdout",
     "output_type": "stream",
     "text": [
      "The projected annual income in 2043 is: $134,262\n",
      "The projected monthly income in 2043 is: $11,188\n",
      "The return is: 8.59%\n"
     ]
    }
   ],
   "source": [
    "#take the final future value and multiply it by 4% to get the annual income\n",
    "final_year = retirement_df.index[-1]\n",
    "final_value = retirement_df['Future Value'].iloc[-1]\n",
    "total_cont = retirement_df['Contribution'].iloc[-1]\n",
    "final_value_cont = retirement_df['With Contribution'].iloc[-1]\n",
    "cont_gain = round((final_value_cont - final_value)-total_cont)\n",
    "annual_income = retirement_df['With Contribution'].iloc[-1]*0.04\n",
    "monthly_income = annual_income/12\n",
    "average_return = (retirement_df['Avg. Return'].mean())*100\n",
    "print(f'The projected annual income in {retirement_df.index[-1]} is: ${annual_income:,.0f}')\n",
    "print(f'The projected monthly income in {retirement_df.index[-1]} is: ${monthly_income:,.0f}')\n",
    "print(f'The return is: {average_return:,.2f}%')"
   ]
  },
  {
   "cell_type": "code",
   "execution_count": 125,
   "id": "cde2d6b5",
   "metadata": {},
   "outputs": [
    {
     "data": {
      "text/html": [
       "<div>\n",
       "<style scoped>\n",
       "    .dataframe tbody tr th:only-of-type {\n",
       "        vertical-align: middle;\n",
       "    }\n",
       "\n",
       "    .dataframe tbody tr th {\n",
       "        vertical-align: top;\n",
       "    }\n",
       "\n",
       "    .dataframe thead th {\n",
       "        text-align: right;\n",
       "    }\n",
       "</style>\n",
       "<table border=\"1\" class=\"dataframe\">\n",
       "  <thead>\n",
       "    <tr style=\"text-align: right;\">\n",
       "      <th></th>\n",
       "      <th>Final Value</th>\n",
       "      <th>Contribution Total</th>\n",
       "      <th>Contribution Growth</th>\n",
       "      <th>Average Return</th>\n",
       "      <th>Annual Income</th>\n",
       "      <th>Monthly Income</th>\n",
       "    </tr>\n",
       "    <tr>\n",
       "      <th>Final Year</th>\n",
       "      <th></th>\n",
       "      <th></th>\n",
       "      <th></th>\n",
       "      <th></th>\n",
       "      <th></th>\n",
       "      <th></th>\n",
       "    </tr>\n",
       "  </thead>\n",
       "  <tbody>\n",
       "    <tr>\n",
       "      <th>2043</th>\n",
       "      <td>3.356545e+06</td>\n",
       "      <td>100000</td>\n",
       "      <td>416392</td>\n",
       "      <td>8.587087</td>\n",
       "      <td>134261.792602</td>\n",
       "      <td>11188.482717</td>\n",
       "    </tr>\n",
       "  </tbody>\n",
       "</table>\n",
       "</div>"
      ],
      "text/plain": [
       "             Final Value  Contribution Total  Contribution Growth  \\\n",
       "Final Year                                                          \n",
       "2043        3.356545e+06              100000               416392   \n",
       "\n",
       "            Average Return  Annual Income  Monthly Income  \n",
       "Final Year                                                 \n",
       "2043              8.587087  134261.792602    11188.482717  "
      ]
     },
     "execution_count": 125,
     "metadata": {},
     "output_type": "execute_result"
    }
   ],
   "source": [
    "retirement_summary = pd.DataFrame({'Final Year':[final_year], 'Final Value':[final_value_cont], 'Contribution Total':[total_cont], 'Contribution Growth':[cont_gain], 'Average Return':[average_return], \n",
    "                                   'Annual Income':[annual_income], 'Monthly Income':[monthly_income]})\n",
    "retirement_summary.set_index('Final Year', inplace=True)\n",
    "retirement_summary"
   ]
  },
  {
   "cell_type": "code",
   "execution_count": 18,
   "id": "a4465341",
   "metadata": {},
   "outputs": [
    {
     "data": {
      "text/html": [
       "<div>\n",
       "<style scoped>\n",
       "    .dataframe tbody tr th:only-of-type {\n",
       "        vertical-align: middle;\n",
       "    }\n",
       "\n",
       "    .dataframe tbody tr th {\n",
       "        vertical-align: top;\n",
       "    }\n",
       "\n",
       "    .dataframe thead th {\n",
       "        text-align: right;\n",
       "    }\n",
       "</style>\n",
       "<table border=\"1\" class=\"dataframe\">\n",
       "  <thead>\n",
       "    <tr style=\"text-align: right;\">\n",
       "      <th></th>\n",
       "      <th>Sample 1</th>\n",
       "      <th>Sample 2</th>\n",
       "      <th>Sample 3</th>\n",
       "      <th>Sample 4</th>\n",
       "      <th>Sample 5</th>\n",
       "      <th>Avg. Return</th>\n",
       "    </tr>\n",
       "    <tr>\n",
       "      <th>Year</th>\n",
       "      <th></th>\n",
       "      <th></th>\n",
       "      <th></th>\n",
       "      <th></th>\n",
       "      <th></th>\n",
       "      <th></th>\n",
       "    </tr>\n",
       "  </thead>\n",
       "  <tbody>\n",
       "    <tr>\n",
       "      <th>2024</th>\n",
       "      <td>8.963040e+05</td>\n",
       "      <td>8.623841e+05</td>\n",
       "      <td>7.837579e+05</td>\n",
       "      <td>8.455435e+05</td>\n",
       "      <td>8.757435e+05</td>\n",
       "      <td>0.136995</td>\n",
       "    </tr>\n",
       "    <tr>\n",
       "      <th>2025</th>\n",
       "      <td>9.652482e+05</td>\n",
       "      <td>9.149952e+05</td>\n",
       "      <td>8.730995e+05</td>\n",
       "      <td>9.152314e+05</td>\n",
       "      <td>1.048771e+06</td>\n",
       "      <td>0.106383</td>\n",
       "    </tr>\n",
       "    <tr>\n",
       "      <th>2026</th>\n",
       "      <td>9.555820e+05</td>\n",
       "      <td>9.067651e+05</td>\n",
       "      <td>9.431859e+05</td>\n",
       "      <td>9.343038e+05</td>\n",
       "      <td>1.099145e+06</td>\n",
       "      <td>0.026027</td>\n",
       "    </tr>\n",
       "    <tr>\n",
       "      <th>2027</th>\n",
       "      <td>1.091545e+06</td>\n",
       "      <td>1.017663e+06</td>\n",
       "      <td>9.770138e+05</td>\n",
       "      <td>1.056793e+06</td>\n",
       "      <td>1.192529e+06</td>\n",
       "      <td>0.103303</td>\n",
       "    </tr>\n",
       "    <tr>\n",
       "      <th>2028</th>\n",
       "      <td>1.163139e+06</td>\n",
       "      <td>1.077173e+06</td>\n",
       "      <td>1.168660e+06</td>\n",
       "      <td>1.135081e+06</td>\n",
       "      <td>1.299012e+06</td>\n",
       "      <td>0.096719</td>\n",
       "    </tr>\n",
       "  </tbody>\n",
       "</table>\n",
       "</div>"
      ],
      "text/plain": [
       "          Sample 1      Sample 2      Sample 3      Sample 4      Sample 5  \\\n",
       "Year                                                                         \n",
       "2024  8.963040e+05  8.623841e+05  7.837579e+05  8.455435e+05  8.757435e+05   \n",
       "2025  9.652482e+05  9.149952e+05  8.730995e+05  9.152314e+05  1.048771e+06   \n",
       "2026  9.555820e+05  9.067651e+05  9.431859e+05  9.343038e+05  1.099145e+06   \n",
       "2027  1.091545e+06  1.017663e+06  9.770138e+05  1.056793e+06  1.192529e+06   \n",
       "2028  1.163139e+06  1.077173e+06  1.168660e+06  1.135081e+06  1.299012e+06   \n",
       "\n",
       "      Avg. Return  \n",
       "Year               \n",
       "2024     0.136995  \n",
       "2025     0.106383  \n",
       "2026     0.026027  \n",
       "2027     0.103303  \n",
       "2028     0.096719  "
      ]
     },
     "execution_count": 18,
     "metadata": {},
     "output_type": "execute_result"
    }
   ],
   "source": [
    "retirement_comparison = retirement_forecast(aggressive,750000,30)\n",
    "retirement_comparison.head()"
   ]
  },
  {
   "cell_type": "code",
   "execution_count": 19,
   "id": "d421d381",
   "metadata": {},
   "outputs": [],
   "source": [
    "# repeat the retirement_forecast function, picking a random investor, a random initial investment from 100000 to 2000000, and a random number of years to forecast from 10 to 50\n",
    "def random_forecast():\n",
    "    investor_pick = random.choice([aggressive, moderate, conservative, nervous])\n",
    "    investment = random.randint(100000, 2000000)\n",
    "    years = random.randint(10, 50)\n",
    "    random_forecast = retirement_forecast(investor_pick, investment, years)\n",
    "    #get the average final value of the portfolio\n",
    "    final_year = random_forecast.index[-1]\n",
    "    highest_value = random_forecast.iloc[-1, :5].max()\n",
    "    lowest_value = random_forecast.iloc[-1, :5].min()\n",
    "    average_value = round((highest_value + lowest_value)/2)\n",
    "    #create a new list to hold the number of years forecasted, the investor type, and the highest average value\n",
    "    \n",
    "\n",
    "    forecast_list = [list(investor_pick.keys())[0], years, investment, average_value]\n",
    "    return  forecast_list\n",
    "\n",
    "\n",
    "#this commented out section was used to generate a large csv file of random forecasts to be used in a machine learning model\n",
    "# print(random_forecast())\n",
    "\n",
    "#the random_forecast function was run 10,000 times to create a dataframe of the results for my machine learning model\n",
    "# forecast_results = []\n",
    "# for i in range(10000):\n",
    "#     forecast_results.append(random_forecast())\n",
    "# forecast_df = pd.DataFrame(forecast_results, columns=['Investor Type', 'Years Forecasted', 'Initial Investment', 'Final Value'])\n",
    "# forecast_df.to_csv('Data/forecast_results.csv')\n",
    "# forecast_df.head()\n"
   ]
  },
  {
   "cell_type": "markdown",
   "id": "9cfbd7a3",
   "metadata": {},
   "source": [
    "### Learning from the Past:\n",
    "The retirement forecast function was utilized to generate 10,000 hypothetical investment scenarios.  Initial investment values were randomly generated, ranging from $100,000 to $2,000,000, with a range of investment years from 10-50. The hypothetical dataset was saved as a CSV and then utilized for machine learning.\n",
    "\n",
    "*Modeling:* Linear regression, ridge regression, and KNN were the machine learning models tested. A grid search was set up to optimize the parameters for each model.\n",
    "*Cross-validation:* After assessing the model performance, the KNN model proved to be the best predictor of retirement values. The KNN model was implemented for creating predictions."
   ]
  },
  {
   "cell_type": "code",
   "execution_count": 20,
   "id": "dcf7b689",
   "metadata": {},
   "outputs": [],
   "source": [
    "#importing functions for the machine learning model\n",
    "from sklearn.pipeline import Pipeline\n",
    "from sklearn.model_selection import train_test_split\n",
    "from sklearn.metrics import mean_squared_error\n",
    "from sklearn.pipeline import Pipeline\n",
    "from sklearn.model_selection import GridSearchCV\n",
    "from sklearn.linear_model import LinearRegression, Ridge\n",
    "from sklearn.neighbors import KNeighborsRegressor\n",
    "from sklearn.preprocessing import StandardScaler\n",
    "from sklearn import metrics\n",
    "from sklearn.model_selection import train_test_split\n",
    "from sklearn.model_selection import cross_val_score, KFold\n",
    "import warnings\n",
    "# Suppress UserWarning from scikit-learn\n",
    "warnings.filterwarnings(\"ignore\", category=UserWarning)"
   ]
  },
  {
   "cell_type": "code",
   "execution_count": 21,
   "id": "8470ecff",
   "metadata": {},
   "outputs": [
    {
     "data": {
      "text/html": [
       "<div>\n",
       "<style scoped>\n",
       "    .dataframe tbody tr th:only-of-type {\n",
       "        vertical-align: middle;\n",
       "    }\n",
       "\n",
       "    .dataframe tbody tr th {\n",
       "        vertical-align: top;\n",
       "    }\n",
       "\n",
       "    .dataframe thead th {\n",
       "        text-align: right;\n",
       "    }\n",
       "</style>\n",
       "<table border=\"1\" class=\"dataframe\">\n",
       "  <thead>\n",
       "    <tr style=\"text-align: right;\">\n",
       "      <th></th>\n",
       "      <th>Years Forecasted</th>\n",
       "      <th>Initial Investment</th>\n",
       "      <th>Final Value</th>\n",
       "      <th>Investor Type_aggressive_investor</th>\n",
       "      <th>Investor Type_conservative_investor</th>\n",
       "      <th>Investor Type_moderate_investor</th>\n",
       "      <th>Investor Type_nervous_investor</th>\n",
       "    </tr>\n",
       "  </thead>\n",
       "  <tbody>\n",
       "    <tr>\n",
       "      <th>0</th>\n",
       "      <td>26</td>\n",
       "      <td>150479</td>\n",
       "      <td>1304900</td>\n",
       "      <td>True</td>\n",
       "      <td>False</td>\n",
       "      <td>False</td>\n",
       "      <td>False</td>\n",
       "    </tr>\n",
       "    <tr>\n",
       "      <th>1</th>\n",
       "      <td>37</td>\n",
       "      <td>866684</td>\n",
       "      <td>14806594</td>\n",
       "      <td>True</td>\n",
       "      <td>False</td>\n",
       "      <td>False</td>\n",
       "      <td>False</td>\n",
       "    </tr>\n",
       "    <tr>\n",
       "      <th>2</th>\n",
       "      <td>19</td>\n",
       "      <td>1495145</td>\n",
       "      <td>4604895</td>\n",
       "      <td>False</td>\n",
       "      <td>False</td>\n",
       "      <td>False</td>\n",
       "      <td>True</td>\n",
       "    </tr>\n",
       "    <tr>\n",
       "      <th>3</th>\n",
       "      <td>24</td>\n",
       "      <td>1907617</td>\n",
       "      <td>14084322</td>\n",
       "      <td>True</td>\n",
       "      <td>False</td>\n",
       "      <td>False</td>\n",
       "      <td>False</td>\n",
       "    </tr>\n",
       "    <tr>\n",
       "      <th>4</th>\n",
       "      <td>18</td>\n",
       "      <td>440310</td>\n",
       "      <td>1597852</td>\n",
       "      <td>True</td>\n",
       "      <td>False</td>\n",
       "      <td>False</td>\n",
       "      <td>False</td>\n",
       "    </tr>\n",
       "  </tbody>\n",
       "</table>\n",
       "</div>"
      ],
      "text/plain": [
       "   Years Forecasted  Initial Investment  Final Value  \\\n",
       "0                26              150479      1304900   \n",
       "1                37              866684     14806594   \n",
       "2                19             1495145      4604895   \n",
       "3                24             1907617     14084322   \n",
       "4                18              440310      1597852   \n",
       "\n",
       "   Investor Type_aggressive_investor  Investor Type_conservative_investor  \\\n",
       "0                               True                                False   \n",
       "1                               True                                False   \n",
       "2                              False                                False   \n",
       "3                               True                                False   \n",
       "4                               True                                False   \n",
       "\n",
       "   Investor Type_moderate_investor  Investor Type_nervous_investor  \n",
       "0                            False                           False  \n",
       "1                            False                           False  \n",
       "2                            False                            True  \n",
       "3                            False                           False  \n",
       "4                            False                           False  "
      ]
     },
     "execution_count": 21,
     "metadata": {},
     "output_type": "execute_result"
    }
   ],
   "source": [
    "#convert the forecast_results csv file into a dataframe\n",
    "forecast_results = pd.read_csv('Data/forecast_results.csv')\n",
    "forecast_results.drop('Unnamed: 0', axis=1, inplace=True)\n",
    "\n",
    "#converting the investor type into a numerical value\n",
    "forecast_results_num = pd.get_dummies(forecast_results, columns=['Investor Type'])\n",
    "\n",
    "forecast_results_num.head()"
   ]
  },
  {
   "cell_type": "code",
   "execution_count": 22,
   "id": "355f6ea7",
   "metadata": {},
   "outputs": [
    {
     "data": {
      "text/html": [
       "<div>\n",
       "<style scoped>\n",
       "    .dataframe tbody tr th:only-of-type {\n",
       "        vertical-align: middle;\n",
       "    }\n",
       "\n",
       "    .dataframe tbody tr th {\n",
       "        vertical-align: top;\n",
       "    }\n",
       "\n",
       "    .dataframe thead th {\n",
       "        text-align: right;\n",
       "    }\n",
       "</style>\n",
       "<table border=\"1\" class=\"dataframe\">\n",
       "  <thead>\n",
       "    <tr style=\"text-align: right;\">\n",
       "      <th></th>\n",
       "      <th>Linear Regression</th>\n",
       "      <th>Ridge Regression</th>\n",
       "      <th>KNN</th>\n",
       "    </tr>\n",
       "  </thead>\n",
       "  <tbody>\n",
       "    <tr>\n",
       "      <th>Mean Absolute Error</th>\n",
       "      <td>5.376497e+06</td>\n",
       "      <td>5.372758e+06</td>\n",
       "      <td>9.156533e+05</td>\n",
       "    </tr>\n",
       "    <tr>\n",
       "      <th>Mean Squared Error</th>\n",
       "      <td>6.545493e+13</td>\n",
       "      <td>6.545089e+13</td>\n",
       "      <td>4.740012e+12</td>\n",
       "    </tr>\n",
       "    <tr>\n",
       "      <th>Root Mean Squared Error</th>\n",
       "      <td>8.090422e+06</td>\n",
       "      <td>8.090172e+06</td>\n",
       "      <td>2.177157e+06</td>\n",
       "    </tr>\n",
       "    <tr>\n",
       "      <th>R2 Score</th>\n",
       "      <td>6.253626e-01</td>\n",
       "      <td>6.253857e-01</td>\n",
       "      <td>9.728701e-01</td>\n",
       "    </tr>\n",
       "  </tbody>\n",
       "</table>\n",
       "</div>"
      ],
      "text/plain": [
       "                         Linear Regression  Ridge Regression           KNN\n",
       "Mean Absolute Error           5.376497e+06      5.372758e+06  9.156533e+05\n",
       "Mean Squared Error            6.545493e+13      6.545089e+13  4.740012e+12\n",
       "Root Mean Squared Error       8.090422e+06      8.090172e+06  2.177157e+06\n",
       "R2 Score                      6.253626e-01      6.253857e-01  9.728701e-01"
      ]
     },
     "execution_count": 22,
     "metadata": {},
     "output_type": "execute_result"
    }
   ],
   "source": [
    "#splitting the data into training and testing sets\n",
    "X = forecast_results_num.drop('Final Value', axis=1)\n",
    "y = forecast_results_num['Final Value']\n",
    "X_train, X_test, y_train, y_test = train_test_split(X, y, test_size=0.2, random_state=42)\n",
    "\n",
    "#linear regression pipeline\n",
    "lr_pipe = Pipeline(steps=[('scaler', StandardScaler()),\n",
    "                ('regression', LinearRegression())])\n",
    "\n",
    "# print(lr_pipe.get_params()) --> saving this code to remind myself how to look up the parameters for the grid search\n",
    "lr_grid = GridSearchCV(estimator=lr_pipe, n_jobs=-1, param_grid={'regression__fit_intercept': [True, False], 'scaler__with_mean': [True, False], 'scaler__with_std': [True, False]})\n",
    "lin_reg = lr_grid.fit(X_train, y_train)\n",
    "y_pred = lin_reg.predict(X_test)\n",
    "\n",
    "#ridge regression pipeline\n",
    "rr_pipe = Pipeline(steps=[('scaler', StandardScaler()),\n",
    "                ('regression', Ridge())])\n",
    "rr_grid = GridSearchCV(estimator=rr_pipe, n_jobs=-1, param_grid={'regression__alpha': [0.1, 1, 10, 100, 1000]})\n",
    "rr_grid = rr_grid.fit(X_train, y_train)\n",
    "y_pred_ridge = rr_grid.predict(X_test)\n",
    "\n",
    "#knn pipeline\n",
    "k_pipe = Pipeline(steps=[('scaler', StandardScaler()),\n",
    "                ('regression', KNeighborsRegressor())])\n",
    "k_grid = GridSearchCV(estimator=k_pipe, n_jobs=-1, param_grid={'regression__n_neighbors': [3, 5, 7, 9, 11], 'regression__metric': ['euclidean', 'minkowski','manhattan'], 'regression__weights': ['uniform', 'distance']})\n",
    "k_grid = k_grid.fit(X_train, y_train)\n",
    "k_pred = k_grid.predict(X_test)\n",
    "\n",
    "\n",
    "#evaluating the model metrics\n",
    "model_evaluation = pd.DataFrame({'Linear Regression': [metrics.mean_absolute_error(y_test, y_pred), metrics.mean_squared_error(y_test, y_pred), np.sqrt(metrics.mean_squared_error(y_test, y_pred)), metrics.r2_score(y_test, y_pred)],\n",
    "                                'Ridge Regression': [metrics.mean_absolute_error(y_test, y_pred_ridge), metrics.mean_squared_error(y_test, y_pred_ridge), np.sqrt(metrics.mean_squared_error(y_test, y_pred_ridge)), metrics.r2_score(y_test,y_pred_ridge)],\n",
    "                                'KNN': [metrics.mean_absolute_error(y_test, k_pred), metrics.mean_squared_error(y_test, k_pred), np.sqrt(metrics.mean_squared_error(y_test, k_pred)), metrics.r2_score(y_test, k_pred)]},\n",
    "                               index=['Mean Absolute Error', 'Mean Squared Error', 'Root Mean Squared Error', 'R2 Score'])\n",
    "model_evaluation"
   ]
  },
  {
   "cell_type": "code",
   "execution_count": 23,
   "id": "df53c236",
   "metadata": {},
   "outputs": [
    {
     "data": {
      "text/plain": [
       "Linear Regression    0.633875\n",
       "Ridge Regression     0.633874\n",
       "KNN                  0.973600\n",
       "dtype: float64"
      ]
     },
     "execution_count": 23,
     "metadata": {},
     "output_type": "execute_result"
    }
   ],
   "source": [
    "#using cross validation to determine the best model\n",
    "cv = KFold(n_splits=5, shuffle=True, random_state=42)\n",
    "lr_scores = cross_val_score(lin_reg, X, y, cv=cv, scoring='r2')\n",
    "rr_scores = cross_val_score(rr_grid, X, y, cv=cv, scoring='r2')\n",
    "k_scores = cross_val_score(k_grid, X, y, cv=cv, scoring='r2')\n",
    "cv_scores = pd.DataFrame({'Linear Regression': lr_scores, 'Ridge Regression': rr_scores, 'KNN': k_scores})\n",
    "cv_scores.mean()\n",
    "\n"
   ]
  },
  {
   "cell_type": "code",
   "execution_count": 24,
   "id": "24b17bc9",
   "metadata": {},
   "outputs": [
    {
     "name": "stdout",
     "output_type": "stream",
     "text": [
      "The predicted final value of the portfolio is: $1,062,069\n"
     ]
    }
   ],
   "source": [
    "#using KNN to make retirement predictions as this is the best model\n",
    "# ['Years Forecasted', 'Initial Investment', 'Investor Type_aggressive_investor', 'Investor Type_conservative_investor', 'Investor Type_moderate_investor', 'Investor Type_nervous_investor']\n",
    "# Aggressive Investor - Conservative - Moderate - Nervous\n",
    "pred_inputs = [[25, 250000, 0,1,0,0]]\n",
    "prediction = k_grid.predict(pred_inputs)\n",
    "\n",
    "print(f'The predicted final value of the portfolio is: ${prediction[0]:,.0f}')"
   ]
  },
  {
   "cell_type": "code",
   "execution_count": 25,
   "id": "0de9c1ea",
   "metadata": {},
   "outputs": [
    {
     "name": "stderr",
     "output_type": "stream",
     "text": [
      "c:\\Users\\amyfolkestad\\anaconda3\\Lib\\site-packages\\seaborn\\_oldcore.py:1119: FutureWarning:\n",
      "\n",
      "use_inf_as_na option is deprecated and will be removed in a future version. Convert inf values to NaN before operating instead.\n",
      "\n",
      "c:\\Users\\amyfolkestad\\anaconda3\\Lib\\site-packages\\seaborn\\_oldcore.py:1119: FutureWarning:\n",
      "\n",
      "use_inf_as_na option is deprecated and will be removed in a future version. Convert inf values to NaN before operating instead.\n",
      "\n"
     ]
    },
    {
     "data": {
      "text/plain": [
       "Text(0.5, 1.0, 'Years Invested vs Final Portfolio Value by Investor Type')"
      ]
     },
     "execution_count": 25,
     "metadata": {},
     "output_type": "execute_result"
    },
    {
     "data": {
      "image/png": "[encoded data removed]",
      "text/plain": [
       "<Figure size 1200x800 with 1 Axes>"
      ]
     },
     "metadata": {},
     "output_type": "display_data"
    }
   ],
   "source": [
    "#lineplot of the original forecast data to show affect of investor type on final value\n",
    "fig, ax = plt.subplots(figsize=(12,8))\n",
    "forecast_plot = sns.lineplot(data=forecast_results, x='Years Forecasted', y='Final Value', hue='Investor Type')\n",
    "plt.legend(title='Investor Type', loc='upper left', labels=['Aggressive', '', 'Nervous', '','Conservative','', 'Moderate',''])\n",
    "plt.title('Years Invested vs Final Portfolio Value by Investor Type')"
   ]
  }
 ],
 "metadata": {
  "kernelspec": {
   "display_name": "Python 3 (ipykernel)",
   "language": "python",
   "name": "python3"
  },
  "language_info": {
   "codemirror_mode": {
    "name": "ipython",
    "version": 3
   },
   "file_extension": ".py",
   "mimetype": "text/x-python",
   "name": "python",
   "nbconvert_exporter": "python",
   "pygments_lexer": "ipython3",
   "version": "3.11.7"
  }
 },
 "nbformat": 4,
 "nbformat_minor": 5
}
