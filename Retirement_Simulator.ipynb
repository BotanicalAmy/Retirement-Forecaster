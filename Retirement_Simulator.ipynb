{
 "cells": [
  {
   "cell_type": "code",
   "execution_count": 1,
   "id": "52bf26b3",
   "metadata": {},
   "outputs": [],
   "source": [
    "import statistics as stat\n",
    "import matplotlib.pyplot as plt\n",
    "import pandas as pd\n",
    "import numpy as np\n",
    "import random\n",
    "import seaborn as sns\n",
    "from datetime import datetime\n",
    "import plotly.express as px"
   ]
  },
  {
   "cell_type": "markdown",
   "id": "5c32f74b",
   "metadata": {},
   "source": [
    "## Portfolio Investment Returns\n",
    "\n",
    "Historical returns from 1928 until present were collected.  Three additional columns were created based on a 80% portfolio investment (Aggressive), a 65% stock investment (Moderate), and a 50% stock investment (Conservative)."
   ]
  },
  {
   "cell_type": "code",
   "execution_count": 2,
   "id": "165521d0",
   "metadata": {},
   "outputs": [
    {
     "data": {
      "text/html": [
       "<div>\n",
       "<style scoped>\n",
       "    .dataframe tbody tr th:only-of-type {\n",
       "        vertical-align: middle;\n",
       "    }\n",
       "\n",
       "    .dataframe tbody tr th {\n",
       "        vertical-align: top;\n",
       "    }\n",
       "\n",
       "    .dataframe thead th {\n",
       "        text-align: right;\n",
       "    }\n",
       "</style>\n",
       "<table border=\"1\" class=\"dataframe\">\n",
       "  <thead>\n",
       "    <tr style=\"text-align: right;\">\n",
       "      <th></th>\n",
       "      <th>Return Rate</th>\n",
       "    </tr>\n",
       "  </thead>\n",
       "  <tbody>\n",
       "    <tr>\n",
       "      <th>S&amp;P 500</th>\n",
       "      <td>11.66</td>\n",
       "    </tr>\n",
       "    <tr>\n",
       "      <th>Aggressive</th>\n",
       "      <td>9.33</td>\n",
       "    </tr>\n",
       "    <tr>\n",
       "      <th>Moderate</th>\n",
       "      <td>7.58</td>\n",
       "    </tr>\n",
       "    <tr>\n",
       "      <th>Conservative</th>\n",
       "      <td>5.83</td>\n",
       "    </tr>\n",
       "  </tbody>\n",
       "</table>\n",
       "</div>"
      ],
      "text/plain": [
       "              Return Rate\n",
       "S&P 500             11.66\n",
       "Aggressive           9.33\n",
       "Moderate             7.58\n",
       "Conservative         5.83"
      ]
     },
     "execution_count": 2,
     "metadata": {},
     "output_type": "execute_result"
    }
   ],
   "source": [
    "returns = pd.read_excel('Data/StockReturns.xlsx')\n",
    "returns.head()\n",
    "return_rates = pd.DataFrame((returns[['S&P 500', 'Aggressive', 'Moderate', 'Conservative']].mean()*100).round(2))\n",
    "return_rates.columns = ['Return Rate']\n",
    "return_rates \n"
   ]
  },
  {
   "cell_type": "markdown",
   "id": "1dd5f0a5",
   "metadata": {},
   "source": [
    "### Creating future return distributions\n",
    "\n",
    "From the historical stock return data, samples means were generated to create a normalized distribution.  This list of probable returns will be used to forecast future portfolio performance."
   ]
  },
  {
   "cell_type": "code",
   "execution_count": 5,
   "id": "7ff991fb",
   "metadata": {},
   "outputs": [],
   "source": [
    "#S&P 500 return rates, fewer samples were taken to increase the volatility\n",
    "norm_returns = []\n",
    "\n",
    "for i in range(500):\n",
    "    sample = returns['S&P 500'].sample(5)\n",
    "    sample_mean = np.mean(sample)\n",
    "    norm_returns.append(sample_mean)\n",
    "\n",
    "#creating a new dataframe (csv) file for the future return rates\n",
    "future_returns = pd.DataFrame(norm_returns, columns=['S&P Future'])"
   ]
  },
  {
   "cell_type": "code",
   "execution_count": 6,
   "id": "b2f6f287",
   "metadata": {},
   "outputs": [],
   "source": [
    "#Aggresive return rates\n",
    "aggresive_returns = []\n",
    "\n",
    "for i in range(500):\n",
    "    sample = returns['Aggressive'].sample(10)\n",
    "    sample_mean = np.mean(sample)\n",
    "    aggresive_returns.append(sample_mean)\n",
    "\n",
    "#adding the aggresive future returns to the futures dataframe\n",
    "future_returns['Aggressive Future'] = aggresive_returns"
   ]
  },
  {
   "cell_type": "code",
   "execution_count": 7,
   "id": "cd0da88b",
   "metadata": {},
   "outputs": [],
   "source": [
    "#Moderate return rates\n",
    "moderate_returns = []\n",
    "\n",
    "for i in range(500):\n",
    "    sample = returns['Moderate'].sample(20)\n",
    "    sample_mean = np.mean(sample)\n",
    "    moderate_returns.append(sample_mean)\n",
    "\n",
    "#adding the aggresive future returns to the futures dataframe\n",
    "future_returns['Moderate Future'] = moderate_returns"
   ]
  },
  {
   "cell_type": "code",
   "execution_count": 8,
   "id": "cecac058",
   "metadata": {},
   "outputs": [],
   "source": [
    "#Conservative return rates, greater samples were taken to decrease the volatility\n",
    "conservative_returns = []\n",
    "\n",
    "for i in range(500):\n",
    "    sample = returns['Conservative'].sample(30)\n",
    "    sample_mean = np.mean(sample)\n",
    "    conservative_returns.append(sample_mean)\n",
    "\n",
    "#adding the aggresive future returns to the futures dataframe\n",
    "future_returns['Conservative Future'] = conservative_returns"
   ]
  },
  {
   "cell_type": "code",
   "execution_count": 4,
   "id": "b1dae0dd",
   "metadata": {},
   "outputs": [],
   "source": [
    "# the original sample was run to create the future returns csv, the csv is now linked to prevent rerunning the same function unnecessarily\n",
    "# future_returns.to_csv('Data/futurereturns.csv')\n",
    "future_returns = pd.read_csv('Data/futurereturns.csv')"
   ]
  },
  {
   "cell_type": "markdown",
   "id": "ddbcca2c",
   "metadata": {},
   "source": [
    "## Plotting the return rate distributions\n",
    "\n",
    "After researching historical portfolio performance, I worked with both the mean sample sizes and the return rate columns from the historical table to create return distributions that best matched expected portfolio performance.\n",
    "\n",
    "While the S&P 500 returns have the greatest spread, this set of returns also has the highest return rate.\n",
    "As you shift from aggressive down to moderate, the distribution tightens, but the average return rate also decreases. The conservative investment will be the most predictable, but have the lowest average return.\n",
    "\n",
    "### Sources:\n",
    "[Stock Market Performance](https://www.sciencedirect.com/science/article/pii/S2405473915000331) <br>\n",
    "I analyzed historical stock trends and consulted with a local wealth management firm to compare this hypothetical future performance to industry expectations."
   ]
  },
  {
   "cell_type": "code",
   "execution_count": 5,
   "id": "57d5a4f8",
   "metadata": {},
   "outputs": [
    {
     "data": {
      "text/plain": [
       "<matplotlib.legend.Legend at 0x1e4ed871f10>"
      ]
     },
     "execution_count": 5,
     "metadata": {},
     "output_type": "execute_result"
    },
    {
     "data": {
      "image/png": "[encoded data removed]",
      "text/plain": [
       "<Figure size 640x480 with 1 Axes>"
      ]
     },
     "metadata": {},
     "output_type": "display_data"
    }
   ],
   "source": [
    "plt.hist(future_returns['S&P Future'], bins=50, alpha=0.7, color='#e9e9ee')\n",
    "plt.hist(future_returns['Aggressive Future'], bins=50, alpha=0.7, color='#c7c2d6')\n",
    "plt.hist(future_returns['Moderate Future'], bins=50, alpha=0.7, color='#787380')\n",
    "plt.hist(future_returns['Conservative Future'], bins=50, alpha=0.7, color='#494351')\n",
    "plt.legend(['S&P Future', 'Aggressive Future', 'Moderate Future', 'Conservative Future'])"
   ]
  },
  {
   "cell_type": "code",
   "execution_count": 6,
   "id": "0156b64e",
   "metadata": {},
   "outputs": [
    {
     "data": {
      "text/html": [
       "<div>\n",
       "<style scoped>\n",
       "    .dataframe tbody tr th:only-of-type {\n",
       "        vertical-align: middle;\n",
       "    }\n",
       "\n",
       "    .dataframe tbody tr th {\n",
       "        vertical-align: top;\n",
       "    }\n",
       "\n",
       "    .dataframe thead th {\n",
       "        text-align: right;\n",
       "    }\n",
       "</style>\n",
       "<table border=\"1\" class=\"dataframe\">\n",
       "  <thead>\n",
       "    <tr style=\"text-align: right;\">\n",
       "      <th></th>\n",
       "      <th>Mean</th>\n",
       "      <th>Std Dev</th>\n",
       "      <th>Variance</th>\n",
       "      <th>IQR</th>\n",
       "      <th>Q1</th>\n",
       "      <th>Q3</th>\n",
       "      <th>95% Conf</th>\n",
       "    </tr>\n",
       "    <tr>\n",
       "      <th>Return Rates</th>\n",
       "      <th></th>\n",
       "      <th></th>\n",
       "      <th></th>\n",
       "      <th></th>\n",
       "      <th></th>\n",
       "      <th></th>\n",
       "      <th></th>\n",
       "    </tr>\n",
       "  </thead>\n",
       "  <tbody>\n",
       "    <tr>\n",
       "      <th>S&amp;P Future</th>\n",
       "      <td>11.61</td>\n",
       "      <td>8.67</td>\n",
       "      <td>0.75</td>\n",
       "      <td>12.13</td>\n",
       "      <td>5.55</td>\n",
       "      <td>17.69</td>\n",
       "      <td>(-5.72, 28.94)</td>\n",
       "    </tr>\n",
       "    <tr>\n",
       "      <th>Aggressive Future</th>\n",
       "      <td>9.24</td>\n",
       "      <td>4.59</td>\n",
       "      <td>0.21</td>\n",
       "      <td>5.95</td>\n",
       "      <td>6.37</td>\n",
       "      <td>12.32</td>\n",
       "      <td>(0.05, 18.43)</td>\n",
       "    </tr>\n",
       "    <tr>\n",
       "      <th>Moderate Future</th>\n",
       "      <td>7.78</td>\n",
       "      <td>2.34</td>\n",
       "      <td>0.05</td>\n",
       "      <td>3.04</td>\n",
       "      <td>6.28</td>\n",
       "      <td>9.32</td>\n",
       "      <td>(3.1, 12.46)</td>\n",
       "    </tr>\n",
       "    <tr>\n",
       "      <th>Conservative Future</th>\n",
       "      <td>5.96</td>\n",
       "      <td>1.61</td>\n",
       "      <td>0.03</td>\n",
       "      <td>2.14</td>\n",
       "      <td>4.99</td>\n",
       "      <td>7.13</td>\n",
       "      <td>(2.74, 9.17)</td>\n",
       "    </tr>\n",
       "  </tbody>\n",
       "</table>\n",
       "</div>"
      ],
      "text/plain": [
       "                      Mean  Std Dev  Variance    IQR    Q1     Q3  \\\n",
       "Return Rates                                                        \n",
       "S&P Future           11.61     8.67      0.75  12.13  5.55  17.69   \n",
       "Aggressive Future     9.24     4.59      0.21   5.95  6.37  12.32   \n",
       "Moderate Future       7.78     2.34      0.05   3.04  6.28   9.32   \n",
       "Conservative Future   5.96     1.61      0.03   2.14  4.99   7.13   \n",
       "\n",
       "                           95% Conf  \n",
       "Return Rates                         \n",
       "S&P Future           (-5.72, 28.94)  \n",
       "Aggressive Future     (0.05, 18.43)  \n",
       "Moderate Future        (3.1, 12.46)  \n",
       "Conservative Future    (2.74, 9.17)  "
      ]
     },
     "metadata": {},
     "output_type": "display_data"
    }
   ],
   "source": [
    "def IQR(dist):\n",
    "    return np.percentile(dist, 75) - np.percentile(dist, 25)\n",
    "\n",
    "def Q1(dist):\n",
    "    return np.percentile(dist, 25)\n",
    "\n",
    "def Q3(dist):\n",
    "    return np.percentile(dist, 75)\n",
    "\n",
    "def confidence_interval(dist):\n",
    "  dist_avg = np.mean(dist)\n",
    "  dist_std = np.std(dist)\n",
    "  conf_top = ((dist_avg + (2 * dist_std))*100)\n",
    "  conf_bottom = ((dist_avg - (2 * dist_std))*100)\n",
    "  return round(conf_bottom,2), round(conf_top,2)\n",
    "\n",
    "statistics = {'Return Rates': ['S&P Future', 'Aggressive Future', 'Moderate Future', 'Conservative Future'],\n",
    "            'Mean': [np.mean(future_returns['S&P Future']), np.mean(future_returns['Aggressive Future']), np.mean(future_returns['Moderate Future']), np.mean(future_returns['Conservative Future'])],\n",
    "            'Std Dev': [np.std(future_returns['S&P Future']), np.std(future_returns['Aggressive Future']), np.std(future_returns['Moderate Future']), np.std(future_returns['Conservative Future'])],\n",
    "            'Variance': [stat.variance(future_returns['S&P Future']), stat.variance(future_returns['Aggressive Future']), stat.variance(future_returns['Moderate Future']), stat.variance(future_returns['Conservative Future'])],\n",
    "            'IQR': [IQR(future_returns['S&P Future']), IQR(future_returns['Aggressive Future']), IQR(future_returns['Moderate Future']), IQR(future_returns['Conservative Future'])],\n",
    "            'Q1': [Q1(future_returns['S&P Future']), Q1(future_returns['Aggressive Future']), Q1(future_returns['Moderate Future']), Q1(future_returns['Conservative Future'])],\n",
    "            'Q3': [Q3(future_returns['S&P Future']), Q3(future_returns['Aggressive Future']), Q3(future_returns['Moderate Future']), Q3(future_returns['Conservative Future'])]}   \n",
    "                                                                                                      \n",
    "statistics_table = pd.DataFrame.from_dict(statistics).set_index('Return Rates')           \n",
    "#multiply all the values in the table by 100 to get percentage values\n",
    "statistics_table = (statistics_table*100).round(2)\n",
    "statistics_table['95% Conf'] = [confidence_interval(future_returns['S&P Future']), confidence_interval(future_returns['Aggressive Future']), confidence_interval(future_returns['Moderate Future']), confidence_interval(future_returns['Conservative Future'])]\n",
    "display(statistics_table)\n",
    "\n",
    "#the averages below are pulled from the entire distribution of samples, as variability increases the actual return on investement will be more uncertain\n",
    "#the confidence interval is calculated by taking the average return rate and adding or subtracting 2 standard deviations\n"
   ]
  },
  {
   "cell_type": "markdown",
   "id": "55c3e7bc",
   "metadata": {},
   "source": [
    "## A random walk through probability\n",
    "\n",
    "The random walk theory claims that stock prices are not influenced by history, but rather a random walk that follows an upward slope. Additionally, the Black-Scholes/Merton equation explores the probability distribution of the markets in great depth, focusing on the correlation between brownian motion and the probability distrubtion found in finances.\n",
    "\n",
    "I investigated the directions of change (derivatives) from 1928 to 2023, and found that the expected distribution resulted in 41 years with an increase in rate of return, and 52 years of decrease. Looking at the visual of my analysis, the stock market was positive for 70 of the 96 years surveyed, and negative for 26 of those years.\n",
    "\n",
    "The goal of this retirement simulator is to simulate the same patterns found in the historical stock market to forecast the probable distribution of future returns. <br><br>\n",
    "\n",
    "<img src=\"Images/StockPatterns.jpg\" width=\"900\" height=\"610\">\n",
    "\n",
    "### Sources:\n",
    "[Random Walk](https://www.sciencedirect.com/science/article/pii/S2405473915000331) <br>\n",
    "[Black-Scholes/Merton Equation](https://www.youtube.com/watch?v=A5w-dEgIU1M)\n",
    "\n",
    "*I can calculate the motion of heavenly bodies, but not the madness of people.” — Sir Isaac Newton.*\n",
    "\n",
    "\n",
    "\n"
   ]
  },
  {
   "cell_type": "code",
   "execution_count": 9,
   "id": "6c492a05",
   "metadata": {},
   "outputs": [
    {
     "data": {
      "text/html": [
       "<div>\n",
       "<style scoped>\n",
       "    .dataframe tbody tr th:only-of-type {\n",
       "        vertical-align: middle;\n",
       "    }\n",
       "\n",
       "    .dataframe tbody tr th {\n",
       "        vertical-align: top;\n",
       "    }\n",
       "\n",
       "    .dataframe thead th {\n",
       "        text-align: right;\n",
       "    }\n",
       "</style>\n",
       "<table border=\"1\" class=\"dataframe\">\n",
       "  <thead>\n",
       "    <tr style=\"text-align: right;\">\n",
       "      <th></th>\n",
       "      <th>S&amp;P Future</th>\n",
       "      <th>Aggressive Future</th>\n",
       "      <th>Moderate Future</th>\n",
       "      <th>Conservative Future</th>\n",
       "    </tr>\n",
       "  </thead>\n",
       "  <tbody>\n",
       "    <tr>\n",
       "      <th>0</th>\n",
       "      <td>0.210507</td>\n",
       "      <td>0.105337</td>\n",
       "      <td>0.065850</td>\n",
       "      <td>0.054576</td>\n",
       "    </tr>\n",
       "    <tr>\n",
       "      <th>1</th>\n",
       "      <td>0.077734</td>\n",
       "      <td>0.113297</td>\n",
       "      <td>0.057139</td>\n",
       "      <td>0.075795</td>\n",
       "    </tr>\n",
       "    <tr>\n",
       "      <th>2</th>\n",
       "      <td>0.137000</td>\n",
       "      <td>0.099886</td>\n",
       "      <td>0.092250</td>\n",
       "      <td>0.044840</td>\n",
       "    </tr>\n",
       "    <tr>\n",
       "      <th>3</th>\n",
       "      <td>0.125633</td>\n",
       "      <td>0.063293</td>\n",
       "      <td>0.076295</td>\n",
       "      <td>0.033403</td>\n",
       "    </tr>\n",
       "    <tr>\n",
       "      <th>4</th>\n",
       "      <td>0.078148</td>\n",
       "      <td>0.138845</td>\n",
       "      <td>0.103831</td>\n",
       "      <td>0.056262</td>\n",
       "    </tr>\n",
       "    <tr>\n",
       "      <th>5</th>\n",
       "      <td>0.064435</td>\n",
       "      <td>0.074803</td>\n",
       "      <td>0.071925</td>\n",
       "      <td>0.073780</td>\n",
       "    </tr>\n",
       "    <tr>\n",
       "      <th>6</th>\n",
       "      <td>0.122168</td>\n",
       "      <td>0.058908</td>\n",
       "      <td>0.078687</td>\n",
       "      <td>0.045136</td>\n",
       "    </tr>\n",
       "    <tr>\n",
       "      <th>7</th>\n",
       "      <td>0.051576</td>\n",
       "      <td>0.072271</td>\n",
       "      <td>0.112320</td>\n",
       "      <td>0.067396</td>\n",
       "    </tr>\n",
       "    <tr>\n",
       "      <th>8</th>\n",
       "      <td>0.140365</td>\n",
       "      <td>0.075807</td>\n",
       "      <td>0.073320</td>\n",
       "      <td>0.023210</td>\n",
       "    </tr>\n",
       "    <tr>\n",
       "      <th>9</th>\n",
       "      <td>0.126197</td>\n",
       "      <td>0.158654</td>\n",
       "      <td>0.099104</td>\n",
       "      <td>0.081703</td>\n",
       "    </tr>\n",
       "  </tbody>\n",
       "</table>\n",
       "</div>"
      ],
      "text/plain": [
       "   S&P Future  Aggressive Future  Moderate Future  Conservative Future\n",
       "0    0.210507           0.105337         0.065850             0.054576\n",
       "1    0.077734           0.113297         0.057139             0.075795\n",
       "2    0.137000           0.099886         0.092250             0.044840\n",
       "3    0.125633           0.063293         0.076295             0.033403\n",
       "4    0.078148           0.138845         0.103831             0.056262\n",
       "5    0.064435           0.074803         0.071925             0.073780\n",
       "6    0.122168           0.058908         0.078687             0.045136\n",
       "7    0.051576           0.072271         0.112320             0.067396\n",
       "8    0.140365           0.075807         0.073320             0.023210\n",
       "9    0.126197           0.158654         0.099104             0.081703"
      ]
     },
     "execution_count": 9,
     "metadata": {},
     "output_type": "execute_result"
    }
   ],
   "source": [
    "future_returns = future_returns.drop(columns='Unnamed: 0')\n",
    "future_returns.head(10)\n"
   ]
  },
  {
   "cell_type": "code",
   "execution_count": 16,
   "id": "d565373e",
   "metadata": {},
   "outputs": [],
   "source": [
    "#pulling the returns from the futures dataframe, preparation for the forecasting function\n",
    "aggressive = {'aggressive_investor':list(future_returns['Aggressive Future'])}\n",
    "moderate = {'moderate_investor': list(future_returns['Moderate Future'])}\n",
    "conservative = {'conservative_investor':list(future_returns['Conservative Future'])}\n",
    "nervous = {'nervous_investor':list(future_returns['Aggressive Future'])}"
   ]
  },
  {
   "cell_type": "markdown",
   "id": "6fff5afd",
   "metadata": {},
   "source": [
    "### Key Functions\n",
    "\n",
    "The functions below develop the patterns of positive and negative change within the stock return sampling. These key functions are then utilized to create retirement simulations."
   ]
  },
  {
   "cell_type": "code",
   "execution_count": 18,
   "id": "5e0f8aa6",
   "metadata": {},
   "outputs": [
    {
     "data": {
      "text/html": [
       "<div>\n",
       "<style scoped>\n",
       "    .dataframe tbody tr th:only-of-type {\n",
       "        vertical-align: middle;\n",
       "    }\n",
       "\n",
       "    .dataframe tbody tr th {\n",
       "        vertical-align: top;\n",
       "    }\n",
       "\n",
       "    .dataframe thead th {\n",
       "        text-align: right;\n",
       "    }\n",
       "</style>\n",
       "<table border=\"1\" class=\"dataframe\">\n",
       "  <thead>\n",
       "    <tr style=\"text-align: right;\">\n",
       "      <th></th>\n",
       "      <th>Sample 1</th>\n",
       "      <th>Sample 2</th>\n",
       "      <th>Sample 3</th>\n",
       "      <th>Sample 4</th>\n",
       "      <th>Sample 5</th>\n",
       "    </tr>\n",
       "  </thead>\n",
       "  <tbody>\n",
       "    <tr>\n",
       "      <th>0</th>\n",
       "      <td>0.066036</td>\n",
       "      <td>0.079678</td>\n",
       "      <td>0.106477</td>\n",
       "      <td>0.153761</td>\n",
       "      <td>0.065375</td>\n",
       "    </tr>\n",
       "    <tr>\n",
       "      <th>1</th>\n",
       "      <td>0.035383</td>\n",
       "      <td>0.121651</td>\n",
       "      <td>0.062921</td>\n",
       "      <td>0.103611</td>\n",
       "      <td>0.118206</td>\n",
       "    </tr>\n",
       "    <tr>\n",
       "      <th>2</th>\n",
       "      <td>0.109591</td>\n",
       "      <td>0.109935</td>\n",
       "      <td>0.120664</td>\n",
       "      <td>0.080846</td>\n",
       "      <td>0.108414</td>\n",
       "    </tr>\n",
       "    <tr>\n",
       "      <th>3</th>\n",
       "      <td>0.069628</td>\n",
       "      <td>0.153761</td>\n",
       "      <td>0.163013</td>\n",
       "      <td>-0.008935</td>\n",
       "      <td>0.007955</td>\n",
       "    </tr>\n",
       "    <tr>\n",
       "      <th>4</th>\n",
       "      <td>0.125829</td>\n",
       "      <td>0.074080</td>\n",
       "      <td>0.076987</td>\n",
       "      <td>0.096380</td>\n",
       "      <td>0.054830</td>\n",
       "    </tr>\n",
       "    <tr>\n",
       "      <th>5</th>\n",
       "      <td>-0.011226</td>\n",
       "      <td>0.130553</td>\n",
       "      <td>0.045644</td>\n",
       "      <td>0.131421</td>\n",
       "      <td>-0.008995</td>\n",
       "    </tr>\n",
       "    <tr>\n",
       "      <th>6</th>\n",
       "      <td>0.007955</td>\n",
       "      <td>-0.012403</td>\n",
       "      <td>0.101318</td>\n",
       "      <td>0.036785</td>\n",
       "      <td>0.081302</td>\n",
       "    </tr>\n",
       "    <tr>\n",
       "      <th>7</th>\n",
       "      <td>0.103611</td>\n",
       "      <td>0.069207</td>\n",
       "      <td>-0.023870</td>\n",
       "      <td>0.064945</td>\n",
       "      <td>0.045320</td>\n",
       "    </tr>\n",
       "    <tr>\n",
       "      <th>8</th>\n",
       "      <td>0.065115</td>\n",
       "      <td>0.057325</td>\n",
       "      <td>0.148145</td>\n",
       "      <td>0.133515</td>\n",
       "      <td>0.135055</td>\n",
       "    </tr>\n",
       "    <tr>\n",
       "      <th>9</th>\n",
       "      <td>0.163013</td>\n",
       "      <td>0.003845</td>\n",
       "      <td>0.100201</td>\n",
       "      <td>0.101196</td>\n",
       "      <td>0.117720</td>\n",
       "    </tr>\n",
       "  </tbody>\n",
       "</table>\n",
       "</div>"
      ],
      "text/plain": [
       "   Sample 1  Sample 2  Sample 3  Sample 4  Sample 5\n",
       "0  0.066036  0.079678  0.106477  0.153761  0.065375\n",
       "1  0.035383  0.121651  0.062921  0.103611  0.118206\n",
       "2  0.109591  0.109935  0.120664  0.080846  0.108414\n",
       "3  0.069628  0.153761  0.163013 -0.008935  0.007955\n",
       "4  0.125829  0.074080  0.076987  0.096380  0.054830\n",
       "5 -0.011226  0.130553  0.045644  0.131421 -0.008995\n",
       "6  0.007955 -0.012403  0.101318  0.036785  0.081302\n",
       "7  0.103611  0.069207 -0.023870  0.064945  0.045320\n",
       "8  0.065115  0.057325  0.148145  0.133515  0.135055\n",
       "9  0.163013  0.003845  0.100201  0.101196  0.117720"
      ]
     },
     "execution_count": 18,
     "metadata": {},
     "output_type": "execute_result"
    }
   ],
   "source": [
    "#based on the rate distribution patterns, the negative counter function is only used for the aggressive return rates\n",
    "#function to calculate the percentage of negative return rates\n",
    "def negative_counter(list):\n",
    "    neg_counter = 0\n",
    "    for r in range(len(list)):\n",
    "        if list[r] < 0:\n",
    "            neg_counter += 1\n",
    "    percent_negative = (neg_counter/len(list))*100\n",
    "    return percent_negative\n",
    "\n",
    "#function to calculate the percentage of positive change in the return rates\n",
    "def positive_change_counter(list):\n",
    "    pos_change_counter = 0\n",
    "    for i in range(len(list)-1):\n",
    "        if list[i] < list[i+1]:\n",
    "            pos_change_counter += 1\n",
    "    percent_pos_change = (pos_change_counter/len(list))*100\n",
    "    return percent_pos_change\n",
    "\n",
    "#created a rate sampling fuction to be used in both the retirement forecast and retirement income functions\n",
    "def rate_sampler(investor, years):\n",
    "    forecast_rates = list(investor.values())[0]\n",
    "    investor_type = list(investor.keys())[0]\n",
    "    sample_count = 0\n",
    "    forecast_samples = {}\n",
    "    rate_df = [0,0]\n",
    "\n",
    "    #require the user to enter a minimum of 10 years\n",
    "    if years < 10:\n",
    "        return('Please enter a forecast period of at least 10 years')\n",
    "    else:\n",
    "        pass\n",
    "    #creating a sample that follows the same patterns of positive and negative change, as well as negative returns \n",
    "    while sample_count < 5:\n",
    "        rates = random.sample(forecast_rates, years)\n",
    "        negative = negative_counter(rates)\n",
    "        positive_change = positive_change_counter(rates)\n",
    "        if positive_change >= 40 and positive_change <= 50:\n",
    "            if investor_type == 'aggressive_investor':\n",
    "                if negative < 10:\n",
    "                    pass\n",
    "                else:\n",
    "                    agg_rates = rates.copy() \n",
    "                    column_name = 'Sample ' + str(sample_count+1)\n",
    "                    forecast_samples[column_name] = agg_rates\n",
    "                    sample_count += 1\n",
    "            #creating nervous investor, zero rates signify pulling out of the market\n",
    "            if investor_type == 'nervous_investor':\n",
    "                #this statement is pushing the zeroed values into my aggressive return dataframe\n",
    "                if negative < 10:\n",
    "                    pass\n",
    "                else:\n",
    "                    #if investor is nervous, replace the three consecutive returns after a negative rate with a zero\n",
    "                    nervous_rates = rates.copy()\n",
    "                    for i in range(len(nervous_rates)-3):\n",
    "                        if nervous_rates[i] < 0:\n",
    "                            nervous_rates[i+1] = 0\n",
    "                            nervous_rates[i+2] = 0\n",
    "                            nervous_rates[i+3] = 0\n",
    "                    zero_rates = nervous_rates\n",
    "                    column_name = 'Sample ' + str(sample_count+1)\n",
    "                    forecast_samples[column_name] = zero_rates\n",
    "                    sample_count += 1\n",
    "            #conservative or moderate investor\n",
    "            if investor_type == 'conservative_investor' or investor_type == 'moderate_investor':\n",
    "                con_mod_rates = rates.copy()\n",
    "                column_name = 'Sample ' + str(sample_count+1)\n",
    "                forecast_samples[column_name] = con_mod_rates\n",
    "                sample_count += 1\n",
    "            else:\n",
    "                pass\n",
    "        else:\n",
    "            pass\n",
    "    #create dataframe from the dictionary\n",
    "    rate_df = pd.DataFrame(forecast_samples)\n",
    "    return(rate_df)\n",
    "\n",
    "test_rate = rate_sampler(aggressive, 10)\n",
    "test_rate.head(10)\n"
   ]
  },
  {
   "cell_type": "markdown",
   "id": "1fab5d15",
   "metadata": {},
   "source": [
    "### Retirement Functions\n",
    "\n",
    "The key functions are passed through a retirement forecasting tool and income prediction function."
   ]
  },
  {
   "cell_type": "code",
   "execution_count": 19,
   "id": "99892637",
   "metadata": {},
   "outputs": [
    {
     "data": {
      "text/html": [
       "<div>\n",
       "<style scoped>\n",
       "    .dataframe tbody tr th:only-of-type {\n",
       "        vertical-align: middle;\n",
       "    }\n",
       "\n",
       "    .dataframe tbody tr th {\n",
       "        vertical-align: top;\n",
       "    }\n",
       "\n",
       "    .dataframe thead th {\n",
       "        text-align: right;\n",
       "    }\n",
       "</style>\n",
       "<table border=\"1\" class=\"dataframe\">\n",
       "  <thead>\n",
       "    <tr style=\"text-align: right;\">\n",
       "      <th></th>\n",
       "      <th>Sample 1</th>\n",
       "      <th>Sample 2</th>\n",
       "      <th>Sample 3</th>\n",
       "      <th>Sample 4</th>\n",
       "      <th>Sample 5</th>\n",
       "      <th>Avg. Return</th>\n",
       "    </tr>\n",
       "    <tr>\n",
       "      <th>Year</th>\n",
       "      <th></th>\n",
       "      <th></th>\n",
       "      <th></th>\n",
       "      <th></th>\n",
       "      <th></th>\n",
       "      <th></th>\n",
       "    </tr>\n",
       "  </thead>\n",
       "  <tbody>\n",
       "    <tr>\n",
       "      <th>0</th>\n",
       "      <td>8.205029e+05</td>\n",
       "      <td>8.073335e+05</td>\n",
       "      <td>8.568023e+05</td>\n",
       "      <td>7.351381e+05</td>\n",
       "      <td>7.272089e+05</td>\n",
       "      <td>0.052530</td>\n",
       "    </tr>\n",
       "    <tr>\n",
       "      <th>1</th>\n",
       "      <td>8.122862e+05</td>\n",
       "      <td>9.046973e+05</td>\n",
       "      <td>9.279513e+05</td>\n",
       "      <td>8.145991e+05</td>\n",
       "      <td>7.190449e+05</td>\n",
       "      <td>0.058098</td>\n",
       "    </tr>\n",
       "    <tr>\n",
       "      <th>2</th>\n",
       "      <td>8.907148e+05</td>\n",
       "      <td>8.965599e+05</td>\n",
       "      <td>1.027462e+06</td>\n",
       "      <td>9.367210e+05</td>\n",
       "      <td>8.189572e+05</td>\n",
       "      <td>0.096733</td>\n",
       "    </tr>\n",
       "    <tr>\n",
       "      <th>3</th>\n",
       "      <td>1.017273e+06</td>\n",
       "      <td>8.854402e+05</td>\n",
       "      <td>1.007102e+06</td>\n",
       "      <td>1.036192e+06</td>\n",
       "      <td>8.903345e+05</td>\n",
       "      <td>0.060643</td>\n",
       "    </tr>\n",
       "    <tr>\n",
       "      <th>4</th>\n",
       "      <td>1.113515e+06</td>\n",
       "      <td>1.055274e+06</td>\n",
       "      <td>1.119186e+06</td>\n",
       "      <td>1.187529e+06</td>\n",
       "      <td>9.160223e+05</td>\n",
       "      <td>0.114522</td>\n",
       "    </tr>\n",
       "    <tr>\n",
       "      <th>5</th>\n",
       "      <td>1.182384e+06</td>\n",
       "      <td>1.209082e+06</td>\n",
       "      <td>1.227053e+06</td>\n",
       "      <td>1.358646e+06</td>\n",
       "      <td>9.307820e+05</td>\n",
       "      <td>0.092838</td>\n",
       "    </tr>\n",
       "    <tr>\n",
       "      <th>6</th>\n",
       "      <td>1.322514e+06</td>\n",
       "      <td>1.341586e+06</td>\n",
       "      <td>1.266136e+06</td>\n",
       "      <td>1.488491e+06</td>\n",
       "      <td>9.665782e+05</td>\n",
       "      <td>0.078797</td>\n",
       "    </tr>\n",
       "    <tr>\n",
       "      <th>7</th>\n",
       "      <td>1.615645e+06</td>\n",
       "      <td>1.351261e+06</td>\n",
       "      <td>1.437154e+06</td>\n",
       "      <td>1.632227e+06</td>\n",
       "      <td>8.985560e+05</td>\n",
       "      <td>0.078024</td>\n",
       "    </tr>\n",
       "    <tr>\n",
       "      <th>8</th>\n",
       "      <td>1.746069e+06</td>\n",
       "      <td>1.486659e+06</td>\n",
       "      <td>1.496991e+06</td>\n",
       "      <td>1.818605e+06</td>\n",
       "      <td>9.907989e+05</td>\n",
       "      <td>0.087881</td>\n",
       "    </tr>\n",
       "    <tr>\n",
       "      <th>9</th>\n",
       "      <td>1.873337e+06</td>\n",
       "      <td>1.691231e+06</td>\n",
       "      <td>1.688593e+06</td>\n",
       "      <td>1.896267e+06</td>\n",
       "      <td>1.103741e+06</td>\n",
       "      <td>0.099036</td>\n",
       "    </tr>\n",
       "  </tbody>\n",
       "</table>\n",
       "</div>"
      ],
      "text/plain": [
       "          Sample 1      Sample 2      Sample 3      Sample 4      Sample 5  \\\n",
       "Year                                                                         \n",
       "0     8.205029e+05  8.073335e+05  8.568023e+05  7.351381e+05  7.272089e+05   \n",
       "1     8.122862e+05  9.046973e+05  9.279513e+05  8.145991e+05  7.190449e+05   \n",
       "2     8.907148e+05  8.965599e+05  1.027462e+06  9.367210e+05  8.189572e+05   \n",
       "3     1.017273e+06  8.854402e+05  1.007102e+06  1.036192e+06  8.903345e+05   \n",
       "4     1.113515e+06  1.055274e+06  1.119186e+06  1.187529e+06  9.160223e+05   \n",
       "5     1.182384e+06  1.209082e+06  1.227053e+06  1.358646e+06  9.307820e+05   \n",
       "6     1.322514e+06  1.341586e+06  1.266136e+06  1.488491e+06  9.665782e+05   \n",
       "7     1.615645e+06  1.351261e+06  1.437154e+06  1.632227e+06  8.985560e+05   \n",
       "8     1.746069e+06  1.486659e+06  1.496991e+06  1.818605e+06  9.907989e+05   \n",
       "9     1.873337e+06  1.691231e+06  1.688593e+06  1.896267e+06  1.103741e+06   \n",
       "\n",
       "      Avg. Return  \n",
       "Year               \n",
       "0        0.052530  \n",
       "1        0.058098  \n",
       "2        0.096733  \n",
       "3        0.060643  \n",
       "4        0.114522  \n",
       "5        0.092838  \n",
       "6        0.078797  \n",
       "7        0.078024  \n",
       "8        0.087881  \n",
       "9        0.099036  "
      ]
     },
     "execution_count": 19,
     "metadata": {},
     "output_type": "execute_result"
    }
   ],
   "source": [
    "#enter the investor type (aggressive, moderate, conservative or nervous), the initial investment, and the number of years to forecast\n",
    "def retirement_forecast(investor, investment, years):\n",
    "    #use the rate sampler to create a dataframe of future return rates\n",
    "    forecast_df = rate_sampler(investor, years)\n",
    "\n",
    "    #pull in initial investment\n",
    "    initial_investment = investment\n",
    "    #create a new dataframe to hold the future value of the investment  \n",
    "    future_value = pd.DataFrame()   \n",
    "    for f in range(5):\n",
    "        future_value['Sample ' + str(f+1)] = initial_investment*(1 + forecast_df['Sample ' + str(f+1)]).cumprod()\n",
    "    #create a column that shows the average return for each year\n",
    "    future_value['Avg. Return'] = forecast_df.mean(axis=1)\n",
    "    future_value['Year'] = forecast_df.index\n",
    "    future_value.set_index('Year', inplace=True)\n",
    "    return future_value\n",
    "\n",
    "forecast_values = retirement_forecast(aggressive,750000,30)\n",
    "forecast_values.head(10)"
   ]
  },
  {
   "cell_type": "code",
   "execution_count": 20,
   "id": "c249a1a6",
   "metadata": {},
   "outputs": [
    {
     "data": {
      "application/vnd.plotly.v1+json": {
       "config": {
        "plotlyServerURL": "https://plot.ly"
       },
       "data": [
        {
         "hovertemplate": "%{x}: %{y} <extra></extra>",
         "legendgroup": "Sample 1",
         "line": {
          "color": "#636efa",
          "dash": "solid"
         },
         "marker": {
          "symbol": "circle"
         },
         "mode": "markers+lines",
         "name": "Sample 1",
         "orientation": "v",
         "showlegend": true,
         "type": "scatter",
         "x": [
          0,
          1,
          2,
          3,
          4,
          5,
          6,
          7,
          8,
          9,
          10,
          11,
          12,
          13,
          14,
          15,
          16,
          17,
          18,
          19,
          20,
          21,
          22,
          23,
          24,
          25,
          26,
          27,
          28,
          29
         ],
         "xaxis": "x",
         "xhoverformat": "%H:%M",
         "y": [
          820502.8690054051,
          812286.1516147001,
          890714.7616438421,
          1017273.4611876047,
          1113515.1988856366,
          1182384.0400342993,
          1322514.3490527885,
          1615645.4961510787,
          1746068.9573773076,
          1873337.322379784,
          2025281.379972757,
          2259996.752934426,
          2516903.8488463284,
          2559655.6333055003,
          2726992.553800562,
          2967374.0190633223,
          3368132.6046566227,
          3437178.9168395945,
          3761816.1930157985,
          4324490.084056043,
          4924925.462394255,
          4895502.02526364,
          5095350.343990895,
          5550532.276571676,
          6219922.105465766,
          6679133.175417208,
          6994134.352720858,
          7081350.532062462,
          7400085.59790407,
          7308305.253677408
         ],
         "yaxis": "y",
         "yhoverformat": ",.0f"
        },
        {
         "hovertemplate": "%{x}: %{y} <extra></extra>",
         "legendgroup": "Sample 2",
         "line": {
          "color": "#EF553B",
          "dash": "solid"
         },
         "marker": {
          "symbol": "circle"
         },
         "mode": "markers+lines",
         "name": "Sample 2",
         "orientation": "v",
         "showlegend": true,
         "type": "scatter",
         "x": [
          0,
          1,
          2,
          3,
          4,
          5,
          6,
          7,
          8,
          9,
          10,
          11,
          12,
          13,
          14,
          15,
          16,
          17,
          18,
          19,
          20,
          21,
          22,
          23,
          24,
          25,
          26,
          27,
          28,
          29
         ],
         "xaxis": "x",
         "xhoverformat": "%H:%M",
         "y": [
          807333.5322667563,
          904697.3215569429,
          896559.8907805118,
          885440.2119190998,
          1055273.7148482553,
          1209081.6452999408,
          1341585.7218158923,
          1351261.3477069286,
          1486659.139936506,
          1691230.6319594989,
          1893318.8447217534,
          2039079.5956981557,
          2187878.083368821,
          2493609.2111875727,
          2793974.412108737,
          3264123.9288375964,
          3610744.632094,
          4071889.620852621,
          4385621.346408484,
          4686402.2777786935,
          5036959.328284853,
          5418039.461384758,
          5369627.620984919,
          5962474.338372886,
          6303889.709312384,
          6901199.581781055,
          7664435.955635414,
          7732381.900149172,
          7998976.373802688,
          8916233.124735137
         ],
         "yaxis": "y",
         "yhoverformat": ",.0f"
        },
        {
         "hovertemplate": "%{x}: %{y} <extra></extra>",
         "legendgroup": "Sample 3",
         "line": {
          "color": "#00cc96",
          "dash": "solid"
         },
         "marker": {
          "symbol": "circle"
         },
         "mode": "markers+lines",
         "name": "Sample 3",
         "orientation": "v",
         "showlegend": true,
         "type": "scatter",
         "x": [
          0,
          1,
          2,
          3,
          4,
          5,
          6,
          7,
          8,
          9,
          10,
          11,
          12,
          13,
          14,
          15,
          16,
          17,
          18,
          19,
          20,
          21,
          22,
          23,
          24,
          25,
          26,
          27,
          28,
          29
         ],
         "xaxis": "x",
         "xhoverformat": "%H:%M",
         "y": [
          856802.274299383,
          927951.3154911334,
          1027461.8105262795,
          1007101.7245825599,
          1119185.8982125071,
          1227053.2713329792,
          1266136.0772552195,
          1437154.0861013439,
          1496990.5267639065,
          1688593.3458023253,
          1868641.8025163754,
          1932699.9138224376,
          1966324.7813624267,
          2182837.391156969,
          2231770.8371738,
          2384910.1346630855,
          2738221.526881286,
          3002604.8453439665,
          3501210.408540706,
          3846171.2989799995,
          4189601.9426356694,
          4289949.55963477,
          4777613.305851794,
          5043966.776865766,
          5472506.310840282,
          6339740.863650694,
          6261111.55712774,
          7488138.294175419,
          8391687.22439579,
          7801128.846919949
         ],
         "yaxis": "y",
         "yhoverformat": ",.0f"
        },
        {
         "hovertemplate": "%{x}: %{y} <extra></extra>",
         "legendgroup": "Sample 4",
         "line": {
          "color": "#ab63fa",
          "dash": "solid"
         },
         "marker": {
          "symbol": "circle"
         },
         "mode": "markers+lines",
         "name": "Sample 4",
         "orientation": "v",
         "showlegend": true,
         "type": "scatter",
         "x": [
          0,
          1,
          2,
          3,
          4,
          5,
          6,
          7,
          8,
          9,
          10,
          11,
          12,
          13,
          14,
          15,
          16,
          17,
          18,
          19,
          20,
          21,
          22,
          23,
          24,
          25,
          26,
          27,
          28,
          29
         ],
         "xaxis": "x",
         "xhoverformat": "%H:%M",
         "y": [
          735138.0710199163,
          814599.0747014176,
          936721.0290785105,
          1036192.4060644576,
          1187529.2602443665,
          1358646.3582073539,
          1488491.4035169608,
          1632227.1641804047,
          1818604.7341107263,
          1896266.8092430749,
          1884937.76727672,
          2047461.938521454,
          2186318.329561449,
          2243014.328571971,
          2411779.881907793,
          2687149.1988741537,
          3047340.85748778,
          3206781.814103519,
          3444341.4356828467,
          3633800.2023973283,
          4349479.737693799,
          4310615.805383171,
          4451182.781199207,
          5143029.962849752,
          5823769.311317084,
          6279991.67032087,
          6465949.16866699,
          6385754.550293868,
          6927966.906054656,
          7643623.537481859
         ],
         "yaxis": "y",
         "yhoverformat": ",.0f"
        },
        {
         "hovertemplate": "%{x}: %{y} <extra></extra>",
         "legendgroup": "Sample 5",
         "line": {
          "color": "#FFA15A",
          "dash": "solid"
         },
         "marker": {
          "symbol": "circle"
         },
         "mode": "markers+lines",
         "name": "Sample 5",
         "orientation": "v",
         "showlegend": true,
         "type": "scatter",
         "x": [
          0,
          1,
          2,
          3,
          4,
          5,
          6,
          7,
          8,
          9,
          10,
          11,
          12,
          13,
          14,
          15,
          16,
          17,
          18,
          19,
          20,
          21,
          22,
          23,
          24,
          25,
          26,
          27,
          28,
          29
         ],
         "xaxis": "x",
         "xhoverformat": "%H:%M",
         "y": [
          727208.8900700195,
          719044.8868239829,
          818957.2256916246,
          890334.4508957989,
          916022.3210939729,
          930781.9508885362,
          966578.1842054324,
          898556.0059587923,
          990798.8580904648,
          1103741.435686449,
          1201733.4597332326,
          1314271.3055222693,
          1487271.3294884276,
          1651477.1157717456,
          1798940.087325434,
          1947299.2675620217,
          2026793.5630750803,
          2135956.6018133615,
          2284679.046408689,
          2503024.4992241384,
          2706041.6996627646,
          2975318.2195669194,
          3101479.958066911,
          3455625.6985970675,
          3931136.5174826873,
          4074741.228870752,
          4533487.597406537,
          4700251.855290969,
          5498841.789209587,
          5963289.033045397
         ],
         "yaxis": "y",
         "yhoverformat": ",.0f"
        }
       ],
       "layout": {
        "height": 500,
        "hoverlabel": {
         "bgcolor": "white"
        },
        "legend": {
         "title": {
          "text": "Predicted Returns"
         },
         "tracegroupgap": 0
        },
        "template": {
         "data": {
          "bar": [
           {
            "error_x": {
             "color": "#2a3f5f"
            },
            "error_y": {
             "color": "#2a3f5f"
            },
            "marker": {
             "line": {
              "color": "#E5ECF6",
              "width": 0.5
             },
             "pattern": {
              "fillmode": "overlay",
              "size": 10,
              "solidity": 0.2
             }
            },
            "type": "bar"
           }
          ],
          "barpolar": [
           {
            "marker": {
             "line": {
              "color": "#E5ECF6",
              "width": 0.5
             },
             "pattern": {
              "fillmode": "overlay",
              "size": 10,
              "solidity": 0.2
             }
            },
            "type": "barpolar"
           }
          ],
          "carpet": [
           {
            "aaxis": {
             "endlinecolor": "#2a3f5f",
             "gridcolor": "white",
             "linecolor": "white",
             "minorgridcolor": "white",
             "startlinecolor": "#2a3f5f"
            },
            "baxis": {
             "endlinecolor": "#2a3f5f",
             "gridcolor": "white",
             "linecolor": "white",
             "minorgridcolor": "white",
             "startlinecolor": "#2a3f5f"
            },
            "type": "carpet"
           }
          ],
          "choropleth": [
           {
            "colorbar": {
             "outlinewidth": 0,
             "ticks": ""
            },
            "type": "choropleth"
           }
          ],
          "contour": [
           {
            "colorbar": {
             "outlinewidth": 0,
             "ticks": ""
            },
            "colorscale": [
             [
              0,
              "#0d0887"
             ],
             [
              0.1111111111111111,
              "#46039f"
             ],
             [
              0.2222222222222222,
              "#7201a8"
             ],
             [
              0.3333333333333333,
              "#9c179e"
             ],
             [
              0.4444444444444444,
              "#bd3786"
             ],
             [
              0.5555555555555556,
              "#d8576b"
             ],
             [
              0.6666666666666666,
              "#ed7953"
             ],
             [
              0.7777777777777778,
              "#fb9f3a"
             ],
             [
              0.8888888888888888,
              "#fdca26"
             ],
             [
              1,
              "#f0f921"
             ]
            ],
            "type": "contour"
           }
          ],
          "contourcarpet": [
           {
            "colorbar": {
             "outlinewidth": 0,
             "ticks": ""
            },
            "type": "contourcarpet"
           }
          ],
          "heatmap": [
           {
            "colorbar": {
             "outlinewidth": 0,
             "ticks": ""
            },
            "colorscale": [
             [
              0,
              "#0d0887"
             ],
             [
              0.1111111111111111,
              "#46039f"
             ],
             [
              0.2222222222222222,
              "#7201a8"
             ],
             [
              0.3333333333333333,
              "#9c179e"
             ],
             [
              0.4444444444444444,
              "#bd3786"
             ],
             [
              0.5555555555555556,
              "#d8576b"
             ],
             [
              0.6666666666666666,
              "#ed7953"
             ],
             [
              0.7777777777777778,
              "#fb9f3a"
             ],
             [
              0.8888888888888888,
              "#fdca26"
             ],
             [
              1,
              "#f0f921"
             ]
            ],
            "type": "heatmap"
           }
          ],
          "heatmapgl": [
           {
            "colorbar": {
             "outlinewidth": 0,
             "ticks": ""
            },
            "colorscale": [
             [
              0,
              "#0d0887"
             ],
             [
              0.1111111111111111,
              "#46039f"
             ],
             [
              0.2222222222222222,
              "#7201a8"
             ],
             [
              0.3333333333333333,
              "#9c179e"
             ],
             [
              0.4444444444444444,
              "#bd3786"
             ],
             [
              0.5555555555555556,
              "#d8576b"
             ],
             [
              0.6666666666666666,
              "#ed7953"
             ],
             [
              0.7777777777777778,
              "#fb9f3a"
             ],
             [
              0.8888888888888888,
              "#fdca26"
             ],
             [
              1,
              "#f0f921"
             ]
            ],
            "type": "heatmapgl"
           }
          ],
          "histogram": [
           {
            "marker": {
             "pattern": {
              "fillmode": "overlay",
              "size": 10,
              "solidity": 0.2
             }
            },
            "type": "histogram"
           }
          ],
          "histogram2d": [
           {
            "colorbar": {
             "outlinewidth": 0,
             "ticks": ""
            },
            "colorscale": [
             [
              0,
              "#0d0887"
             ],
             [
              0.1111111111111111,
              "#46039f"
             ],
             [
              0.2222222222222222,
              "#7201a8"
             ],
             [
              0.3333333333333333,
              "#9c179e"
             ],
             [
              0.4444444444444444,
              "#bd3786"
             ],
             [
              0.5555555555555556,
              "#d8576b"
             ],
             [
              0.6666666666666666,
              "#ed7953"
             ],
             [
              0.7777777777777778,
              "#fb9f3a"
             ],
             [
              0.8888888888888888,
              "#fdca26"
             ],
             [
              1,
              "#f0f921"
             ]
            ],
            "type": "histogram2d"
           }
          ],
          "histogram2dcontour": [
           {
            "colorbar": {
             "outlinewidth": 0,
             "ticks": ""
            },
            "colorscale": [
             [
              0,
              "#0d0887"
             ],
             [
              0.1111111111111111,
              "#46039f"
             ],
             [
              0.2222222222222222,
              "#7201a8"
             ],
             [
              0.3333333333333333,
              "#9c179e"
             ],
             [
              0.4444444444444444,
              "#bd3786"
             ],
             [
              0.5555555555555556,
              "#d8576b"
             ],
             [
              0.6666666666666666,
              "#ed7953"
             ],
             [
              0.7777777777777778,
              "#fb9f3a"
             ],
             [
              0.8888888888888888,
              "#fdca26"
             ],
             [
              1,
              "#f0f921"
             ]
            ],
            "type": "histogram2dcontour"
           }
          ],
          "mesh3d": [
           {
            "colorbar": {
             "outlinewidth": 0,
             "ticks": ""
            },
            "type": "mesh3d"
           }
          ],
          "parcoords": [
           {
            "line": {
             "colorbar": {
              "outlinewidth": 0,
              "ticks": ""
             }
            },
            "type": "parcoords"
           }
          ],
          "pie": [
           {
            "automargin": true,
            "type": "pie"
           }
          ],
          "scatter": [
           {
            "fillpattern": {
             "fillmode": "overlay",
             "size": 10,
             "solidity": 0.2
            },
            "type": "scatter"
           }
          ],
          "scatter3d": [
           {
            "line": {
             "colorbar": {
              "outlinewidth": 0,
              "ticks": ""
             }
            },
            "marker": {
             "colorbar": {
              "outlinewidth": 0,
              "ticks": ""
             }
            },
            "type": "scatter3d"
           }
          ],
          "scattercarpet": [
           {
            "marker": {
             "colorbar": {
              "outlinewidth": 0,
              "ticks": ""
             }
            },
            "type": "scattercarpet"
           }
          ],
          "scattergeo": [
           {
            "marker": {
             "colorbar": {
              "outlinewidth": 0,
              "ticks": ""
             }
            },
            "type": "scattergeo"
           }
          ],
          "scattergl": [
           {
            "marker": {
             "colorbar": {
              "outlinewidth": 0,
              "ticks": ""
             }
            },
            "type": "scattergl"
           }
          ],
          "scattermapbox": [
           {
            "marker": {
             "colorbar": {
              "outlinewidth": 0,
              "ticks": ""
             }
            },
            "type": "scattermapbox"
           }
          ],
          "scatterpolar": [
           {
            "marker": {
             "colorbar": {
              "outlinewidth": 0,
              "ticks": ""
             }
            },
            "type": "scatterpolar"
           }
          ],
          "scatterpolargl": [
           {
            "marker": {
             "colorbar": {
              "outlinewidth": 0,
              "ticks": ""
             }
            },
            "type": "scatterpolargl"
           }
          ],
          "scatterternary": [
           {
            "marker": {
             "colorbar": {
              "outlinewidth": 0,
              "ticks": ""
             }
            },
            "type": "scatterternary"
           }
          ],
          "surface": [
           {
            "colorbar": {
             "outlinewidth": 0,
             "ticks": ""
            },
            "colorscale": [
             [
              0,
              "#0d0887"
             ],
             [
              0.1111111111111111,
              "#46039f"
             ],
             [
              0.2222222222222222,
              "#7201a8"
             ],
             [
              0.3333333333333333,
              "#9c179e"
             ],
             [
              0.4444444444444444,
              "#bd3786"
             ],
             [
              0.5555555555555556,
              "#d8576b"
             ],
             [
              0.6666666666666666,
              "#ed7953"
             ],
             [
              0.7777777777777778,
              "#fb9f3a"
             ],
             [
              0.8888888888888888,
              "#fdca26"
             ],
             [
              1,
              "#f0f921"
             ]
            ],
            "type": "surface"
           }
          ],
          "table": [
           {
            "cells": {
             "fill": {
              "color": "#EBF0F8"
             },
             "line": {
              "color": "white"
             }
            },
            "header": {
             "fill": {
              "color": "#C8D4E3"
             },
             "line": {
              "color": "white"
             }
            },
            "type": "table"
           }
          ]
         },
         "layout": {
          "annotationdefaults": {
           "arrowcolor": "#2a3f5f",
           "arrowhead": 0,
           "arrowwidth": 1
          },
          "autotypenumbers": "strict",
          "coloraxis": {
           "colorbar": {
            "outlinewidth": 0,
            "ticks": ""
           }
          },
          "colorscale": {
           "diverging": [
            [
             0,
             "#8e0152"
            ],
            [
             0.1,
             "#c51b7d"
            ],
            [
             0.2,
             "#de77ae"
            ],
            [
             0.3,
             "#f1b6da"
            ],
            [
             0.4,
             "#fde0ef"
            ],
            [
             0.5,
             "#f7f7f7"
            ],
            [
             0.6,
             "#e6f5d0"
            ],
            [
             0.7,
             "#b8e186"
            ],
            [
             0.8,
             "#7fbc41"
            ],
            [
             0.9,
             "#4d9221"
            ],
            [
             1,
             "#276419"
            ]
           ],
           "sequential": [
            [
             0,
             "#0d0887"
            ],
            [
             0.1111111111111111,
             "#46039f"
            ],
            [
             0.2222222222222222,
             "#7201a8"
            ],
            [
             0.3333333333333333,
             "#9c179e"
            ],
            [
             0.4444444444444444,
             "#bd3786"
            ],
            [
             0.5555555555555556,
             "#d8576b"
            ],
            [
             0.6666666666666666,
             "#ed7953"
            ],
            [
             0.7777777777777778,
             "#fb9f3a"
            ],
            [
             0.8888888888888888,
             "#fdca26"
            ],
            [
             1,
             "#f0f921"
            ]
           ],
           "sequentialminus": [
            [
             0,
             "#0d0887"
            ],
            [
             0.1111111111111111,
             "#46039f"
            ],
            [
             0.2222222222222222,
             "#7201a8"
            ],
            [
             0.3333333333333333,
             "#9c179e"
            ],
            [
             0.4444444444444444,
             "#bd3786"
            ],
            [
             0.5555555555555556,
             "#d8576b"
            ],
            [
             0.6666666666666666,
             "#ed7953"
            ],
            [
             0.7777777777777778,
             "#fb9f3a"
            ],
            [
             0.8888888888888888,
             "#fdca26"
            ],
            [
             1,
             "#f0f921"
            ]
           ]
          },
          "colorway": [
           "#636efa",
           "#EF553B",
           "#00cc96",
           "#ab63fa",
           "#FFA15A",
           "#19d3f3",
           "#FF6692",
           "#B6E880",
           "#FF97FF",
           "#FECB52"
          ],
          "font": {
           "color": "#2a3f5f"
          },
          "geo": {
           "bgcolor": "white",
           "lakecolor": "white",
           "landcolor": "#E5ECF6",
           "showlakes": true,
           "showland": true,
           "subunitcolor": "white"
          },
          "hoverlabel": {
           "align": "left"
          },
          "hovermode": "closest",
          "mapbox": {
           "style": "light"
          },
          "paper_bgcolor": "white",
          "plot_bgcolor": "#E5ECF6",
          "polar": {
           "angularaxis": {
            "gridcolor": "white",
            "linecolor": "white",
            "ticks": ""
           },
           "bgcolor": "#E5ECF6",
           "radialaxis": {
            "gridcolor": "white",
            "linecolor": "white",
            "ticks": ""
           }
          },
          "scene": {
           "xaxis": {
            "backgroundcolor": "#E5ECF6",
            "gridcolor": "white",
            "gridwidth": 2,
            "linecolor": "white",
            "showbackground": true,
            "ticks": "",
            "zerolinecolor": "white"
           },
           "yaxis": {
            "backgroundcolor": "#E5ECF6",
            "gridcolor": "white",
            "gridwidth": 2,
            "linecolor": "white",
            "showbackground": true,
            "ticks": "",
            "zerolinecolor": "white"
           },
           "zaxis": {
            "backgroundcolor": "#E5ECF6",
            "gridcolor": "white",
            "gridwidth": 2,
            "linecolor": "white",
            "showbackground": true,
            "ticks": "",
            "zerolinecolor": "white"
           }
          },
          "shapedefaults": {
           "line": {
            "color": "#2a3f5f"
           }
          },
          "ternary": {
           "aaxis": {
            "gridcolor": "white",
            "linecolor": "white",
            "ticks": ""
           },
           "baxis": {
            "gridcolor": "white",
            "linecolor": "white",
            "ticks": ""
           },
           "bgcolor": "#E5ECF6",
           "caxis": {
            "gridcolor": "white",
            "linecolor": "white",
            "ticks": ""
           }
          },
          "title": {
           "x": 0.05
          },
          "xaxis": {
           "automargin": true,
           "gridcolor": "white",
           "linecolor": "white",
           "ticks": "",
           "title": {
            "standoff": 15
           },
           "zerolinecolor": "white",
           "zerolinewidth": 2
          },
          "yaxis": {
           "automargin": true,
           "gridcolor": "white",
           "linecolor": "white",
           "ticks": "",
           "title": {
            "standoff": 15
           },
           "zerolinecolor": "white",
           "zerolinewidth": 2
          }
         }
        },
        "title": {
         "text": "Future Value of Investment Portfolio"
        },
        "width": 900,
        "xaxis": {
         "anchor": "y",
         "domain": [
          0,
          1
         ],
         "title": {
          "text": "Year"
         }
        },
        "yaxis": {
         "anchor": "x",
         "domain": [
          0,
          1
         ],
         "tickprefix": "$",
         "title": {
          "text": "Value of Investment"
         }
        }
       }
      }
     },
     "metadata": {},
     "output_type": "display_data"
    },
    {
     "name": "stdout",
     "output_type": "stream",
     "text": [
      "The highest projected value in 29 is: $8,916,233\n",
      "The lowest projected value in 29 is: $5,963,289\n",
      "The average projected value in 29 is: $7,439,761\n",
      "The average return rate for the portfolio is: 8.10%\n"
     ]
    }
   ],
   "source": [
    "#create a plot of the future values of the investment\n",
    "fig = px.line(forecast_values.iloc[:, :5], title=f'Future Value of Investment Portfolio',\n",
    "            #name the key for the legend\n",
    "            labels={'value':'Value of Investment', 'Year':'Year'},\n",
    "            width=900, height=500, markers=True)\n",
    "fig.update_layout(\n",
    "    legend_title=\"Predicted Returns\",\n",
    "    hoverlabel=dict(bgcolor=\"white\")\n",
    "    )\n",
    "#make the tooltip prettier\n",
    "fig.update_traces(mode='markers+lines', xhoverformat='%H:%M', yhoverformat=',.0f', hovertemplate='%{x}: %{y} <extra></extra>')\n",
    "fig.update_yaxes(tickprefix=\"$\")\n",
    "fig.show()\n",
    "#print the highest and lowest investment value for the final year, in addition to the average return rate\n",
    "final_year = forecast_values.index[-1]\n",
    "highest_value = forecast_values.iloc[-1, :5].max()\n",
    "lowest_value = forecast_values.iloc[-1, :5].min()\n",
    "average_value = (highest_value + lowest_value)/2\n",
    "return_forecast = (forecast_values['Avg. Return'].mean())*100\n",
    "print(f'The highest projected value in {final_year} is: ${highest_value:,.0f}')\n",
    "print(f'The lowest projected value in {final_year} is: ${lowest_value:,.0f}')\n",
    "print(f'The average projected value in {final_year} is: ${average_value:,.0f}')\n",
    "print(f'The average return rate for the portfolio is: {return_forecast:.2f}%')"
   ]
  },
  {
   "cell_type": "code",
   "execution_count": 27,
   "id": "cb211e3d",
   "metadata": {},
   "outputs": [
    {
     "data": {
      "text/html": [
       "<div>\n",
       "<style scoped>\n",
       "    .dataframe tbody tr th:only-of-type {\n",
       "        vertical-align: middle;\n",
       "    }\n",
       "\n",
       "    .dataframe tbody tr th {\n",
       "        vertical-align: top;\n",
       "    }\n",
       "\n",
       "    .dataframe thead th {\n",
       "        text-align: right;\n",
       "    }\n",
       "</style>\n",
       "<table border=\"1\" class=\"dataframe\">\n",
       "  <thead>\n",
       "    <tr style=\"text-align: right;\">\n",
       "      <th></th>\n",
       "      <th>Avg. Return</th>\n",
       "      <th>Contribution</th>\n",
       "      <th>Future Value</th>\n",
       "      <th>With Contribution</th>\n",
       "    </tr>\n",
       "    <tr>\n",
       "      <th>Year</th>\n",
       "      <th></th>\n",
       "      <th></th>\n",
       "      <th></th>\n",
       "      <th></th>\n",
       "    </tr>\n",
       "  </thead>\n",
       "  <tbody>\n",
       "    <tr>\n",
       "      <th>2039</th>\n",
       "      <td>0.084707</td>\n",
       "      <td>80000</td>\n",
       "      <td>2.071345e+06</td>\n",
       "      <td>2.372632e+06</td>\n",
       "    </tr>\n",
       "    <tr>\n",
       "      <th>2040</th>\n",
       "      <td>0.089076</td>\n",
       "      <td>85000</td>\n",
       "      <td>2.255852e+06</td>\n",
       "      <td>2.604484e+06</td>\n",
       "    </tr>\n",
       "    <tr>\n",
       "      <th>2041</th>\n",
       "      <td>0.065370</td>\n",
       "      <td>90000</td>\n",
       "      <td>2.403318e+06</td>\n",
       "      <td>2.796589e+06</td>\n",
       "    </tr>\n",
       "    <tr>\n",
       "      <th>2042</th>\n",
       "      <td>0.130720</td>\n",
       "      <td>95000</td>\n",
       "      <td>2.717480e+06</td>\n",
       "      <td>3.186863e+06</td>\n",
       "    </tr>\n",
       "    <tr>\n",
       "      <th>2043</th>\n",
       "      <td>0.090720</td>\n",
       "      <td>100000</td>\n",
       "      <td>2.964009e+06</td>\n",
       "      <td>3.502920e+06</td>\n",
       "    </tr>\n",
       "  </tbody>\n",
       "</table>\n",
       "</div>"
      ],
      "text/plain": [
       "      Avg. Return  Contribution  Future Value  With Contribution\n",
       "Year                                                            \n",
       "2039     0.084707         80000  2.071345e+06       2.372632e+06\n",
       "2040     0.089076         85000  2.255852e+06       2.604484e+06\n",
       "2041     0.065370         90000  2.403318e+06       2.796589e+06\n",
       "2042     0.130720         95000  2.717480e+06       3.186863e+06\n",
       "2043     0.090720        100000  2.964009e+06       3.502920e+06"
      ]
     },
     "execution_count": 27,
     "metadata": {},
     "output_type": "execute_result"
    }
   ],
   "source": [
    "#enter the investor type (aggressive, moderate, conservative or nervous), the initial investment, and the number of years to forecast\n",
    "def retirement_income(investor, investment, contribution, years):\n",
    "    #use the rate sampler to create a dataframe of future return rates\n",
    "    forecast_df = rate_sampler(investor, years)\n",
    "    #create  year column, starting with the current year and adding a year for each row\n",
    "    forecast_df['Year'] = datetime.now().year + forecast_df.index\n",
    "    forecast_df.set_index('Year', inplace=True)\n",
    "    #create a new dataframe that averages the 5 sample columns as one average return rate\n",
    "    income_df = forecast_df.copy()\n",
    "    #average the 5 samples\n",
    "    income_df['Avg. Return'] = forecast_df.mean(axis=1)\n",
    "    income_df.drop(columns=['Sample 1', 'Sample 2', 'Sample 3', 'Sample 4', 'Sample 5'], inplace=True)\n",
    "    #create a column that counts the number of years\n",
    "    year_count = (income_df.index - income_df.index[0])+1\n",
    "    #create columns to show the contribution total, the future value of the investment, and the future value with the contribution\n",
    "    income_df['Contribution']= contribution*year_count\n",
    "    income_df['Future Value'] = investment*(1 + income_df['Avg. Return']).cumprod()\n",
    "    income_df['With Contribution'] = (investment + income_df['Contribution'])*(1 + income_df['Avg. Return']).cumprod()\n",
    "    # column below used for data validation, not needed for final output\n",
    "    # income_df['Contribution Gain'] = income_df['With Contribution'] - income_df['Future Value']\n",
    "    return income_df\n",
    "\n",
    "\n",
    "retirement_df = retirement_income(aggressive,550000,5000,20)\n",
    "retirement_df.tail()"
   ]
  },
  {
   "cell_type": "code",
   "execution_count": 28,
   "id": "3ed7368b",
   "metadata": {},
   "outputs": [
    {
     "name": "stdout",
     "output_type": "stream",
     "text": [
      "The projected annual income in 2043 is: $140,117\n",
      "The projected monthly income in 2043 is: $11,676\n",
      "The return is: 8.82%\n"
     ]
    }
   ],
   "source": [
    "#take the final future value and multiply it by 4% to get the annual income\n",
    "final_year = retirement_df.index[-1]\n",
    "final_value = retirement_df['Future Value'].iloc[-1]\n",
    "total_cont = retirement_df['Contribution'].iloc[-1]\n",
    "final_value_cont = retirement_df['With Contribution'].iloc[-1]\n",
    "cont_gain = round((final_value_cont - final_value)-total_cont)\n",
    "annual_income = retirement_df['With Contribution'].iloc[-1]*0.04\n",
    "monthly_income = annual_income/12\n",
    "average_return = (retirement_df['Avg. Return'].mean())*100\n",
    "print(f'The projected annual income in {retirement_df.index[-1]} is: ${annual_income:,.0f}')\n",
    "print(f'The projected monthly income in {retirement_df.index[-1]} is: ${monthly_income:,.0f}')\n",
    "print(f'The return is: {average_return:,.2f}%')"
   ]
  },
  {
   "cell_type": "code",
   "execution_count": 36,
   "id": "cde2d6b5",
   "metadata": {},
   "outputs": [
    {
     "data": {
      "text/html": [
       "<div>\n",
       "<style scoped>\n",
       "    .dataframe tbody tr th:only-of-type {\n",
       "        vertical-align: middle;\n",
       "    }\n",
       "\n",
       "    .dataframe tbody tr th {\n",
       "        vertical-align: top;\n",
       "    }\n",
       "\n",
       "    .dataframe thead th {\n",
       "        text-align: right;\n",
       "    }\n",
       "</style>\n",
       "<table border=\"1\" class=\"dataframe\">\n",
       "  <thead>\n",
       "    <tr style=\"text-align: right;\">\n",
       "      <th></th>\n",
       "      <th>Final Value</th>\n",
       "      <th>Contribution Total</th>\n",
       "      <th>Contribution Growth</th>\n",
       "      <th>Average Return</th>\n",
       "      <th>Annual Income</th>\n",
       "      <th>Monthly Income</th>\n",
       "    </tr>\n",
       "    <tr>\n",
       "      <th>Final Year</th>\n",
       "      <th></th>\n",
       "      <th></th>\n",
       "      <th></th>\n",
       "      <th></th>\n",
       "      <th></th>\n",
       "      <th></th>\n",
       "    </tr>\n",
       "  </thead>\n",
       "  <tbody>\n",
       "    <tr>\n",
       "      <th>2043</th>\n",
       "      <td>3.502920e+06</td>\n",
       "      <td>100000</td>\n",
       "      <td>438911</td>\n",
       "      <td>8.822766</td>\n",
       "      <td>140116.798687</td>\n",
       "      <td>11676.399891</td>\n",
       "    </tr>\n",
       "  </tbody>\n",
       "</table>\n",
       "</div>"
      ],
      "text/plain": [
       "             Final Value  Contribution Total  Contribution Growth  \\\n",
       "Final Year                                                          \n",
       "2043        3.502920e+06              100000               438911   \n",
       "\n",
       "            Average Return  Annual Income  Monthly Income  \n",
       "Final Year                                                 \n",
       "2043              8.822766  140116.798687    11676.399891  "
      ]
     },
     "execution_count": 36,
     "metadata": {},
     "output_type": "execute_result"
    }
   ],
   "source": [
    "retirement_summary = pd.DataFrame({'Final Year':[final_year], 'Final Value':[final_value_cont], 'Contribution Total':[total_cont], 'Contribution Growth':[cont_gain], 'Average Return':[average_return], \n",
    "                                   'Annual Income':[annual_income], 'Monthly Income':[monthly_income]})\n",
    "retirement_summary.set_index('Final Year', inplace=True)\n",
    "retirement_summary"
   ]
  },
  {
   "cell_type": "markdown",
   "id": "717c87c4",
   "metadata": {},
   "source": [
    "**Building the machine learning dataset**\n",
    "The functions above were packaged into the random forecast function below, used to generate a large dataset to train the AI model."
   ]
  },
  {
   "cell_type": "code",
   "execution_count": 30,
   "id": "d421d381",
   "metadata": {},
   "outputs": [
    {
     "data": {
      "text/html": [
       "<div>\n",
       "<style scoped>\n",
       "    .dataframe tbody tr th:only-of-type {\n",
       "        vertical-align: middle;\n",
       "    }\n",
       "\n",
       "    .dataframe tbody tr th {\n",
       "        vertical-align: top;\n",
       "    }\n",
       "\n",
       "    .dataframe thead th {\n",
       "        text-align: right;\n",
       "    }\n",
       "</style>\n",
       "<table border=\"1\" class=\"dataframe\">\n",
       "  <thead>\n",
       "    <tr style=\"text-align: right;\">\n",
       "      <th></th>\n",
       "      <th>Investor Type</th>\n",
       "      <th>Years Forecasted</th>\n",
       "      <th>Initial Investment</th>\n",
       "      <th>Final Value</th>\n",
       "    </tr>\n",
       "  </thead>\n",
       "  <tbody>\n",
       "    <tr>\n",
       "      <th>0</th>\n",
       "      <td>aggressive_investor</td>\n",
       "      <td>34</td>\n",
       "      <td>1936748</td>\n",
       "      <td>26725677</td>\n",
       "    </tr>\n",
       "    <tr>\n",
       "      <th>1</th>\n",
       "      <td>moderate_investor</td>\n",
       "      <td>41</td>\n",
       "      <td>430753</td>\n",
       "      <td>9098711</td>\n",
       "    </tr>\n",
       "    <tr>\n",
       "      <th>2</th>\n",
       "      <td>aggressive_investor</td>\n",
       "      <td>21</td>\n",
       "      <td>1200629</td>\n",
       "      <td>5229695</td>\n",
       "    </tr>\n",
       "    <tr>\n",
       "      <th>3</th>\n",
       "      <td>nervous_investor</td>\n",
       "      <td>19</td>\n",
       "      <td>402812</td>\n",
       "      <td>1298687</td>\n",
       "    </tr>\n",
       "    <tr>\n",
       "      <th>4</th>\n",
       "      <td>moderate_investor</td>\n",
       "      <td>22</td>\n",
       "      <td>579297</td>\n",
       "      <td>2926496</td>\n",
       "    </tr>\n",
       "  </tbody>\n",
       "</table>\n",
       "</div>"
      ],
      "text/plain": [
       "         Investor Type  Years Forecasted  Initial Investment  Final Value\n",
       "0  aggressive_investor                34             1936748     26725677\n",
       "1    moderate_investor                41              430753      9098711\n",
       "2  aggressive_investor                21             1200629      5229695\n",
       "3     nervous_investor                19              402812      1298687\n",
       "4    moderate_investor                22              579297      2926496"
      ]
     },
     "execution_count": 30,
     "metadata": {},
     "output_type": "execute_result"
    }
   ],
   "source": [
    "#function to create repeated samples from the investment portfolio\n",
    "def random_forecast():\n",
    "    investor_pick = random.choice([aggressive, moderate, conservative, nervous])\n",
    "    #pick a random initial investment, ranging from $10,000 to $2,000,000\n",
    "    investment = random.randint(10000, 2000000)\n",
    "    #pick a random number of years to invest, ranging from 10 to 50\n",
    "    years = random.randint(10, 50)\n",
    "    random_forecast = retirement_forecast(investor_pick, investment, years)\n",
    "    #get the average final value of the portfolio\n",
    "    final_year = random_forecast.index[-1]\n",
    "    highest_value = random_forecast.iloc[-1, :5].max()\n",
    "    lowest_value = random_forecast.iloc[-1, :5].min()\n",
    "    average_value = round((highest_value + lowest_value)/2)\n",
    "    #create a new list to hold the number of years forecasted, the investor type, and the highest average value\n",
    "    \n",
    "\n",
    "    forecast_list = [list(investor_pick.keys())[0], years, investment, average_value]\n",
    "    return  forecast_list\n",
    "\n",
    "\n",
    "#this commented out section was used to generate a large csv file of random forecasts to be used in a machine learning model\n",
    "#the random_forecast function was run 10,000 times to create a dataframe of the results for my machine learning model\n",
    "# forecast_results = []\n",
    "# for i in range(10000):\n",
    "#     forecast_results.append(random_forecast())\n",
    "# forecast_df = pd.DataFrame(forecast_results, columns=['Investor Type', 'Years Forecasted', 'Initial Investment', 'Final Value'])\n",
    "# forecast_df.to_csv('Data/forecast_results.csv')\n",
    "# forecast_df.head()\n"
   ]
  },
  {
   "cell_type": "markdown",
   "id": "9cfbd7a3",
   "metadata": {},
   "source": [
    "### Learning from the Past:\n",
    "The retirement forecast function was utilized to generate 10,000 hypothetical investment scenarios.  Initial investment values were randomly generated, ranging from $10,000 to $2,000,000, with a range of investment years from 10-50. The hypothetical dataset was saved as a CSV and then utilized for machine learning.\n",
    "\n",
    "*Modeling:* Linear regression, ridge regression, and KNN were the machine learning models tested. A grid search was set up to optimize the parameters for each model.\n",
    "*Cross-validation:* After assessing the model performance, the KNN model proved to be the best predictor of retirement values. The KNN model was implemented for creating predictions."
   ]
  },
  {
   "cell_type": "code",
   "execution_count": 31,
   "id": "dcf7b689",
   "metadata": {},
   "outputs": [],
   "source": [
    "#importing functions for the machine learning model\n",
    "from sklearn.pipeline import Pipeline\n",
    "from sklearn.model_selection import train_test_split\n",
    "from sklearn.metrics import mean_squared_error\n",
    "from sklearn.pipeline import Pipeline\n",
    "from sklearn.model_selection import GridSearchCV\n",
    "from sklearn.linear_model import LinearRegression, Ridge\n",
    "from sklearn.neighbors import KNeighborsRegressor\n",
    "from sklearn.preprocessing import StandardScaler\n",
    "from sklearn import metrics\n",
    "from sklearn.model_selection import train_test_split\n",
    "from sklearn.model_selection import cross_val_score, KFold\n",
    "import warnings\n",
    "# Suppress UserWarning from scikit-learn\n",
    "warnings.filterwarnings(\"ignore\", category=UserWarning)"
   ]
  },
  {
   "cell_type": "code",
   "execution_count": 32,
   "id": "8470ecff",
   "metadata": {},
   "outputs": [
    {
     "data": {
      "text/html": [
       "<div>\n",
       "<style scoped>\n",
       "    .dataframe tbody tr th:only-of-type {\n",
       "        vertical-align: middle;\n",
       "    }\n",
       "\n",
       "    .dataframe tbody tr th {\n",
       "        vertical-align: top;\n",
       "    }\n",
       "\n",
       "    .dataframe thead th {\n",
       "        text-align: right;\n",
       "    }\n",
       "</style>\n",
       "<table border=\"1\" class=\"dataframe\">\n",
       "  <thead>\n",
       "    <tr style=\"text-align: right;\">\n",
       "      <th></th>\n",
       "      <th>Years Forecasted</th>\n",
       "      <th>Initial Investment</th>\n",
       "      <th>Final Value</th>\n",
       "      <th>Investor Type_aggressive_investor</th>\n",
       "      <th>Investor Type_conservative_investor</th>\n",
       "      <th>Investor Type_moderate_investor</th>\n",
       "      <th>Investor Type_nervous_investor</th>\n",
       "    </tr>\n",
       "  </thead>\n",
       "  <tbody>\n",
       "    <tr>\n",
       "      <th>0</th>\n",
       "      <td>34</td>\n",
       "      <td>1936748</td>\n",
       "      <td>26725677</td>\n",
       "      <td>True</td>\n",
       "      <td>False</td>\n",
       "      <td>False</td>\n",
       "      <td>False</td>\n",
       "    </tr>\n",
       "    <tr>\n",
       "      <th>1</th>\n",
       "      <td>41</td>\n",
       "      <td>430753</td>\n",
       "      <td>9098711</td>\n",
       "      <td>False</td>\n",
       "      <td>False</td>\n",
       "      <td>True</td>\n",
       "      <td>False</td>\n",
       "    </tr>\n",
       "    <tr>\n",
       "      <th>2</th>\n",
       "      <td>21</td>\n",
       "      <td>1200629</td>\n",
       "      <td>5229695</td>\n",
       "      <td>True</td>\n",
       "      <td>False</td>\n",
       "      <td>False</td>\n",
       "      <td>False</td>\n",
       "    </tr>\n",
       "    <tr>\n",
       "      <th>3</th>\n",
       "      <td>19</td>\n",
       "      <td>402812</td>\n",
       "      <td>1298687</td>\n",
       "      <td>False</td>\n",
       "      <td>False</td>\n",
       "      <td>False</td>\n",
       "      <td>True</td>\n",
       "    </tr>\n",
       "    <tr>\n",
       "      <th>4</th>\n",
       "      <td>22</td>\n",
       "      <td>579297</td>\n",
       "      <td>2926496</td>\n",
       "      <td>False</td>\n",
       "      <td>False</td>\n",
       "      <td>True</td>\n",
       "      <td>False</td>\n",
       "    </tr>\n",
       "  </tbody>\n",
       "</table>\n",
       "</div>"
      ],
      "text/plain": [
       "   Years Forecasted  Initial Investment  Final Value  \\\n",
       "0                34             1936748     26725677   \n",
       "1                41              430753      9098711   \n",
       "2                21             1200629      5229695   \n",
       "3                19              402812      1298687   \n",
       "4                22              579297      2926496   \n",
       "\n",
       "   Investor Type_aggressive_investor  Investor Type_conservative_investor  \\\n",
       "0                               True                                False   \n",
       "1                              False                                False   \n",
       "2                               True                                False   \n",
       "3                              False                                False   \n",
       "4                              False                                False   \n",
       "\n",
       "   Investor Type_moderate_investor  Investor Type_nervous_investor  \n",
       "0                            False                           False  \n",
       "1                             True                           False  \n",
       "2                            False                           False  \n",
       "3                            False                            True  \n",
       "4                             True                           False  "
      ]
     },
     "execution_count": 32,
     "metadata": {},
     "output_type": "execute_result"
    }
   ],
   "source": [
    "#convert the forecast_results csv file into a dataframe\n",
    "forecast_results = pd.read_csv('Data/forecast_results.csv')\n",
    "forecast_results.drop('Unnamed: 0', axis=1, inplace=True)\n",
    "\n",
    "#converting the investor type into a numerical value\n",
    "forecast_results_num = pd.get_dummies(forecast_results, columns=['Investor Type'])\n",
    "\n",
    "forecast_results_num.head()"
   ]
  },
  {
   "cell_type": "code",
   "execution_count": 33,
   "id": "355f6ea7",
   "metadata": {},
   "outputs": [
    {
     "data": {
      "text/html": [
       "<div>\n",
       "<style scoped>\n",
       "    .dataframe tbody tr th:only-of-type {\n",
       "        vertical-align: middle;\n",
       "    }\n",
       "\n",
       "    .dataframe tbody tr th {\n",
       "        vertical-align: top;\n",
       "    }\n",
       "\n",
       "    .dataframe thead th {\n",
       "        text-align: right;\n",
       "    }\n",
       "</style>\n",
       "<table border=\"1\" class=\"dataframe\">\n",
       "  <thead>\n",
       "    <tr style=\"text-align: right;\">\n",
       "      <th></th>\n",
       "      <th>Linear Regression</th>\n",
       "      <th>Ridge Regression</th>\n",
       "      <th>KNN</th>\n",
       "    </tr>\n",
       "  </thead>\n",
       "  <tbody>\n",
       "    <tr>\n",
       "      <th>Mean Absolute Error</th>\n",
       "      <td>5.381076e+06</td>\n",
       "      <td>5.380740e+06</td>\n",
       "      <td>9.919071e+05</td>\n",
       "    </tr>\n",
       "    <tr>\n",
       "      <th>Mean Squared Error</th>\n",
       "      <td>6.137979e+13</td>\n",
       "      <td>6.137959e+13</td>\n",
       "      <td>4.910731e+12</td>\n",
       "    </tr>\n",
       "    <tr>\n",
       "      <th>Root Mean Squared Error</th>\n",
       "      <td>7.834525e+06</td>\n",
       "      <td>7.834513e+06</td>\n",
       "      <td>2.216017e+06</td>\n",
       "    </tr>\n",
       "    <tr>\n",
       "      <th>R2 Score</th>\n",
       "      <td>6.498078e-01</td>\n",
       "      <td>6.498090e-01</td>\n",
       "      <td>9.719826e-01</td>\n",
       "    </tr>\n",
       "  </tbody>\n",
       "</table>\n",
       "</div>"
      ],
      "text/plain": [
       "                         Linear Regression  Ridge Regression           KNN\n",
       "Mean Absolute Error           5.381076e+06      5.380740e+06  9.919071e+05\n",
       "Mean Squared Error            6.137979e+13      6.137959e+13  4.910731e+12\n",
       "Root Mean Squared Error       7.834525e+06      7.834513e+06  2.216017e+06\n",
       "R2 Score                      6.498078e-01      6.498090e-01  9.719826e-01"
      ]
     },
     "execution_count": 33,
     "metadata": {},
     "output_type": "execute_result"
    }
   ],
   "source": [
    "#splitting the data into training and testing sets\n",
    "X = forecast_results_num.drop('Final Value', axis=1)\n",
    "y = forecast_results_num['Final Value']\n",
    "X_train, X_test, y_train, y_test = train_test_split(X, y, test_size=0.2, random_state=42)\n",
    "\n",
    "#linear regression pipeline\n",
    "lr_pipe = Pipeline(steps=[('scaler', StandardScaler()),\n",
    "                ('regression', LinearRegression())])\n",
    "\n",
    "#print(lr_pipe.get_params()) --> code used to look up the parameters for the grid search\n",
    "lr_grid = GridSearchCV(estimator=lr_pipe, n_jobs=-1, param_grid={'regression__fit_intercept': [True, False], 'scaler__with_mean': [True, False], 'scaler__with_std': [True, False]})\n",
    "lin_reg = lr_grid.fit(X_train, y_train)\n",
    "y_pred = lin_reg.predict(X_test)\n",
    "\n",
    "#ridge regression pipeline\n",
    "rr_pipe = Pipeline(steps=[('scaler', StandardScaler()),\n",
    "                ('regression', Ridge())])\n",
    "rr_grid = GridSearchCV(estimator=rr_pipe, n_jobs=-1, param_grid={'regression__alpha': [0.1, 1, 10, 100, 1000]})\n",
    "rr_grid = rr_grid.fit(X_train, y_train)\n",
    "y_pred_ridge = rr_grid.predict(X_test)\n",
    "\n",
    "#knn pipeline\n",
    "k_pipe = Pipeline(steps=[('scaler', StandardScaler()),\n",
    "                ('regression', KNeighborsRegressor())])\n",
    "k_grid = GridSearchCV(estimator=k_pipe, n_jobs=-1, param_grid={'regression__n_neighbors': [3, 5, 7, 9, 11], 'regression__metric': ['euclidean', 'minkowski','manhattan'], 'regression__weights': ['uniform', 'distance']})\n",
    "k_grid = k_grid.fit(X_train, y_train)\n",
    "k_pred = k_grid.predict(X_test)\n",
    "\n",
    "\n",
    "#evaluating the model metrics\n",
    "model_evaluation = pd.DataFrame({'Linear Regression': [metrics.mean_absolute_error(y_test, y_pred), metrics.mean_squared_error(y_test, y_pred), np.sqrt(metrics.mean_squared_error(y_test, y_pred)), metrics.r2_score(y_test, y_pred)],\n",
    "                                'Ridge Regression': [metrics.mean_absolute_error(y_test, y_pred_ridge), metrics.mean_squared_error(y_test, y_pred_ridge), np.sqrt(metrics.mean_squared_error(y_test, y_pred_ridge)), metrics.r2_score(y_test,y_pred_ridge)],\n",
    "                                'KNN': [metrics.mean_absolute_error(y_test, k_pred), metrics.mean_squared_error(y_test, k_pred), np.sqrt(metrics.mean_squared_error(y_test, k_pred)), metrics.r2_score(y_test, k_pred)]},\n",
    "                               index=['Mean Absolute Error', 'Mean Squared Error', 'Root Mean Squared Error', 'R2 Score'])\n",
    "model_evaluation"
   ]
  },
  {
   "cell_type": "code",
   "execution_count": 34,
   "id": "df53c236",
   "metadata": {},
   "outputs": [
    {
     "data": {
      "text/plain": [
       "Linear Regression    0.656269\n",
       "Ridge Regression     0.656274\n",
       "KNN                  0.973797\n",
       "dtype: float64"
      ]
     },
     "execution_count": 34,
     "metadata": {},
     "output_type": "execute_result"
    }
   ],
   "source": [
    "#using cross validation to determine the best model\n",
    "cv = KFold(n_splits=5, shuffle=True, random_state=42)\n",
    "lr_scores = cross_val_score(lin_reg, X, y, cv=cv, scoring='r2')\n",
    "rr_scores = cross_val_score(rr_grid, X, y, cv=cv, scoring='r2')\n",
    "k_scores = cross_val_score(k_grid, X, y, cv=cv, scoring='r2')\n",
    "cv_scores = pd.DataFrame({'Linear Regression': lr_scores, 'Ridge Regression': rr_scores, 'KNN': k_scores})\n",
    "cv_scores.mean()\n",
    "\n"
   ]
  },
  {
   "cell_type": "code",
   "execution_count": 37,
   "id": "24b17bc9",
   "metadata": {},
   "outputs": [
    {
     "name": "stdout",
     "output_type": "stream",
     "text": [
      "The predicted final value of the portfolio is: $1,000,471\n"
     ]
    }
   ],
   "source": [
    "#using KNN to make retirement predictions as this is the best model\n",
    "# ['Years Forecasted', 'Initial Investment', 'Investor Type_aggressive_investor', 'Investor Type_conservative_investor', 'Investor Type_moderate_investor', 'Investor Type_nervous_investor']\n",
    "# Aggressive Investor - Conservative - Moderate - Nervous\n",
    "pred_inputs = [[25, 250000, 0,1,0,0]]\n",
    "prediction = k_grid.predict(pred_inputs)\n",
    "\n",
    "print(f'The predicted final value of the portfolio is: ${prediction[0]:,.0f}')"
   ]
  }
 ],
 "metadata": {
  "kernelspec": {
   "display_name": "Python 3 (ipykernel)",
   "language": "python",
   "name": "python3"
  },
  "language_info": {
   "codemirror_mode": {
    "name": "ipython",
    "version": 3
   },
   "file_extension": ".py",
   "mimetype": "text/x-python",
   "name": "python",
   "nbconvert_exporter": "python",
   "pygments_lexer": "ipython3",
   "version": "3.11.7"
  }
 },
 "nbformat": 4,
 "nbformat_minor": 5
}
