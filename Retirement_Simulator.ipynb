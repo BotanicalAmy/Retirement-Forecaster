{
 "cells": [
  {
   "cell_type": "code",
   "execution_count": 2439,
   "id": "52bf26b3",
   "metadata": {},
   "outputs": [],
   "source": [
    "from scipy.stats import uniform\n",
    "from scipy.stats import norm\n",
    "import statistics as stat\n",
    "import matplotlib.pyplot as plt\n",
    "import pandas as pd\n",
    "import numpy as np\n",
    "import random\n",
    "import seaborn as sns\n",
    "from IPython.display import Image\n",
    "from datetime import datetime\n",
    "import plotly.express as px"
   ]
  },
  {
   "cell_type": "markdown",
   "id": "5c32f74b",
   "metadata": {},
   "source": [
    "## Portfolio Investment Returns\n",
    "\n",
    "Historical returns from 1928 until present were collected.  Three additional columns were created based on a 80% portfolio investment (Aggressive), a 65% stock investment (Moderate), and a 50% stock investment (Conservative)."
   ]
  },
  {
   "cell_type": "code",
   "execution_count": 2440,
   "id": "165521d0",
   "metadata": {},
   "outputs": [
    {
     "data": {
      "text/html": [
       "<div>\n",
       "<style scoped>\n",
       "    .dataframe tbody tr th:only-of-type {\n",
       "        vertical-align: middle;\n",
       "    }\n",
       "\n",
       "    .dataframe tbody tr th {\n",
       "        vertical-align: top;\n",
       "    }\n",
       "\n",
       "    .dataframe thead th {\n",
       "        text-align: right;\n",
       "    }\n",
       "</style>\n",
       "<table border=\"1\" class=\"dataframe\">\n",
       "  <thead>\n",
       "    <tr style=\"text-align: right;\">\n",
       "      <th></th>\n",
       "      <th>Return Rate</th>\n",
       "    </tr>\n",
       "  </thead>\n",
       "  <tbody>\n",
       "    <tr>\n",
       "      <th>S&amp;P 500</th>\n",
       "      <td>11.660</td>\n",
       "    </tr>\n",
       "    <tr>\n",
       "      <th>Aggressive</th>\n",
       "      <td>9.330</td>\n",
       "    </tr>\n",
       "    <tr>\n",
       "      <th>Moderate</th>\n",
       "      <td>7.580</td>\n",
       "    </tr>\n",
       "    <tr>\n",
       "      <th>Conservative</th>\n",
       "      <td>5.830</td>\n",
       "    </tr>\n",
       "  </tbody>\n",
       "</table>\n",
       "</div>"
      ],
      "text/plain": [
       "              Return Rate\n",
       "S&P 500            11.660\n",
       "Aggressive          9.330\n",
       "Moderate            7.580\n",
       "Conservative        5.830"
      ]
     },
     "execution_count": 2440,
     "metadata": {},
     "output_type": "execute_result"
    }
   ],
   "source": [
    "returns = pd.read_excel('Data/StockReturns.xlsx')\n",
    "returns.head()\n",
    "return_rates = pd.DataFrame((returns[['S&P 500', 'Aggressive', 'Moderate', 'Conservative']].mean()*100).round(2))\n",
    "return_rates.columns = ['Return Rate']\n",
    "return_rates \n"
   ]
  },
  {
   "cell_type": "markdown",
   "id": "1dd5f0a5",
   "metadata": {},
   "source": [
    "### Creating future return distributions\n",
    "\n",
    "From the historical stock return data, samples means were generated to create a normalized distribution.  This list of probable returns will be used to forecast future portfolio performance."
   ]
  },
  {
   "cell_type": "code",
   "execution_count": 2441,
   "id": "7ff991fb",
   "metadata": {},
   "outputs": [],
   "source": [
    "#S&P 500 return rates, fewer samples were taken to increase the volatility\n",
    "norm_returns = []\n",
    "\n",
    "for i in range(500):\n",
    "    sample = returns['S&P 500'].sample(5)\n",
    "    sample_mean = np.mean(sample)\n",
    "    norm_returns.append(sample_mean)\n",
    "\n",
    "#creating a new dataframe (csv) file for the future return rates\n",
    "future_returns = pd.DataFrame(norm_returns, columns=['S&P Future'])"
   ]
  },
  {
   "cell_type": "code",
   "execution_count": 2442,
   "id": "b2f6f287",
   "metadata": {},
   "outputs": [],
   "source": [
    "#Aggresive return rates\n",
    "aggresive_returns = []\n",
    "\n",
    "for i in range(500):\n",
    "    sample = returns['Aggressive'].sample(10)\n",
    "    sample_mean = np.mean(sample)\n",
    "    aggresive_returns.append(sample_mean)\n",
    "\n",
    "#adding the aggresive future returns to the futures dataframe\n",
    "future_returns['Aggressive Future'] = aggresive_returns"
   ]
  },
  {
   "cell_type": "code",
   "execution_count": 2443,
   "id": "cd0da88b",
   "metadata": {},
   "outputs": [],
   "source": [
    "#Moderate return rates\n",
    "moderate_returns = []\n",
    "\n",
    "for i in range(500):\n",
    "    sample = returns['Moderate'].sample(20)\n",
    "    sample_mean = np.mean(sample)\n",
    "    moderate_returns.append(sample_mean)\n",
    "\n",
    "#adding the aggresive future returns to the futures dataframe\n",
    "future_returns['Moderate Future'] = moderate_returns"
   ]
  },
  {
   "cell_type": "code",
   "execution_count": 2444,
   "id": "cecac058",
   "metadata": {},
   "outputs": [],
   "source": [
    "#Conservative return rates, greater samples were taken to decrease the volatility\n",
    "conservative_returns = []\n",
    "\n",
    "for i in range(500):\n",
    "    sample = returns['Conservative'].sample(30)\n",
    "    sample_mean = np.mean(sample)\n",
    "    conservative_returns.append(sample_mean)\n",
    "\n",
    "#adding the aggresive future returns to the futures dataframe\n",
    "future_returns['Conservative Future'] = conservative_returns"
   ]
  },
  {
   "cell_type": "code",
   "execution_count": 2445,
   "id": "b1dae0dd",
   "metadata": {},
   "outputs": [],
   "source": [
    "future_returns.to_csv('Data/futurereturns.csv')"
   ]
  },
  {
   "cell_type": "markdown",
   "id": "ddbcca2c",
   "metadata": {},
   "source": [
    "## Plotting the return rate distributions\n",
    "\n",
    "After researching historical portfolio performance, I worked with both the mean sample sizes and the return rate columns from the historical table to create return distributions that best matched expected portfolio performance.\n",
    "\n",
    "While the S&P 500 returns have the greatest spread, this set of returns also has the highest return rate.\n",
    "As you shift from aggressive down to moderate, the distribution tightens, but the average return rate also decreases. The conservative investment will be the most predictable, but have the lowest average return.\n",
    "\n",
    "### Sources:\n",
    "[Stock Market Performance](https://www.sciencedirect.com/science/article/pii/S2405473915000331) <br>\n",
    "I analyzed historical stock trends and consulted with a local wealth management firm to compare this hypothetical future performance to industry expectations."
   ]
  },
  {
   "cell_type": "code",
   "execution_count": 2446,
   "id": "57d5a4f8",
   "metadata": {},
   "outputs": [
    {
     "data": {
      "text/plain": [
       "<matplotlib.legend.Legend at 0x7fe0ca5146a0>"
      ]
     },
     "execution_count": 2446,
     "metadata": {},
     "output_type": "execute_result"
    },
    {
     "data": {
      "image/png": "[encoded data removed]",
      "text/plain": [
       "<Figure size 640x480 with 1 Axes>"
      ]
     },
     "metadata": {},
     "output_type": "display_data"
    }
   ],
   "source": [
    "plt.hist(future_returns['S&P Future'], bins=50, alpha=0.7, color='#e9e9ee')\n",
    "plt.hist(future_returns['Aggressive Future'], bins=50, alpha=0.7, color='#c7c2d6')\n",
    "plt.hist(future_returns['Moderate Future'], bins=50, alpha=0.7, color='#787380')\n",
    "plt.hist(future_returns['Conservative Future'], bins=50, alpha=0.7, color='#494351')\n",
    "plt.legend(['S&P Future', 'Aggressive Future', 'Moderate Future', 'Conservative Future'])"
   ]
  },
  {
   "cell_type": "code",
   "execution_count": 2447,
   "id": "0156b64e",
   "metadata": {},
   "outputs": [
    {
     "data": {
      "text/html": [
       "<div>\n",
       "<style scoped>\n",
       "    .dataframe tbody tr th:only-of-type {\n",
       "        vertical-align: middle;\n",
       "    }\n",
       "\n",
       "    .dataframe tbody tr th {\n",
       "        vertical-align: top;\n",
       "    }\n",
       "\n",
       "    .dataframe thead th {\n",
       "        text-align: right;\n",
       "    }\n",
       "</style>\n",
       "<table border=\"1\" class=\"dataframe\">\n",
       "  <thead>\n",
       "    <tr style=\"text-align: right;\">\n",
       "      <th></th>\n",
       "      <th>Mean</th>\n",
       "      <th>Standard Deviation</th>\n",
       "      <th>Variance</th>\n",
       "    </tr>\n",
       "    <tr>\n",
       "      <th>Return Rates</th>\n",
       "      <th></th>\n",
       "      <th></th>\n",
       "      <th></th>\n",
       "    </tr>\n",
       "  </thead>\n",
       "  <tbody>\n",
       "    <tr>\n",
       "      <th>S&amp;P Future</th>\n",
       "      <td>0.114</td>\n",
       "      <td>0.087</td>\n",
       "      <td>0.008</td>\n",
       "    </tr>\n",
       "    <tr>\n",
       "      <th>Aggressive Future</th>\n",
       "      <td>0.091</td>\n",
       "      <td>0.044</td>\n",
       "      <td>0.002</td>\n",
       "    </tr>\n",
       "    <tr>\n",
       "      <th>Moderate Future</th>\n",
       "      <td>0.074</td>\n",
       "      <td>0.025</td>\n",
       "      <td>0.001</td>\n",
       "    </tr>\n",
       "    <tr>\n",
       "      <th>Conservative Future</th>\n",
       "      <td>0.057</td>\n",
       "      <td>0.014</td>\n",
       "      <td>0.000</td>\n",
       "    </tr>\n",
       "  </tbody>\n",
       "</table>\n",
       "</div>"
      ],
      "text/plain": [
       "                     Mean  Standard Deviation  Variance\n",
       "Return Rates                                           \n",
       "S&P Future          0.114               0.087     0.008\n",
       "Aggressive Future   0.091               0.044     0.002\n",
       "Moderate Future     0.074               0.025     0.001\n",
       "Conservative Future 0.057               0.014     0.000"
      ]
     },
     "metadata": {},
     "output_type": "display_data"
    }
   ],
   "source": [
    "statistics = {'Return Rates': ['S&P Future', 'Aggressive Future', 'Moderate Future', 'Conservative Future'],\n",
    "            'Mean': [np.mean(future_returns['S&P Future']), np.mean(future_returns['Aggressive Future']), np.mean(future_returns['Moderate Future']), np.mean(future_returns['Conservative Future'])],\n",
    "            'Standard Deviation': [np.std(future_returns['S&P Future']), np.std(future_returns['Aggressive Future']), np.std(future_returns['Moderate Future']), np.std(future_returns['Conservative Future'])],\n",
    "             'Variance': [stat.variance(future_returns['S&P Future']), stat.variance(future_returns['Aggressive Future']), stat.variance(future_returns['Moderate Future']), stat.variance(future_returns['Conservative Future'])]}   \n",
    "                                                                                                      \n",
    "statistics_table = pd.DataFrame.from_dict(statistics).set_index('Return Rates')                      \n",
    "display(statistics_table)"
   ]
  },
  {
   "cell_type": "markdown",
   "id": "55c3e7bc",
   "metadata": {},
   "source": [
    "## A random walk through probability\n",
    "\n",
    "The random walk theory claims that stock prices are not influenced by history, but rather a random walk that follows an upward slope. Additionally, the Black-Scholes/Merton equation explores the probability distribution of the markets in great depth, focusing on the correlation between brownian motion and the probability distrubtion found in finances.\n",
    "\n",
    "I investigated the directions of change (derivatives) from 1928 to 2023, and found that the expected distribution resulted in 41 years with an increase in rate of return, and 52 years of decrease. Looking at the visual of my analysis, the stock market was positive for 70 of the 96 years surveyed, and negative for 26 of those years.\n",
    "\n",
    "The goal of this retirement simulator is to simulate the same patterns found in the historical stock market to forecast the probable distribution of future returns. <br><br>\n",
    "\n",
    "<img src=\"Images/StockPatterns.jpg\" width=\"900\" height=\"610\">\n",
    "\n",
    "### Sources:\n",
    "[Random Walk](https://www.sciencedirect.com/science/article/pii/S2405473915000331) <br>\n",
    "[Black-Scholes/Merton Equation](https://www.youtube.com/watch?v=A5w-dEgIU1M)\n",
    "\n",
    "*I can calculate the motion of heavenly bodies, but not the madness of people.” — Sir Isaac Newton.*\n",
    "\n",
    "\n",
    "\n"
   ]
  },
  {
   "cell_type": "code",
   "execution_count": 2448,
   "id": "6c492a05",
   "metadata": {},
   "outputs": [
    {
     "data": {
      "text/html": [
       "<div>\n",
       "<style scoped>\n",
       "    .dataframe tbody tr th:only-of-type {\n",
       "        vertical-align: middle;\n",
       "    }\n",
       "\n",
       "    .dataframe tbody tr th {\n",
       "        vertical-align: top;\n",
       "    }\n",
       "\n",
       "    .dataframe thead th {\n",
       "        text-align: right;\n",
       "    }\n",
       "</style>\n",
       "<table border=\"1\" class=\"dataframe\">\n",
       "  <thead>\n",
       "    <tr style=\"text-align: right;\">\n",
       "      <th></th>\n",
       "      <th>S&amp;P Future</th>\n",
       "      <th>Aggressive Future</th>\n",
       "      <th>Moderate Future</th>\n",
       "      <th>Conservative Future</th>\n",
       "    </tr>\n",
       "  </thead>\n",
       "  <tbody>\n",
       "    <tr>\n",
       "      <th>0</th>\n",
       "      <td>0.071</td>\n",
       "      <td>0.056</td>\n",
       "      <td>0.055</td>\n",
       "      <td>0.071</td>\n",
       "    </tr>\n",
       "    <tr>\n",
       "      <th>1</th>\n",
       "      <td>-0.159</td>\n",
       "      <td>0.090</td>\n",
       "      <td>0.045</td>\n",
       "      <td>0.078</td>\n",
       "    </tr>\n",
       "    <tr>\n",
       "      <th>2</th>\n",
       "      <td>0.209</td>\n",
       "      <td>0.068</td>\n",
       "      <td>0.075</td>\n",
       "      <td>0.056</td>\n",
       "    </tr>\n",
       "    <tr>\n",
       "      <th>3</th>\n",
       "      <td>0.177</td>\n",
       "      <td>0.100</td>\n",
       "      <td>0.061</td>\n",
       "      <td>0.060</td>\n",
       "    </tr>\n",
       "    <tr>\n",
       "      <th>4</th>\n",
       "      <td>0.061</td>\n",
       "      <td>0.044</td>\n",
       "      <td>0.104</td>\n",
       "      <td>0.060</td>\n",
       "    </tr>\n",
       "    <tr>\n",
       "      <th>5</th>\n",
       "      <td>0.194</td>\n",
       "      <td>0.084</td>\n",
       "      <td>0.057</td>\n",
       "      <td>0.056</td>\n",
       "    </tr>\n",
       "    <tr>\n",
       "      <th>6</th>\n",
       "      <td>0.135</td>\n",
       "      <td>0.101</td>\n",
       "      <td>0.088</td>\n",
       "      <td>0.070</td>\n",
       "    </tr>\n",
       "    <tr>\n",
       "      <th>7</th>\n",
       "      <td>0.210</td>\n",
       "      <td>0.123</td>\n",
       "      <td>0.048</td>\n",
       "      <td>0.087</td>\n",
       "    </tr>\n",
       "    <tr>\n",
       "      <th>8</th>\n",
       "      <td>0.142</td>\n",
       "      <td>0.092</td>\n",
       "      <td>0.106</td>\n",
       "      <td>0.058</td>\n",
       "    </tr>\n",
       "    <tr>\n",
       "      <th>9</th>\n",
       "      <td>0.157</td>\n",
       "      <td>0.039</td>\n",
       "      <td>0.036</td>\n",
       "      <td>0.059</td>\n",
       "    </tr>\n",
       "  </tbody>\n",
       "</table>\n",
       "</div>"
      ],
      "text/plain": [
       "   S&P Future  Aggressive Future  Moderate Future  Conservative Future\n",
       "0       0.071              0.056            0.055                0.071\n",
       "1      -0.159              0.090            0.045                0.078\n",
       "2       0.209              0.068            0.075                0.056\n",
       "3       0.177              0.100            0.061                0.060\n",
       "4       0.061              0.044            0.104                0.060\n",
       "5       0.194              0.084            0.057                0.056\n",
       "6       0.135              0.101            0.088                0.070\n",
       "7       0.210              0.123            0.048                0.087\n",
       "8       0.142              0.092            0.106                0.058\n",
       "9       0.157              0.039            0.036                0.059"
      ]
     },
     "execution_count": 2448,
     "metadata": {},
     "output_type": "execute_result"
    }
   ],
   "source": [
    "future_returns.head(10)"
   ]
  },
  {
   "cell_type": "code",
   "execution_count": 2449,
   "id": "5e0f8aa6",
   "metadata": {},
   "outputs": [
    {
     "data": {
      "application/vnd.plotly.v1+json": {
       "config": {
        "plotlyServerURL": "https://plot.ly"
       },
       "data": [
        {
         "hovertemplate": "variable=Sample 1<br>Year=%{x}<br>Value of Investment=%{y}<extra></extra>",
         "legendgroup": "Sample 1",
         "line": {
          "color": "#636efa",
          "dash": "solid"
         },
         "marker": {
          "symbol": "circle"
         },
         "mode": "markers+lines",
         "name": "Sample 1",
         "orientation": "v",
         "showlegend": true,
         "type": "scatter",
         "x": [
          2024,
          2025,
          2026,
          2027,
          2028,
          2029,
          2030,
          2031,
          2032,
          2033,
          2034,
          2035,
          2036,
          2037,
          2038,
          2039,
          2040,
          2041,
          2042,
          2043,
          2044,
          2045,
          2046,
          2047,
          2048,
          2049,
          2050,
          2051,
          2052,
          2053
         ],
         "xaxis": "x",
         "y": [
          258027.94115444532,
          295693.1777445263,
          294416.87668498105,
          329109.6885073547,
          354231.6436560508,
          409863.40861975634,
          447677.18020964874,
          429377.8496331168,
          477379.39307952323,
          522082.8693850622,
          547437.2516564869,
          592256.691060507,
          671368.5769673021,
          694602.3887791656,
          691661.7471541659,
          768489.7759562447,
          795746.4497623146,
          861297.1450908228,
          929295.8513687692,
          971591.5221441456,
          941198.4783201483,
          1024399.9718129209,
          1079695.210426543,
          1166456.7614924805,
          1324345.0960132445,
          1366076.144302862,
          1432824.5622172211,
          1548132.9413599658,
          1702697.2313133425,
          1755121.038258514
         ],
         "yaxis": "y"
        },
        {
         "hovertemplate": "variable=Sample 2<br>Year=%{x}<br>Value of Investment=%{y}<extra></extra>",
         "legendgroup": "Sample 2",
         "line": {
          "color": "#EF553B",
          "dash": "solid"
         },
         "marker": {
          "symbol": "circle"
         },
         "mode": "markers+lines",
         "name": "Sample 2",
         "orientation": "v",
         "showlegend": true,
         "type": "scatter",
         "x": [
          2024,
          2025,
          2026,
          2027,
          2028,
          2029,
          2030,
          2031,
          2032,
          2033,
          2034,
          2035,
          2036,
          2037,
          2038,
          2039,
          2040,
          2041,
          2042,
          2043,
          2044,
          2045,
          2046,
          2047,
          2048,
          2049,
          2050,
          2051,
          2052,
          2053
         ],
         "xaxis": "x",
         "y": [
          265155.1944539446,
          280593.3894645592,
          311257.1872816847,
          348555.62734150456,
          337652.2114352884,
          368872.6933462283,
          392760.3269805678,
          417727.9996068446,
          444502.51370420726,
          496910.319701208,
          536233.8165258224,
          576331.6232118519,
          626137.5688204109,
          697298.3281807894,
          770973.1954818146,
          770195.5724533317,
          873076.0044915774,
          995889.0366165165,
          1139520.8184868298,
          1244027.488973271,
          1436224.364857916,
          1558639.0884901092,
          1742385.5263112816,
          1808990.1810602648,
          1801182.033092817,
          2047606.1372444478,
          2150809.987803766,
          2321686.91279086,
          2648831.3536200225,
          2609005.894477588
         ],
         "yaxis": "y"
        },
        {
         "hovertemplate": "variable=Sample 3<br>Year=%{x}<br>Value of Investment=%{y}<extra></extra>",
         "legendgroup": "Sample 3",
         "line": {
          "color": "#00cc96",
          "dash": "solid"
         },
         "marker": {
          "symbol": "circle"
         },
         "mode": "markers+lines",
         "name": "Sample 3",
         "orientation": "v",
         "showlegend": true,
         "type": "scatter",
         "x": [
          2024,
          2025,
          2026,
          2027,
          2028,
          2029,
          2030,
          2031,
          2032,
          2033,
          2034,
          2035,
          2036,
          2037,
          2038,
          2039,
          2040,
          2041,
          2042,
          2043,
          2044,
          2045,
          2046,
          2047,
          2048,
          2049,
          2050,
          2051,
          2052,
          2053
         ],
         "xaxis": "x",
         "y": [
          262605.1072222896,
          264852.56467295886,
          304299.92850481893,
          311905.9653504745,
          344430.4614983328,
          355035.0221257659,
          369023.60106222716,
          361461.2815790032,
          394188.69601648126,
          427443.5640911127,
          440876.9843575617,
          463098.15354682395,
          532941.4588494872,
          520275.3155003678,
          585873.9609357523,
          668583.9646328312,
          743309.5516029473,
          802183.1485778997,
          916527.3579968573,
          996007.3596272042,
          955294.3889058878,
          1051828.166890401,
          1205367.1851098454,
          1187244.362183947,
          1239793.4601194586,
          1357495.5119759473,
          1580073.6904075705,
          1672364.3495294703,
          1720438.921965769,
          1880917.1066455843
         ],
         "yaxis": "y"
        },
        {
         "hovertemplate": "variable=Sample 4<br>Year=%{x}<br>Value of Investment=%{y}<extra></extra>",
         "legendgroup": "Sample 4",
         "line": {
          "color": "#ab63fa",
          "dash": "solid"
         },
         "marker": {
          "symbol": "circle"
         },
         "mode": "markers+lines",
         "name": "Sample 4",
         "orientation": "v",
         "showlegend": true,
         "type": "scatter",
         "x": [
          2024,
          2025,
          2026,
          2027,
          2028,
          2029,
          2030,
          2031,
          2032,
          2033,
          2034,
          2035,
          2036,
          2037,
          2038,
          2039,
          2040,
          2041,
          2042,
          2043,
          2044,
          2045,
          2046,
          2047,
          2048,
          2049,
          2050,
          2051,
          2052,
          2053
         ],
         "xaxis": "x",
         "y": [
          278903.3045384042,
          307094.2281245412,
          309722.43752365164,
          334053.3796047358,
          332639.1442250331,
          393112.9423022535,
          447649.77264866873,
          463141.4279512212,
          437862.53879086056,
          465269.7273274169,
          522336.14397358254,
          594533.011704516,
          660982.1499172893,
          758488.1375164473,
          842882.225700922,
          923310.5871875798,
          1087047.9433779712,
          1142446.7510099395,
          1263001.054282156,
          1356693.082439641,
          1500685.404614504,
          1691878.7445053055,
          1814418.4053624994,
          1740251.9218523877,
          1635206.545863243,
          1785572.7181383541,
          1866840.6972438633,
          2039455.1930031439,
          2214599.9625809486,
          2235495.9485039343
         ],
         "yaxis": "y"
        },
        {
         "hovertemplate": "variable=Sample 5<br>Year=%{x}<br>Value of Investment=%{y}<extra></extra>",
         "legendgroup": "Sample 5",
         "line": {
          "color": "#FFA15A",
          "dash": "solid"
         },
         "marker": {
          "symbol": "circle"
         },
         "mode": "markers+lines",
         "name": "Sample 5",
         "orientation": "v",
         "showlegend": true,
         "type": "scatter",
         "x": [
          2024,
          2025,
          2026,
          2027,
          2028,
          2029,
          2030,
          2031,
          2032,
          2033,
          2034,
          2035,
          2036,
          2037,
          2038,
          2039,
          2040,
          2041,
          2042,
          2043,
          2044,
          2045,
          2046,
          2047,
          2048,
          2049,
          2050,
          2051,
          2052,
          2053
         ],
         "xaxis": "x",
         "y": [
          282951.4813761938,
          314434.4157690503,
          339258.75612989377,
          325391.15598441253,
          307630.86405311525,
          337701.3080527867,
          370829.1363402255,
          418380.586786079,
          460258.9493552406,
          497007.18452940224,
          558078.8172520872,
          602592.7587882119,
          608377.4601303416,
          589346.3731088449,
          664272.7147818028,
          756087.9373730151,
          842017.6027467888,
          913785.8825892541,
          996246.7382989784,
          1174631.8774075438,
          1251254.100288034,
          1401635.356670205,
          1540439.8592259518,
          1696144.0823521381,
          1819373.9124133782,
          2070692.762617269,
          2153898.5406671907,
          2144779.87967922,
          2430704.910982188,
          2514823.4449878135
         ],
         "yaxis": "y"
        }
       ],
       "layout": {
        "height": 500,
        "legend": {
         "title": {
          "text": "variable"
         },
         "tracegroupgap": 0
        },
        "template": {
         "data": {
          "bar": [
           {
            "error_x": {
             "color": "#2a3f5f"
            },
            "error_y": {
             "color": "#2a3f5f"
            },
            "marker": {
             "line": {
              "color": "#E5ECF6",
              "width": 0.5
             },
             "pattern": {
              "fillmode": "overlay",
              "size": 10,
              "solidity": 0.2
             }
            },
            "type": "bar"
           }
          ],
          "barpolar": [
           {
            "marker": {
             "line": {
              "color": "#E5ECF6",
              "width": 0.5
             },
             "pattern": {
              "fillmode": "overlay",
              "size": 10,
              "solidity": 0.2
             }
            },
            "type": "barpolar"
           }
          ],
          "carpet": [
           {
            "aaxis": {
             "endlinecolor": "#2a3f5f",
             "gridcolor": "white",
             "linecolor": "white",
             "minorgridcolor": "white",
             "startlinecolor": "#2a3f5f"
            },
            "baxis": {
             "endlinecolor": "#2a3f5f",
             "gridcolor": "white",
             "linecolor": "white",
             "minorgridcolor": "white",
             "startlinecolor": "#2a3f5f"
            },
            "type": "carpet"
           }
          ],
          "choropleth": [
           {
            "colorbar": {
             "outlinewidth": 0,
             "ticks": ""
            },
            "type": "choropleth"
           }
          ],
          "contour": [
           {
            "colorbar": {
             "outlinewidth": 0,
             "ticks": ""
            },
            "colorscale": [
             [
              0,
              "#0d0887"
             ],
             [
              0.1111111111111111,
              "#46039f"
             ],
             [
              0.2222222222222222,
              "#7201a8"
             ],
             [
              0.3333333333333333,
              "#9c179e"
             ],
             [
              0.4444444444444444,
              "#bd3786"
             ],
             [
              0.5555555555555556,
              "#d8576b"
             ],
             [
              0.6666666666666666,
              "#ed7953"
             ],
             [
              0.7777777777777778,
              "#fb9f3a"
             ],
             [
              0.8888888888888888,
              "#fdca26"
             ],
             [
              1,
              "#f0f921"
             ]
            ],
            "type": "contour"
           }
          ],
          "contourcarpet": [
           {
            "colorbar": {
             "outlinewidth": 0,
             "ticks": ""
            },
            "type": "contourcarpet"
           }
          ],
          "heatmap": [
           {
            "colorbar": {
             "outlinewidth": 0,
             "ticks": ""
            },
            "colorscale": [
             [
              0,
              "#0d0887"
             ],
             [
              0.1111111111111111,
              "#46039f"
             ],
             [
              0.2222222222222222,
              "#7201a8"
             ],
             [
              0.3333333333333333,
              "#9c179e"
             ],
             [
              0.4444444444444444,
              "#bd3786"
             ],
             [
              0.5555555555555556,
              "#d8576b"
             ],
             [
              0.6666666666666666,
              "#ed7953"
             ],
             [
              0.7777777777777778,
              "#fb9f3a"
             ],
             [
              0.8888888888888888,
              "#fdca26"
             ],
             [
              1,
              "#f0f921"
             ]
            ],
            "type": "heatmap"
           }
          ],
          "heatmapgl": [
           {
            "colorbar": {
             "outlinewidth": 0,
             "ticks": ""
            },
            "colorscale": [
             [
              0,
              "#0d0887"
             ],
             [
              0.1111111111111111,
              "#46039f"
             ],
             [
              0.2222222222222222,
              "#7201a8"
             ],
             [
              0.3333333333333333,
              "#9c179e"
             ],
             [
              0.4444444444444444,
              "#bd3786"
             ],
             [
              0.5555555555555556,
              "#d8576b"
             ],
             [
              0.6666666666666666,
              "#ed7953"
             ],
             [
              0.7777777777777778,
              "#fb9f3a"
             ],
             [
              0.8888888888888888,
              "#fdca26"
             ],
             [
              1,
              "#f0f921"
             ]
            ],
            "type": "heatmapgl"
           }
          ],
          "histogram": [
           {
            "marker": {
             "pattern": {
              "fillmode": "overlay",
              "size": 10,
              "solidity": 0.2
             }
            },
            "type": "histogram"
           }
          ],
          "histogram2d": [
           {
            "colorbar": {
             "outlinewidth": 0,
             "ticks": ""
            },
            "colorscale": [
             [
              0,
              "#0d0887"
             ],
             [
              0.1111111111111111,
              "#46039f"
             ],
             [
              0.2222222222222222,
              "#7201a8"
             ],
             [
              0.3333333333333333,
              "#9c179e"
             ],
             [
              0.4444444444444444,
              "#bd3786"
             ],
             [
              0.5555555555555556,
              "#d8576b"
             ],
             [
              0.6666666666666666,
              "#ed7953"
             ],
             [
              0.7777777777777778,
              "#fb9f3a"
             ],
             [
              0.8888888888888888,
              "#fdca26"
             ],
             [
              1,
              "#f0f921"
             ]
            ],
            "type": "histogram2d"
           }
          ],
          "histogram2dcontour": [
           {
            "colorbar": {
             "outlinewidth": 0,
             "ticks": ""
            },
            "colorscale": [
             [
              0,
              "#0d0887"
             ],
             [
              0.1111111111111111,
              "#46039f"
             ],
             [
              0.2222222222222222,
              "#7201a8"
             ],
             [
              0.3333333333333333,
              "#9c179e"
             ],
             [
              0.4444444444444444,
              "#bd3786"
             ],
             [
              0.5555555555555556,
              "#d8576b"
             ],
             [
              0.6666666666666666,
              "#ed7953"
             ],
             [
              0.7777777777777778,
              "#fb9f3a"
             ],
             [
              0.8888888888888888,
              "#fdca26"
             ],
             [
              1,
              "#f0f921"
             ]
            ],
            "type": "histogram2dcontour"
           }
          ],
          "mesh3d": [
           {
            "colorbar": {
             "outlinewidth": 0,
             "ticks": ""
            },
            "type": "mesh3d"
           }
          ],
          "parcoords": [
           {
            "line": {
             "colorbar": {
              "outlinewidth": 0,
              "ticks": ""
             }
            },
            "type": "parcoords"
           }
          ],
          "pie": [
           {
            "automargin": true,
            "type": "pie"
           }
          ],
          "scatter": [
           {
            "fillpattern": {
             "fillmode": "overlay",
             "size": 10,
             "solidity": 0.2
            },
            "type": "scatter"
           }
          ],
          "scatter3d": [
           {
            "line": {
             "colorbar": {
              "outlinewidth": 0,
              "ticks": ""
             }
            },
            "marker": {
             "colorbar": {
              "outlinewidth": 0,
              "ticks": ""
             }
            },
            "type": "scatter3d"
           }
          ],
          "scattercarpet": [
           {
            "marker": {
             "colorbar": {
              "outlinewidth": 0,
              "ticks": ""
             }
            },
            "type": "scattercarpet"
           }
          ],
          "scattergeo": [
           {
            "marker": {
             "colorbar": {
              "outlinewidth": 0,
              "ticks": ""
             }
            },
            "type": "scattergeo"
           }
          ],
          "scattergl": [
           {
            "marker": {
             "colorbar": {
              "outlinewidth": 0,
              "ticks": ""
             }
            },
            "type": "scattergl"
           }
          ],
          "scattermapbox": [
           {
            "marker": {
             "colorbar": {
              "outlinewidth": 0,
              "ticks": ""
             }
            },
            "type": "scattermapbox"
           }
          ],
          "scatterpolar": [
           {
            "marker": {
             "colorbar": {
              "outlinewidth": 0,
              "ticks": ""
             }
            },
            "type": "scatterpolar"
           }
          ],
          "scatterpolargl": [
           {
            "marker": {
             "colorbar": {
              "outlinewidth": 0,
              "ticks": ""
             }
            },
            "type": "scatterpolargl"
           }
          ],
          "scatterternary": [
           {
            "marker": {
             "colorbar": {
              "outlinewidth": 0,
              "ticks": ""
             }
            },
            "type": "scatterternary"
           }
          ],
          "surface": [
           {
            "colorbar": {
             "outlinewidth": 0,
             "ticks": ""
            },
            "colorscale": [
             [
              0,
              "#0d0887"
             ],
             [
              0.1111111111111111,
              "#46039f"
             ],
             [
              0.2222222222222222,
              "#7201a8"
             ],
             [
              0.3333333333333333,
              "#9c179e"
             ],
             [
              0.4444444444444444,
              "#bd3786"
             ],
             [
              0.5555555555555556,
              "#d8576b"
             ],
             [
              0.6666666666666666,
              "#ed7953"
             ],
             [
              0.7777777777777778,
              "#fb9f3a"
             ],
             [
              0.8888888888888888,
              "#fdca26"
             ],
             [
              1,
              "#f0f921"
             ]
            ],
            "type": "surface"
           }
          ],
          "table": [
           {
            "cells": {
             "fill": {
              "color": "#EBF0F8"
             },
             "line": {
              "color": "white"
             }
            },
            "header": {
             "fill": {
              "color": "#C8D4E3"
             },
             "line": {
              "color": "white"
             }
            },
            "type": "table"
           }
          ]
         },
         "layout": {
          "annotationdefaults": {
           "arrowcolor": "#2a3f5f",
           "arrowhead": 0,
           "arrowwidth": 1
          },
          "autotypenumbers": "strict",
          "coloraxis": {
           "colorbar": {
            "outlinewidth": 0,
            "ticks": ""
           }
          },
          "colorscale": {
           "diverging": [
            [
             0,
             "#8e0152"
            ],
            [
             0.1,
             "#c51b7d"
            ],
            [
             0.2,
             "#de77ae"
            ],
            [
             0.3,
             "#f1b6da"
            ],
            [
             0.4,
             "#fde0ef"
            ],
            [
             0.5,
             "#f7f7f7"
            ],
            [
             0.6,
             "#e6f5d0"
            ],
            [
             0.7,
             "#b8e186"
            ],
            [
             0.8,
             "#7fbc41"
            ],
            [
             0.9,
             "#4d9221"
            ],
            [
             1,
             "#276419"
            ]
           ],
           "sequential": [
            [
             0,
             "#0d0887"
            ],
            [
             0.1111111111111111,
             "#46039f"
            ],
            [
             0.2222222222222222,
             "#7201a8"
            ],
            [
             0.3333333333333333,
             "#9c179e"
            ],
            [
             0.4444444444444444,
             "#bd3786"
            ],
            [
             0.5555555555555556,
             "#d8576b"
            ],
            [
             0.6666666666666666,
             "#ed7953"
            ],
            [
             0.7777777777777778,
             "#fb9f3a"
            ],
            [
             0.8888888888888888,
             "#fdca26"
            ],
            [
             1,
             "#f0f921"
            ]
           ],
           "sequentialminus": [
            [
             0,
             "#0d0887"
            ],
            [
             0.1111111111111111,
             "#46039f"
            ],
            [
             0.2222222222222222,
             "#7201a8"
            ],
            [
             0.3333333333333333,
             "#9c179e"
            ],
            [
             0.4444444444444444,
             "#bd3786"
            ],
            [
             0.5555555555555556,
             "#d8576b"
            ],
            [
             0.6666666666666666,
             "#ed7953"
            ],
            [
             0.7777777777777778,
             "#fb9f3a"
            ],
            [
             0.8888888888888888,
             "#fdca26"
            ],
            [
             1,
             "#f0f921"
            ]
           ]
          },
          "colorway": [
           "#636efa",
           "#EF553B",
           "#00cc96",
           "#ab63fa",
           "#FFA15A",
           "#19d3f3",
           "#FF6692",
           "#B6E880",
           "#FF97FF",
           "#FECB52"
          ],
          "font": {
           "color": "#2a3f5f"
          },
          "geo": {
           "bgcolor": "white",
           "lakecolor": "white",
           "landcolor": "#E5ECF6",
           "showlakes": true,
           "showland": true,
           "subunitcolor": "white"
          },
          "hoverlabel": {
           "align": "left"
          },
          "hovermode": "closest",
          "mapbox": {
           "style": "light"
          },
          "paper_bgcolor": "white",
          "plot_bgcolor": "#E5ECF6",
          "polar": {
           "angularaxis": {
            "gridcolor": "white",
            "linecolor": "white",
            "ticks": ""
           },
           "bgcolor": "#E5ECF6",
           "radialaxis": {
            "gridcolor": "white",
            "linecolor": "white",
            "ticks": ""
           }
          },
          "scene": {
           "xaxis": {
            "backgroundcolor": "#E5ECF6",
            "gridcolor": "white",
            "gridwidth": 2,
            "linecolor": "white",
            "showbackground": true,
            "ticks": "",
            "zerolinecolor": "white"
           },
           "yaxis": {
            "backgroundcolor": "#E5ECF6",
            "gridcolor": "white",
            "gridwidth": 2,
            "linecolor": "white",
            "showbackground": true,
            "ticks": "",
            "zerolinecolor": "white"
           },
           "zaxis": {
            "backgroundcolor": "#E5ECF6",
            "gridcolor": "white",
            "gridwidth": 2,
            "linecolor": "white",
            "showbackground": true,
            "ticks": "",
            "zerolinecolor": "white"
           }
          },
          "shapedefaults": {
           "line": {
            "color": "#2a3f5f"
           }
          },
          "ternary": {
           "aaxis": {
            "gridcolor": "white",
            "linecolor": "white",
            "ticks": ""
           },
           "baxis": {
            "gridcolor": "white",
            "linecolor": "white",
            "ticks": ""
           },
           "bgcolor": "#E5ECF6",
           "caxis": {
            "gridcolor": "white",
            "linecolor": "white",
            "ticks": ""
           }
          },
          "title": {
           "x": 0.05
          },
          "xaxis": {
           "automargin": true,
           "gridcolor": "white",
           "linecolor": "white",
           "ticks": "",
           "title": {
            "standoff": 15
           },
           "zerolinecolor": "white",
           "zerolinewidth": 2
          },
          "yaxis": {
           "automargin": true,
           "gridcolor": "white",
           "linecolor": "white",
           "ticks": "",
           "title": {
            "standoff": 15
           },
           "zerolinecolor": "white",
           "zerolinewidth": 2
          }
         }
        },
        "title": {
         "text": "Future Value of $250,000 Investment in Portfolio"
        },
        "width": 900,
        "xaxis": {
         "anchor": "y",
         "domain": [
          0,
          1
         ],
         "title": {
          "text": "Year"
         }
        },
        "yaxis": {
         "anchor": "x",
         "domain": [
          0,
          1
         ],
         "title": {
          "text": "Value of Investment"
         }
        }
       }
      },
      "text/html": [
       "<div>                            <div id=\"69e9fecc-1965-4319-9397-4a7b6b3e8187\" class=\"plotly-graph-div\" style=\"height:500px; width:900px;\"></div>            <script type=\"text/javascript\">                require([\"plotly\"], function(Plotly) {                    window.PLOTLYENV=window.PLOTLYENV || {};                                    if (document.getElementById(\"69e9fecc-1965-4319-9397-4a7b6b3e8187\")) {                    Plotly.newPlot(                        \"69e9fecc-1965-4319-9397-4a7b6b3e8187\",                        [{\"hovertemplate\":\"variable=Sample 1<br>Year=%{x}<br>Value of Investment=%{y}<extra></extra>\",\"legendgroup\":\"Sample 1\",\"line\":{\"color\":\"#636efa\",\"dash\":\"solid\"},\"marker\":{\"symbol\":\"circle\"},\"mode\":\"markers+lines\",\"name\":\"Sample 1\",\"orientation\":\"v\",\"showlegend\":true,\"x\":[2024,2025,2026,2027,2028,2029,2030,2031,2032,2033,2034,2035,2036,2037,2038,2039,2040,2041,2042,2043,2044,2045,2046,2047,2048,2049,2050,2051,2052,2053],\"xaxis\":\"x\",\"y\":[258027.94115444532,295693.1777445263,294416.87668498105,329109.6885073547,354231.6436560508,409863.40861975634,447677.18020964874,429377.8496331168,477379.39307952323,522082.8693850622,547437.2516564869,592256.691060507,671368.5769673021,694602.3887791656,691661.7471541659,768489.7759562447,795746.4497623146,861297.1450908228,929295.8513687692,971591.5221441456,941198.4783201483,1024399.9718129209,1079695.210426543,1166456.7614924805,1324345.0960132445,1366076.144302862,1432824.5622172211,1548132.9413599658,1702697.2313133425,1755121.038258514],\"yaxis\":\"y\",\"type\":\"scatter\"},{\"hovertemplate\":\"variable=Sample 2<br>Year=%{x}<br>Value of Investment=%{y}<extra></extra>\",\"legendgroup\":\"Sample 2\",\"line\":{\"color\":\"#EF553B\",\"dash\":\"solid\"},\"marker\":{\"symbol\":\"circle\"},\"mode\":\"markers+lines\",\"name\":\"Sample 2\",\"orientation\":\"v\",\"showlegend\":true,\"x\":[2024,2025,2026,2027,2028,2029,2030,2031,2032,2033,2034,2035,2036,2037,2038,2039,2040,2041,2042,2043,2044,2045,2046,2047,2048,2049,2050,2051,2052,2053],\"xaxis\":\"x\",\"y\":[265155.1944539446,280593.3894645592,311257.1872816847,348555.62734150456,337652.2114352884,368872.6933462283,392760.3269805678,417727.9996068446,444502.51370420726,496910.319701208,536233.8165258224,576331.6232118519,626137.5688204109,697298.3281807894,770973.1954818146,770195.5724533317,873076.0044915774,995889.0366165165,1139520.8184868298,1244027.488973271,1436224.364857916,1558639.0884901092,1742385.5263112816,1808990.1810602648,1801182.033092817,2047606.1372444478,2150809.987803766,2321686.91279086,2648831.3536200225,2609005.894477588],\"yaxis\":\"y\",\"type\":\"scatter\"},{\"hovertemplate\":\"variable=Sample 3<br>Year=%{x}<br>Value of Investment=%{y}<extra></extra>\",\"legendgroup\":\"Sample 3\",\"line\":{\"color\":\"#00cc96\",\"dash\":\"solid\"},\"marker\":{\"symbol\":\"circle\"},\"mode\":\"markers+lines\",\"name\":\"Sample 3\",\"orientation\":\"v\",\"showlegend\":true,\"x\":[2024,2025,2026,2027,2028,2029,2030,2031,2032,2033,2034,2035,2036,2037,2038,2039,2040,2041,2042,2043,2044,2045,2046,2047,2048,2049,2050,2051,2052,2053],\"xaxis\":\"x\",\"y\":[262605.1072222896,264852.56467295886,304299.92850481893,311905.9653504745,344430.4614983328,355035.0221257659,369023.60106222716,361461.2815790032,394188.69601648126,427443.5640911127,440876.9843575617,463098.15354682395,532941.4588494872,520275.3155003678,585873.9609357523,668583.9646328312,743309.5516029473,802183.1485778997,916527.3579968573,996007.3596272042,955294.3889058878,1051828.166890401,1205367.1851098454,1187244.362183947,1239793.4601194586,1357495.5119759473,1580073.6904075705,1672364.3495294703,1720438.921965769,1880917.1066455843],\"yaxis\":\"y\",\"type\":\"scatter\"},{\"hovertemplate\":\"variable=Sample 4<br>Year=%{x}<br>Value of Investment=%{y}<extra></extra>\",\"legendgroup\":\"Sample 4\",\"line\":{\"color\":\"#ab63fa\",\"dash\":\"solid\"},\"marker\":{\"symbol\":\"circle\"},\"mode\":\"markers+lines\",\"name\":\"Sample 4\",\"orientation\":\"v\",\"showlegend\":true,\"x\":[2024,2025,2026,2027,2028,2029,2030,2031,2032,2033,2034,2035,2036,2037,2038,2039,2040,2041,2042,2043,2044,2045,2046,2047,2048,2049,2050,2051,2052,2053],\"xaxis\":\"x\",\"y\":[278903.3045384042,307094.2281245412,309722.43752365164,334053.3796047358,332639.1442250331,393112.9423022535,447649.77264866873,463141.4279512212,437862.53879086056,465269.7273274169,522336.14397358254,594533.011704516,660982.1499172893,758488.1375164473,842882.225700922,923310.5871875798,1087047.9433779712,1142446.7510099395,1263001.054282156,1356693.082439641,1500685.404614504,1691878.7445053055,1814418.4053624994,1740251.9218523877,1635206.545863243,1785572.7181383541,1866840.6972438633,2039455.1930031439,2214599.9625809486,2235495.9485039343],\"yaxis\":\"y\",\"type\":\"scatter\"},{\"hovertemplate\":\"variable=Sample 5<br>Year=%{x}<br>Value of Investment=%{y}<extra></extra>\",\"legendgroup\":\"Sample 5\",\"line\":{\"color\":\"#FFA15A\",\"dash\":\"solid\"},\"marker\":{\"symbol\":\"circle\"},\"mode\":\"markers+lines\",\"name\":\"Sample 5\",\"orientation\":\"v\",\"showlegend\":true,\"x\":[2024,2025,2026,2027,2028,2029,2030,2031,2032,2033,2034,2035,2036,2037,2038,2039,2040,2041,2042,2043,2044,2045,2046,2047,2048,2049,2050,2051,2052,2053],\"xaxis\":\"x\",\"y\":[282951.4813761938,314434.4157690503,339258.75612989377,325391.15598441253,307630.86405311525,337701.3080527867,370829.1363402255,418380.586786079,460258.9493552406,497007.18452940224,558078.8172520872,602592.7587882119,608377.4601303416,589346.3731088449,664272.7147818028,756087.9373730151,842017.6027467888,913785.8825892541,996246.7382989784,1174631.8774075438,1251254.100288034,1401635.356670205,1540439.8592259518,1696144.0823521381,1819373.9124133782,2070692.762617269,2153898.5406671907,2144779.87967922,2430704.910982188,2514823.4449878135],\"yaxis\":\"y\",\"type\":\"scatter\"}],                        {\"template\":{\"data\":{\"histogram2dcontour\":[{\"type\":\"histogram2dcontour\",\"colorbar\":{\"outlinewidth\":0,\"ticks\":\"\"},\"colorscale\":[[0.0,\"#0d0887\"],[0.1111111111111111,\"#46039f\"],[0.2222222222222222,\"#7201a8\"],[0.3333333333333333,\"#9c179e\"],[0.4444444444444444,\"#bd3786\"],[0.5555555555555556,\"#d8576b\"],[0.6666666666666666,\"#ed7953\"],[0.7777777777777778,\"#fb9f3a\"],[0.8888888888888888,\"#fdca26\"],[1.0,\"#f0f921\"]]}],\"choropleth\":[{\"type\":\"choropleth\",\"colorbar\":{\"outlinewidth\":0,\"ticks\":\"\"}}],\"histogram2d\":[{\"type\":\"histogram2d\",\"colorbar\":{\"outlinewidth\":0,\"ticks\":\"\"},\"colorscale\":[[0.0,\"#0d0887\"],[0.1111111111111111,\"#46039f\"],[0.2222222222222222,\"#7201a8\"],[0.3333333333333333,\"#9c179e\"],[0.4444444444444444,\"#bd3786\"],[0.5555555555555556,\"#d8576b\"],[0.6666666666666666,\"#ed7953\"],[0.7777777777777778,\"#fb9f3a\"],[0.8888888888888888,\"#fdca26\"],[1.0,\"#f0f921\"]]}],\"heatmap\":[{\"type\":\"heatmap\",\"colorbar\":{\"outlinewidth\":0,\"ticks\":\"\"},\"colorscale\":[[0.0,\"#0d0887\"],[0.1111111111111111,\"#46039f\"],[0.2222222222222222,\"#7201a8\"],[0.3333333333333333,\"#9c179e\"],[0.4444444444444444,\"#bd3786\"],[0.5555555555555556,\"#d8576b\"],[0.6666666666666666,\"#ed7953\"],[0.7777777777777778,\"#fb9f3a\"],[0.8888888888888888,\"#fdca26\"],[1.0,\"#f0f921\"]]}],\"heatmapgl\":[{\"type\":\"heatmapgl\",\"colorbar\":{\"outlinewidth\":0,\"ticks\":\"\"},\"colorscale\":[[0.0,\"#0d0887\"],[0.1111111111111111,\"#46039f\"],[0.2222222222222222,\"#7201a8\"],[0.3333333333333333,\"#9c179e\"],[0.4444444444444444,\"#bd3786\"],[0.5555555555555556,\"#d8576b\"],[0.6666666666666666,\"#ed7953\"],[0.7777777777777778,\"#fb9f3a\"],[0.8888888888888888,\"#fdca26\"],[1.0,\"#f0f921\"]]}],\"contourcarpet\":[{\"type\":\"contourcarpet\",\"colorbar\":{\"outlinewidth\":0,\"ticks\":\"\"}}],\"contour\":[{\"type\":\"contour\",\"colorbar\":{\"outlinewidth\":0,\"ticks\":\"\"},\"colorscale\":[[0.0,\"#0d0887\"],[0.1111111111111111,\"#46039f\"],[0.2222222222222222,\"#7201a8\"],[0.3333333333333333,\"#9c179e\"],[0.4444444444444444,\"#bd3786\"],[0.5555555555555556,\"#d8576b\"],[0.6666666666666666,\"#ed7953\"],[0.7777777777777778,\"#fb9f3a\"],[0.8888888888888888,\"#fdca26\"],[1.0,\"#f0f921\"]]}],\"surface\":[{\"type\":\"surface\",\"colorbar\":{\"outlinewidth\":0,\"ticks\":\"\"},\"colorscale\":[[0.0,\"#0d0887\"],[0.1111111111111111,\"#46039f\"],[0.2222222222222222,\"#7201a8\"],[0.3333333333333333,\"#9c179e\"],[0.4444444444444444,\"#bd3786\"],[0.5555555555555556,\"#d8576b\"],[0.6666666666666666,\"#ed7953\"],[0.7777777777777778,\"#fb9f3a\"],[0.8888888888888888,\"#fdca26\"],[1.0,\"#f0f921\"]]}],\"mesh3d\":[{\"type\":\"mesh3d\",\"colorbar\":{\"outlinewidth\":0,\"ticks\":\"\"}}],\"scatter\":[{\"fillpattern\":{\"fillmode\":\"overlay\",\"size\":10,\"solidity\":0.2},\"type\":\"scatter\"}],\"parcoords\":[{\"type\":\"parcoords\",\"line\":{\"colorbar\":{\"outlinewidth\":0,\"ticks\":\"\"}}}],\"scatterpolargl\":[{\"type\":\"scatterpolargl\",\"marker\":{\"colorbar\":{\"outlinewidth\":0,\"ticks\":\"\"}}}],\"bar\":[{\"error_x\":{\"color\":\"#2a3f5f\"},\"error_y\":{\"color\":\"#2a3f5f\"},\"marker\":{\"line\":{\"color\":\"#E5ECF6\",\"width\":0.5},\"pattern\":{\"fillmode\":\"overlay\",\"size\":10,\"solidity\":0.2}},\"type\":\"bar\"}],\"scattergeo\":[{\"type\":\"scattergeo\",\"marker\":{\"colorbar\":{\"outlinewidth\":0,\"ticks\":\"\"}}}],\"scatterpolar\":[{\"type\":\"scatterpolar\",\"marker\":{\"colorbar\":{\"outlinewidth\":0,\"ticks\":\"\"}}}],\"histogram\":[{\"marker\":{\"pattern\":{\"fillmode\":\"overlay\",\"size\":10,\"solidity\":0.2}},\"type\":\"histogram\"}],\"scattergl\":[{\"type\":\"scattergl\",\"marker\":{\"colorbar\":{\"outlinewidth\":0,\"ticks\":\"\"}}}],\"scatter3d\":[{\"type\":\"scatter3d\",\"line\":{\"colorbar\":{\"outlinewidth\":0,\"ticks\":\"\"}},\"marker\":{\"colorbar\":{\"outlinewidth\":0,\"ticks\":\"\"}}}],\"scattermapbox\":[{\"type\":\"scattermapbox\",\"marker\":{\"colorbar\":{\"outlinewidth\":0,\"ticks\":\"\"}}}],\"scatterternary\":[{\"type\":\"scatterternary\",\"marker\":{\"colorbar\":{\"outlinewidth\":0,\"ticks\":\"\"}}}],\"scattercarpet\":[{\"type\":\"scattercarpet\",\"marker\":{\"colorbar\":{\"outlinewidth\":0,\"ticks\":\"\"}}}],\"carpet\":[{\"aaxis\":{\"endlinecolor\":\"#2a3f5f\",\"gridcolor\":\"white\",\"linecolor\":\"white\",\"minorgridcolor\":\"white\",\"startlinecolor\":\"#2a3f5f\"},\"baxis\":{\"endlinecolor\":\"#2a3f5f\",\"gridcolor\":\"white\",\"linecolor\":\"white\",\"minorgridcolor\":\"white\",\"startlinecolor\":\"#2a3f5f\"},\"type\":\"carpet\"}],\"table\":[{\"cells\":{\"fill\":{\"color\":\"#EBF0F8\"},\"line\":{\"color\":\"white\"}},\"header\":{\"fill\":{\"color\":\"#C8D4E3\"},\"line\":{\"color\":\"white\"}},\"type\":\"table\"}],\"barpolar\":[{\"marker\":{\"line\":{\"color\":\"#E5ECF6\",\"width\":0.5},\"pattern\":{\"fillmode\":\"overlay\",\"size\":10,\"solidity\":0.2}},\"type\":\"barpolar\"}],\"pie\":[{\"automargin\":true,\"type\":\"pie\"}]},\"layout\":{\"autotypenumbers\":\"strict\",\"colorway\":[\"#636efa\",\"#EF553B\",\"#00cc96\",\"#ab63fa\",\"#FFA15A\",\"#19d3f3\",\"#FF6692\",\"#B6E880\",\"#FF97FF\",\"#FECB52\"],\"font\":{\"color\":\"#2a3f5f\"},\"hovermode\":\"closest\",\"hoverlabel\":{\"align\":\"left\"},\"paper_bgcolor\":\"white\",\"plot_bgcolor\":\"#E5ECF6\",\"polar\":{\"bgcolor\":\"#E5ECF6\",\"angularaxis\":{\"gridcolor\":\"white\",\"linecolor\":\"white\",\"ticks\":\"\"},\"radialaxis\":{\"gridcolor\":\"white\",\"linecolor\":\"white\",\"ticks\":\"\"}},\"ternary\":{\"bgcolor\":\"#E5ECF6\",\"aaxis\":{\"gridcolor\":\"white\",\"linecolor\":\"white\",\"ticks\":\"\"},\"baxis\":{\"gridcolor\":\"white\",\"linecolor\":\"white\",\"ticks\":\"\"},\"caxis\":{\"gridcolor\":\"white\",\"linecolor\":\"white\",\"ticks\":\"\"}},\"coloraxis\":{\"colorbar\":{\"outlinewidth\":0,\"ticks\":\"\"}},\"colorscale\":{\"sequential\":[[0.0,\"#0d0887\"],[0.1111111111111111,\"#46039f\"],[0.2222222222222222,\"#7201a8\"],[0.3333333333333333,\"#9c179e\"],[0.4444444444444444,\"#bd3786\"],[0.5555555555555556,\"#d8576b\"],[0.6666666666666666,\"#ed7953\"],[0.7777777777777778,\"#fb9f3a\"],[0.8888888888888888,\"#fdca26\"],[1.0,\"#f0f921\"]],\"sequentialminus\":[[0.0,\"#0d0887\"],[0.1111111111111111,\"#46039f\"],[0.2222222222222222,\"#7201a8\"],[0.3333333333333333,\"#9c179e\"],[0.4444444444444444,\"#bd3786\"],[0.5555555555555556,\"#d8576b\"],[0.6666666666666666,\"#ed7953\"],[0.7777777777777778,\"#fb9f3a\"],[0.8888888888888888,\"#fdca26\"],[1.0,\"#f0f921\"]],\"diverging\":[[0,\"#8e0152\"],[0.1,\"#c51b7d\"],[0.2,\"#de77ae\"],[0.3,\"#f1b6da\"],[0.4,\"#fde0ef\"],[0.5,\"#f7f7f7\"],[0.6,\"#e6f5d0\"],[0.7,\"#b8e186\"],[0.8,\"#7fbc41\"],[0.9,\"#4d9221\"],[1,\"#276419\"]]},\"xaxis\":{\"gridcolor\":\"white\",\"linecolor\":\"white\",\"ticks\":\"\",\"title\":{\"standoff\":15},\"zerolinecolor\":\"white\",\"automargin\":true,\"zerolinewidth\":2},\"yaxis\":{\"gridcolor\":\"white\",\"linecolor\":\"white\",\"ticks\":\"\",\"title\":{\"standoff\":15},\"zerolinecolor\":\"white\",\"automargin\":true,\"zerolinewidth\":2},\"scene\":{\"xaxis\":{\"backgroundcolor\":\"#E5ECF6\",\"gridcolor\":\"white\",\"linecolor\":\"white\",\"showbackground\":true,\"ticks\":\"\",\"zerolinecolor\":\"white\",\"gridwidth\":2},\"yaxis\":{\"backgroundcolor\":\"#E5ECF6\",\"gridcolor\":\"white\",\"linecolor\":\"white\",\"showbackground\":true,\"ticks\":\"\",\"zerolinecolor\":\"white\",\"gridwidth\":2},\"zaxis\":{\"backgroundcolor\":\"#E5ECF6\",\"gridcolor\":\"white\",\"linecolor\":\"white\",\"showbackground\":true,\"ticks\":\"\",\"zerolinecolor\":\"white\",\"gridwidth\":2}},\"shapedefaults\":{\"line\":{\"color\":\"#2a3f5f\"}},\"annotationdefaults\":{\"arrowcolor\":\"#2a3f5f\",\"arrowhead\":0,\"arrowwidth\":1},\"geo\":{\"bgcolor\":\"white\",\"landcolor\":\"#E5ECF6\",\"subunitcolor\":\"white\",\"showland\":true,\"showlakes\":true,\"lakecolor\":\"white\"},\"title\":{\"x\":0.05},\"mapbox\":{\"style\":\"light\"}}},\"xaxis\":{\"anchor\":\"y\",\"domain\":[0.0,1.0],\"title\":{\"text\":\"Year\"}},\"yaxis\":{\"anchor\":\"x\",\"domain\":[0.0,1.0],\"title\":{\"text\":\"Value of Investment\"}},\"legend\":{\"title\":{\"text\":\"variable\"},\"tracegroupgap\":0},\"title\":{\"text\":\"Future Value of $250,000 Investment in Portfolio\"},\"height\":500,\"width\":900},                        {\"responsive\": true}                    ).then(function(){\n",
       "                            \n",
       "var gd = document.getElementById('69e9fecc-1965-4319-9397-4a7b6b3e8187');\n",
       "var x = new MutationObserver(function (mutations, observer) {{\n",
       "        var display = window.getComputedStyle(gd).display;\n",
       "        if (!display || display === 'none') {{\n",
       "            console.log([gd, 'removed!']);\n",
       "            Plotly.purge(gd);\n",
       "            observer.disconnect();\n",
       "        }}\n",
       "}});\n",
       "\n",
       "// Listen for the removal of the full notebook cells\n",
       "var notebookContainer = gd.closest('#notebook-container');\n",
       "if (notebookContainer) {{\n",
       "    x.observe(notebookContainer, {childList: true});\n",
       "}}\n",
       "\n",
       "// Listen for the clearing of the current output cell\n",
       "var outputEl = gd.closest('.output');\n",
       "if (outputEl) {{\n",
       "    x.observe(outputEl, {childList: true});\n",
       "}}\n",
       "\n",
       "                        })                };                });            </script>        </div>"
      ]
     },
     "metadata": {},
     "output_type": "display_data"
    },
    {
     "name": "stdout",
     "output_type": "stream",
     "text": [
      "The highest projected value in 2053 is: $2,609,006\n",
      "The lowest projected value in 2053 is: $1,755,121\n",
      "The average projected value in 2053 is: $2,182,063\n",
      "The average return rate for the portfolio is: 7.62%\n"
     ]
    }
   ],
   "source": [
    "\n",
    "#pulling the returns from the futures dataframe, preparation for the forecasting function\n",
    "aggressive = list(future_returns['Aggressive Future'])\n",
    "moderate = list(future_returns['Moderate Future'])\n",
    "conservative = list(future_returns['Conservative Future'])\n",
    "\n",
    "\n",
    "\n",
    "#based on the rate distrinbution patterns, the negative counter function is only used for the aggressive return rates\n",
    "def negative_counter(list):\n",
    "    neg_counter = 0\n",
    "    for r in range(len(list)):\n",
    "        if list[r] < 0:\n",
    "            neg_counter += 1\n",
    "    percent_negative = (neg_counter/len(list))*100\n",
    "    return percent_negative\n",
    "\n",
    "def positive_change_counter(list):\n",
    "    pos_change_counter = 0\n",
    "    for i in range(len(list)-1):\n",
    "        if list[i] < list[i+1]:\n",
    "            pos_change_counter += 1\n",
    "    percent_pos_change = (pos_change_counter/len(list))*100\n",
    "    return percent_pos_change\n",
    "\n",
    "def retirement_forecast(investor, investment, years):\n",
    "    sample_count = 0\n",
    "    forecast_rates = []\n",
    "    forecast_samples = {}\n",
    "    #creating a sample that follows the same patterns of positive and negative change, as well as negative returns \n",
    "    while sample_count < 5:\n",
    "        forecast_rates = random.sample(investor, years)\n",
    "        negative = negative_counter(forecast_rates)\n",
    "        positive_change = positive_change_counter(forecast_rates)\n",
    "        if investor == conservative or investor == moderate:\n",
    "            if positive_change >= 40 and positive_change <= 50:\n",
    "                column_name = 'Sample ' + str(sample_count+1)\n",
    "                forecast_samples[column_name] = forecast_rates\n",
    "                sample_count += 1\n",
    "        else:\n",
    "            if negative > 10 and positive_change >= 40 and positive_change <= 50:\n",
    "                column_name = 'Sample ' + str(sample_count+1)\n",
    "                forecast_samples[column_name] = forecast_rates\n",
    "                sample_count += 1\n",
    "\n",
    "    #create dataframe from the dictionary\n",
    "    forecast_df = pd.DataFrame(forecast_samples)\n",
    "    #create  year column, starting with the current year and adding a year for each row\n",
    "    forecast_df['Year'] = datetime.now().year + forecast_df.index\n",
    "    forecast_df.set_index('Year', inplace=True)\n",
    "    #pull in initial investment\n",
    "    initial_investment = investment\n",
    "    #create a new dataframe to hold the future value of the investment  \n",
    "    future_value = pd.DataFrame()   \n",
    "    for i in range(5):\n",
    "        future_value['Sample ' + str(i+1)] = initial_investment*(1 + forecast_df['Sample ' + str(i+1)]).cumprod()\n",
    "    future_value['Year'] = forecast_df.index\n",
    "    future_value.set_index('Year', inplace=True)\n",
    "    #create a plot of the future values of the investment\n",
    "    fig = px.line(future_value, title=f'Future Value of ${initial_investment:,} Investment in Portfolio',\n",
    "                labels={'value':'Value of Investment', 'Year':'Year'},\n",
    "                width=900, height=500, markers=True)\n",
    "    fig.show()\n",
    "\n",
    "    #print the highest and lowest investment value for the final year, in addition to the average return rate\n",
    "    final_year = future_value.index[-1]\n",
    "    highest_value = future_value.iloc[-1].max()\n",
    "    lowest_value = future_value.iloc[-1].min()\n",
    "    average_value = (highest_value + lowest_value)/2\n",
    "    return_forecast = (forecast_df.mean().mean())*100\n",
    "\n",
    "    print(f'The highest projected value in {final_year} is: ${highest_value:,.0f}')\n",
    "    print(f'The lowest projected value in {final_year} is: ${lowest_value:,.0f}')\n",
    "    print(f'The average projected value in {final_year} is: ${average_value:,.0f}')\n",
    "    print(f'The average return rate for the portfolio is: {return_forecast:.2f}%')\n",
    "\n",
    "retirement_forecast(aggressive, 250000,30)\n",
    "\n",
    "\n"
   ]
  }
 ],
 "metadata": {
  "kernelspec": {
   "display_name": "Python 3 (ipykernel)",
   "language": "python",
   "name": "python3"
  },
  "language_info": {
   "codemirror_mode": {
    "name": "ipython",
    "version": 3
   },
   "file_extension": ".py",
   "mimetype": "text/x-python",
   "name": "python",
   "nbconvert_exporter": "python",
   "pygments_lexer": "ipython3",
   "version": "3.9.13"
  }
 },
 "nbformat": 4,
 "nbformat_minor": 5
}
